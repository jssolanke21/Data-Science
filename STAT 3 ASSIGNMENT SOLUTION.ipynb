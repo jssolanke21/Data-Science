{
 "cells": [
  {
   "cell_type": "markdown",
   "metadata": {},
   "source": [
    "# Problem Statement 1:\n",
    "    \n",
    "Blood glucose levels for obese patients have a mean of 100 with a standard deviation of 15. \n",
    "A researcher thinks that a diet high in raw cornstarch will have a positive effect on\n",
    "blood glucose levels. A sample of 36 patients who have tried the raw cornstarch diet\n",
    "have a mean glucose level of 108. Test the hypothesis that the raw cornstarch had an\n",
    "effect or not."
   ]
  },
  {
   "cell_type": "markdown",
   "metadata": {},
   "source": [
    "Solution:\n",
    "\n",
    "The population mean is 100, so\n",
    "null hypothesis. : H0: μ=100 \n",
    "\n",
    "A researcher thinks that a diet high in raw cornstarch, so:\n",
    "State the Alternate Hypothesis.  H1: μ > 100.\n",
    "        \n",
    "The fact that we are looking for scores “greater than” a certain point means that this is a one-tailed test.\n",
    "\n",
    "\n",
    "The alpha level use 5% (0.05).\n",
    "\n",
    "The rejection region area. An area of .05 is equal to a z-score of 1.645.\n",
    "\n",
    "The test statistic using this formula: z score formula\n",
    "    \n",
    "For this set of data: z= (108-100) / (15/√36)=3.2\n",
    "\n",
    "it is greater (4.56 > 1.645), so, we reject the null hypothesis.\n",
    "\n",
    "ANS : raw cornstarch will have a positive effect on blood glucose levels\n",
    "\n"
   ]
  },
  {
   "cell_type": "markdown",
   "metadata": {},
   "source": [
    "------------------------------------------------------------------------------------------------------------------------------"
   ]
  },
  {
   "cell_type": "markdown",
   "metadata": {},
   "source": [
    "# Problem Statement 2:\n",
    "In one state, 52% of the voters are Republicans, and 48% are Democrats. In a second\n",
    "state, 47% of the voters are Republicans, and 53% are Democrats. Suppose a simple\n",
    "random sample of 100 voters are surveyed from each state.\n",
    "What is the probability that the survey will show a greater percentage of Republican\n",
    "voters in the second state than in the first state?"
   ]
  },
  {
   "cell_type": "markdown",
   "metadata": {},
   "source": [
    "Solution:\n",
    "\n",
    "Number of voter's from each state\n",
    "n1 = 100\n",
    "n2 = 100\n",
    "proportion of Republican voters in the first state P1 = 52%=0.52\n",
    "proportion of Republican voters in the first state P2 = 47%=0.47\n",
    "\n",
    "Sample size\n",
    "n1P1 = 100 * 0.52 = 52\n",
    "n1(1 - P1) = 100 * 0.48 = 48\n",
    "n2P2 = 100 * 0.47 = 47\n",
    "n2(1 - P2) = 100 * 0.53 = 53\n",
    "Since the sample size is greater than 10 therefore, sample size is large enough\n",
    "\n",
    "The mean of the difference in sample proportions: E(p1 - p2) = P1 - P2 = 0.52 - 0.47 = 0.05.\n",
    "    \n",
    "standard deviation of the difference.\n",
    "σ = sqrt{ [ P1(1 - P1) / n1 ] + [ P2(1 - P2) / n2 ] }\n",
    "σ = sqrt{ [ (0.52)(0.48) / 100 ] + [ (0.47)(0.53) / 100 ] }\n",
    "σ = sqrt (0.002496 + 0.002491) = sqrt(0.004987) = 0.0706\n",
    "\n",
    "This problem requires us to find the probability that p1 < p1\n",
    "transform the random variable (p1 - p2) into a z-score.\n",
    "           \n",
    "Z(p1 - p2) = (x - μ(p1 - p2)) / σd = (0 - 0.05)/0.0706 = -0.7082\n",
    "\n",
    "Therefore, the probability of a z-score being -0.7082 or less is 0.24.\n",
    "Therefore, the probability that the survey will show a greater percentage of Republican voters in the second state \n",
    "than in the first state is 0.24."
   ]
  },
  {
   "cell_type": "markdown",
   "metadata": {},
   "source": [
    "-----------------------------------------------------------------------------------------------------------------------------"
   ]
  },
  {
   "cell_type": "markdown",
   "metadata": {},
   "source": [
    "# Problem Statement 3:\n",
    "You take the SAT and score 1100. The mean score for the SAT is 1026 and the standard\n",
    "deviation is 209. How well did you score on the test compared to the average test taker?"
   ]
  },
  {
   "cell_type": "markdown",
   "metadata": {},
   "source": [
    "Solution:\n",
    "\n",
    "Z-score formula\n",
    "z = (x – μ) / σ\n",
    "\n",
    "z= (1100-1026)/209\n",
    "z= 0.354\n",
    "\n",
    "It means score is 0.354 standard deviation above the mean\n",
    "\n",
    "by looking z-value in z table we got value 0.6368 or 63.68%\n",
    "\n",
    "Ans : 63.68% score on test as compare to the average test taker."
   ]
  }
 ],
 "metadata": {
  "kernelspec": {
   "display_name": "Python 3",
   "language": "python",
   "name": "python3"
  },
  "language_info": {
   "codemirror_mode": {
    "name": "ipython",
    "version": 3
   },
   "file_extension": ".py",
   "mimetype": "text/x-python",
   "name": "python",
   "nbconvert_exporter": "python",
   "pygments_lexer": "ipython3",
   "version": "3.7.6"
  }
 },
 "nbformat": 4,
 "nbformat_minor": 4
}
