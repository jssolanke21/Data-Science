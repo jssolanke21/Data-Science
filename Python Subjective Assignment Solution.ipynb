{
 "cells": [
  {
   "cell_type": "code",
   "execution_count": null,
   "metadata": {},
   "outputs": [],
   "source": [
    "Q1.   Write a Python program to get the string from the given string where all the occurrence of its first char has been changed to '$,' except first char itself? \n",
    "Sample String: 'prospect' \n",
    "Expected Result : 'pros$ect'"
   ]
  },
  {
   "cell_type": "code",
   "execution_count": 56,
   "metadata": {},
   "outputs": [
    {
     "name": "stdout",
     "output_type": "stream",
     "text": [
      "pros$ect\n"
     ]
    }
   ],
   "source": [
    "s =\"prospect\"\n",
    "s = list(s)\n",
    "s[4]='$'\n",
    "s=\"\".join(s)\n",
    "print(s)\n",
    "    "
   ]
  },
  {
   "cell_type": "code",
   "execution_count": 57,
   "metadata": {},
   "outputs": [
    {
     "data": {
      "text/plain": [
       "'pros$ect'"
      ]
     },
     "execution_count": 57,
     "metadata": {},
     "output_type": "execute_result"
    }
   ],
   "source": [
    "s= 'prospect'\n",
    "r = s[:4]+'$'+s[5:]\n",
    "r"
   ]
  },
  {
   "cell_type": "markdown",
   "metadata": {},
   "source": [
    "-----------------------------------"
   ]
  },
  {
   "cell_type": "code",
   "execution_count": null,
   "metadata": {},
   "outputs": [],
   "source": [
    "Q2. Write a Python program to get the single string from the two given strings, and separated by the space and swap \n",
    "the first two characters of each string?\n",
    "Sample String : 'abc', 'xyz'. \n",
    "Expected Result: 'xyc abz'"
   ]
  },
  {
   "cell_type": "code",
   "execution_count": 75,
   "metadata": {},
   "outputs": [
    {
     "data": {
      "text/plain": [
       "'xyz abc'"
      ]
     },
     "execution_count": 75,
     "metadata": {},
     "output_type": "execute_result"
    }
   ],
   "source": [
    "s='abc','xyz'\n",
    "p=s[0]\n",
    "q=s[1]\n",
    "\n",
    "r=q +' '+p\n",
    "r"
   ]
  },
  {
   "cell_type": "markdown",
   "metadata": {},
   "source": [
    "------------------------"
   ]
  },
  {
   "cell_type": "code",
   "execution_count": null,
   "metadata": {},
   "outputs": [],
   "source": [
    "Q3. Write the Python program to add 'ing' at the end of the given string (length of the string should be at least 3). \n",
    "If given string already ends with 'ing,' then add 'ly' instead. If string length of the given string is less than 3,\n",
    "leave it unchanged?\n",
    "Sample string: ' abc ' \n",
    "    Expected result: ' abcing ' \n",
    "        Sample string: ' string '\n",
    "            Expected result: ' stringly '"
   ]
  },
  {
   "cell_type": "code",
   "execution_count": 109,
   "metadata": {},
   "outputs": [
    {
     "data": {
      "text/plain": [
       "'abcing'"
      ]
     },
     "execution_count": 109,
     "metadata": {},
     "output_type": "execute_result"
    }
   ],
   "source": [
    "def change_string(s):\n",
    "    if len(s)<3:\n",
    "        return s\n",
    "    elif len(s)==3:\n",
    "        return s+''+'ing'\n",
    "    elif s[-3:]=='ing':\n",
    "        return s+''+'ly'\n",
    "            \n",
    "change_string('abc')"
   ]
  },
  {
   "cell_type": "code",
   "execution_count": 105,
   "metadata": {},
   "outputs": [
    {
     "data": {
      "text/plain": [
       "'stringly'"
      ]
     },
     "execution_count": 105,
     "metadata": {},
     "output_type": "execute_result"
    }
   ],
   "source": [
    "change_string('string')"
   ]
  },
  {
   "cell_type": "markdown",
   "metadata": {},
   "source": [
    "-----------------------------"
   ]
  },
  {
   "cell_type": "code",
   "execution_count": null,
   "metadata": {},
   "outputs": [],
   "source": [
    "Q4. Write the Python program to find the first appearance of the substring 'not' and 'poor' from the given string,\n",
    "if 'not' follows the 'poor', replace the whole 'not'...' poor' substring with 'good'.Return the resulting string.\n",
    "\n",
    "Sample string: 'The lyrics are not that poor!' 'The lyrics are poor!' \n",
    "    Expected Result: 'The lyrics are good!' 'The lyrics are poor!'"
   ]
  },
  {
   "cell_type": "code",
   "execution_count": 173,
   "metadata": {},
   "outputs": [
    {
     "data": {
      "text/plain": [
       "'The lyrics are good!The lyrics are poor!'"
      ]
     },
     "execution_count": 173,
     "metadata": {},
     "output_type": "execute_result"
    }
   ],
   "source": [
    "def string_changed(s):\n",
    "    p=s.find('not')\n",
    "    q=s.find('poor')\n",
    "    \n",
    "    if p<q:\n",
    "        r=s.replace(s[p:q+4],''+''+ 'good')\n",
    "        return r\n",
    "    else:\n",
    "        return s   \n",
    "       \n",
    "string_changed( 'The lyrics are not that poor!' 'The lyrics are poor!')"
   ]
  },
  {
   "cell_type": "markdown",
   "metadata": {},
   "source": [
    "-----------------------------"
   ]
  },
  {
   "cell_type": "code",
   "execution_count": null,
   "metadata": {},
   "outputs": [],
   "source": [
    "Q5. Write the Python program to remove the characters which have odd index values of a given string"
   ]
  },
  {
   "cell_type": "code",
   "execution_count": 199,
   "metadata": {},
   "outputs": [
    {
     "data": {
      "text/plain": [
       "'Jgih'"
      ]
     },
     "execution_count": 199,
     "metadata": {},
     "output_type": "execute_result"
    }
   ],
   "source": [
    "s='Jagdish'\n",
    "\n",
    "def odd_index(s):\n",
    "    r=''\n",
    "    for i in range(len(s)):\n",
    "        \n",
    "        if i%2==0:\n",
    "            r=r+s[i]\n",
    "    return r\n",
    "    \n",
    "odd_index(s)"
   ]
  },
  {
   "cell_type": "markdown",
   "metadata": {},
   "source": [
    "------------------------------------------"
   ]
  },
  {
   "cell_type": "code",
   "execution_count": null,
   "metadata": {},
   "outputs": [],
   "source": [
    "Q6. Write the Python function to get a string made of 4 copies of the last two characters of the specified string (length must be at least 2).\n",
    "\n",
    "Sample function and result : insert-end ('Python') -> abababab\n",
    "                                insert-end('Exercises') -> jkjkjkjk"
   ]
  },
  {
   "cell_type": "code",
   "execution_count": 210,
   "metadata": {},
   "outputs": [
    {
     "data": {
      "text/plain": [
       "'kekekeke'"
      ]
     },
     "execution_count": 210,
     "metadata": {},
     "output_type": "execute_result"
    }
   ],
   "source": [
    "s='jagdishsolanke'\n",
    "\n",
    "def last_char(s):\n",
    "    r = s[-2:]\n",
    "    return r*4\n",
    "      \n",
    "last_char(s)\n",
    "    "
   ]
  },
  {
   "cell_type": "markdown",
   "metadata": {},
   "source": [
    "------------------------------------------------"
   ]
  },
  {
   "cell_type": "code",
   "execution_count": null,
   "metadata": {},
   "outputs": [],
   "source": [
    "Q7. Write the python function to get a string made of its first three characters of a specified string. \n",
    "If the length of the string is less than 3 then return the original string.\n",
    "\n",
    "Sample function and result : first-three('ipy') -> ipy \n",
    "                                first-three('python') -> pyt"
   ]
  },
  {
   "cell_type": "code",
   "execution_count": 220,
   "metadata": {},
   "outputs": [
    {
     "data": {
      "text/plain": [
       "'jag'"
      ]
     },
     "execution_count": 220,
     "metadata": {},
     "output_type": "execute_result"
    }
   ],
   "source": [
    "s='jagdish'\n",
    "def first_three(s):\n",
    "    return s[:3] if len(s)>=3 else s \n",
    "        \n",
    "first_three(s)"
   ]
  },
  {
   "cell_type": "markdown",
   "metadata": {},
   "source": [
    "----------------------------------"
   ]
  },
  {
   "cell_type": "code",
   "execution_count": null,
   "metadata": {},
   "outputs": [],
   "source": [
    "Q8. Write the python program to print the following floating numbers up to 2 decimal places?"
   ]
  },
  {
   "cell_type": "code",
   "execution_count": 241,
   "metadata": {},
   "outputs": [
    {
     "name": "stdout",
     "output_type": "stream",
     "text": [
      "452.25\n"
     ]
    }
   ],
   "source": [
    "x=452.245486\n",
    "print(\"{:.2f}\".format(x))"
   ]
  },
  {
   "cell_type": "markdown",
   "metadata": {},
   "source": [
    "--------------------"
   ]
  },
  {
   "cell_type": "code",
   "execution_count": null,
   "metadata": {},
   "outputs": [],
   "source": [
    "Q9. Write the Python program to format a number with a percentage?"
   ]
  },
  {
   "cell_type": "code",
   "execution_count": 246,
   "metadata": {},
   "outputs": [
    {
     "name": "stdout",
     "output_type": "stream",
     "text": [
      "75.00%\n"
     ]
    }
   ],
   "source": [
    "x=0.75\n",
    "print(\"{:.2%}\".format(x))"
   ]
  },
  {
   "cell_type": "markdown",
   "metadata": {},
   "source": [
    "-----------------------------------"
   ]
  },
  {
   "cell_type": "code",
   "execution_count": null,
   "metadata": {},
   "outputs": [],
   "source": [
    "Q10. Write the Python program to count occurrences of a substring in a String?"
   ]
  },
  {
   "cell_type": "code",
   "execution_count": 247,
   "metadata": {},
   "outputs": [
    {
     "name": "stdout",
     "output_type": "stream",
     "text": [
      "The count is: 3\n"
     ]
    }
   ],
   "source": [
    "string = \"This is jagdish solanke\"\n",
    "substring = \"is\"\n",
    "\n",
    "count = string.count(substring)\n",
    "print(\"The count is:\", count)"
   ]
  },
  {
   "cell_type": "markdown",
   "metadata": {},
   "source": [
    "-----------------------------------"
   ]
  },
  {
   "cell_type": "code",
   "execution_count": null,
   "metadata": {},
   "outputs": [],
   "source": [
    "Q11. Write the Python program to count repeated characters in a string."
   ]
  },
  {
   "cell_type": "code",
   "execution_count": 275,
   "metadata": {},
   "outputs": [
    {
     "name": "stdout",
     "output_type": "stream",
     "text": [
      "o 3\n",
      "e 3\n",
      "u 2\n",
      "h 2\n",
      "r 2\n",
      "t 2\n"
     ]
    }
   ],
   "source": [
    "string = \"thequickbrownjumpsoverthelazydog\"\n",
    "chars = \"abcdoefguhijklmnpqrstvwxyz\"\n",
    "\n",
    "for i in chars:\n",
    "    count = string.count(i)\n",
    "    if count >1:\n",
    "        print(i,count)\n",
    "    \n",
    "    "
   ]
  },
  {
   "cell_type": "markdown",
   "metadata": {},
   "source": [
    "-------------------------------------------------"
   ]
  },
  {
   "cell_type": "code",
   "execution_count": null,
   "metadata": {},
   "outputs": [],
   "source": [
    "Q12. Write the Python program to print the square and cube symbol in the area of a rectangle and volume of a cylinder? \n",
    "Sample output- The area of the rectangle is 1256.66cm2 \n",
    "                    The volume of the cylinder is 1254.725cm3"
   ]
  },
  {
   "cell_type": "code",
   "execution_count": 302,
   "metadata": {},
   "outputs": [
    {
     "name": "stdout",
     "output_type": "stream",
     "text": [
      "The area of Rectangle is 1256.66cm²\n",
      "The volumn of cylinder is 1254.725cm²\n"
     ]
    }
   ],
   "source": [
    "Area =1256.66\n",
    "Volumn = 1254.725\n",
    "print(\"The area of Rectangle is {}cm\\u00b2\".format(Area))\n",
    "print(\"The volumn of cylinder is {}cm\\u00b2\".format(Volumn))"
   ]
  },
  {
   "cell_type": "markdown",
   "metadata": {},
   "source": [
    "--------------------------------------------"
   ]
  },
  {
   "cell_type": "code",
   "execution_count": null,
   "metadata": {},
   "outputs": [],
   "source": [
    "Q13. Write the Python program to check if a string contains all letters of the alphabet?"
   ]
  },
  {
   "cell_type": "code",
   "execution_count": 320,
   "metadata": {},
   "outputs": [
    {
     "data": {
      "text/plain": [
       "False"
      ]
     },
     "execution_count": 320,
     "metadata": {},
     "output_type": "execute_result"
    }
   ],
   "source": [
    "string='jagdish solanke is data scientist'\n",
    "alphabate = \"abcdoefguhijklmnpqrstvwxyz\"\n",
    "\n",
    "def check_alpha(string):\n",
    "    for char in alphabate:\n",
    "        if char not in string:\n",
    "            return True\n",
    "        else:\n",
    "            return False\n",
    "\n",
    "check_alpha(string)            \n"
   ]
  },
  {
   "cell_type": "markdown",
   "metadata": {},
   "source": [
    "----------------------"
   ]
  },
  {
   "cell_type": "code",
   "execution_count": null,
   "metadata": {},
   "outputs": [],
   "source": [
    "Q14. Write the Python program to find the second most repeated word in a given string?"
   ]
  },
  {
   "cell_type": "code",
   "execution_count": null,
   "metadata": {},
   "outputs": [],
   "source": []
  },
  {
   "cell_type": "markdown",
   "metadata": {},
   "source": [
    "---------------------------"
   ]
  },
  {
   "cell_type": "code",
   "execution_count": null,
   "metadata": {},
   "outputs": [],
   "source": [
    "Q15. Write the Python program to find the minimum window in the given string, \n",
    "which will contains all the characters of another given strings?\n",
    "Example 1 Input : string1 = \" PRWSOERIUSFK \" string2 = \" OSU \" \n",
    "    Output: Minimum window is \"OERIUS\""
   ]
  },
  {
   "cell_type": "code",
   "execution_count": 392,
   "metadata": {},
   "outputs": [
    {
     "name": "stdout",
     "output_type": "stream",
     "text": [
      "OERIUS\n"
     ]
    }
   ],
   "source": [
    "\n",
    "import collections\n",
    "string1 = \"PRWSOERIUSFK\"\n",
    "string2 = \"OSU\"\n",
    "\n",
    "def min_window(string1, string2):\n",
    "    string_dict, string_len = collections.Counter(string2), len(string2)\n",
    "    i = p = q = 0\n",
    "    for j, c in enumerate(string1, 1):\n",
    "        string_len -= string_dict[c] > 0\n",
    "        string_dict[c] -= 1\n",
    "        if not string_len:\n",
    "            while i < q and string_dict[string1[i]] < 0:\n",
    "                string_dict[string1[i]] += 1\n",
    "                i += 1\n",
    "            if not q or j - i <= q - p:\n",
    "                p, q = i, j\n",
    "    return string1[p:q]\n",
    "           \n",
    "print(min_window(string1,string2))"
   ]
  },
  {
   "cell_type": "markdown",
   "metadata": {},
   "source": [
    "---------------------------------"
   ]
  },
  {
   "cell_type": "code",
   "execution_count": null,
   "metadata": {},
   "outputs": [],
   "source": [
    "Q16. Write the Python program to find smallest window that contains all characters of the given string?\n",
    "Original Strings: asdaewsqgtwwsa\n",
    "    Smallest window that contains all characters of the said string:Daewsqgt\n"
   ]
  },
  {
   "cell_type": "code",
   "execution_count": null,
   "metadata": {},
   "outputs": [],
   "source": []
  },
  {
   "cell_type": "markdown",
   "metadata": {},
   "source": [
    "--------------------"
   ]
  },
  {
   "cell_type": "code",
   "execution_count": null,
   "metadata": {},
   "outputs": [],
   "source": [
    "Q17. Write the Python program to count number of substrings from a given string of lowercase alphabets with exactly k distinct (given) characters?\n",
    "Input a string (lowercase alphabets): wolf\n",
    "    Input k: 4 Number of substrings with exactly 4 distinct characters: 1"
   ]
  },
  {
   "cell_type": "code",
   "execution_count": null,
   "metadata": {},
   "outputs": [],
   "source": []
  },
  {
   "cell_type": "markdown",
   "metadata": {},
   "source": [
    "----------------------------"
   ]
  },
  {
   "cell_type": "code",
   "execution_count": null,
   "metadata": {},
   "outputs": [],
   "source": [
    "Q18. Write the Python program to count number of non-empty substrings of the given string?\n",
    "Input a string: w3resource \n",
    "    Number of substrings: 55"
   ]
  },
  {
   "cell_type": "code",
   "execution_count": 422,
   "metadata": {},
   "outputs": [
    {
     "name": "stdout",
     "output_type": "stream",
     "text": [
      "input_string : w3resource \n",
      "Number of Substring :\n",
      "55\n"
     ]
    }
   ],
   "source": [
    "input_string='w3resource'\n",
    "\n",
    "def num_of_substr(input_string):\n",
    "    str_len = len(input_string); \n",
    "    return int(str_len * (str_len + 1) / 2); \n",
    "\n",
    "print(\"input_string : w3resource \")\n",
    "print(\"Number of Substring :\")\n",
    "print(num_of_substr(input_string))"
   ]
  },
  {
   "cell_type": "markdown",
   "metadata": {},
   "source": [
    "---------------------------------"
   ]
  },
  {
   "cell_type": "code",
   "execution_count": null,
   "metadata": {},
   "outputs": [],
   "source": [
    "Q19. Write the Python program to count number of substrings with same first and last characters of the given string?\n",
    "Input a string: abcd 4"
   ]
  },
  {
   "cell_type": "code",
   "execution_count": 428,
   "metadata": {},
   "outputs": [
    {
     "name": "stdout",
     "output_type": "stream",
     "text": [
      "enter string : jagjag\n"
     ]
    },
    {
     "data": {
      "text/plain": [
       "9"
      ]
     },
     "execution_count": 428,
     "metadata": {},
     "output_type": "execute_result"
    }
   ],
   "source": [
    "def substring_count(s):\n",
    "    r=0\n",
    "    n=len(s)\n",
    "    for i in range(n):\n",
    "        for j in range(i,n):\n",
    "            if (s[i]==s[j]):\n",
    "                r = r+1\n",
    "    return r\n",
    "s=input(\"enter string : \")\n",
    "substring_count(s)"
   ]
  },
  {
   "cell_type": "markdown",
   "metadata": {},
   "source": [
    "-----------------------------------------"
   ]
  },
  {
   "cell_type": "code",
   "execution_count": null,
   "metadata": {},
   "outputs": [],
   "source": [
    "Q20. Write the Python program to count the number of strings where the string length is 2 or more, and first and last character are same from a given list of strings\n",
    "Sample List : ['abc', 'xyz', 'wxw', '1331'] Expected Result: 2"
   ]
  },
  {
   "cell_type": "code",
   "execution_count": 435,
   "metadata": {},
   "outputs": [
    {
     "name": "stdout",
     "output_type": "stream",
     "text": [
      "2\n"
     ]
    }
   ],
   "source": [
    "list = ['abc', 'xyz', 'wxw', '1331']\n",
    "\n",
    "for i in list:\n",
    "    if len(i)>=2 and i[0]==i[-1]:\n",
    "        count=count + 1\n",
    "print(count)"
   ]
  },
  {
   "cell_type": "markdown",
   "metadata": {},
   "source": [
    "---------------------------------------"
   ]
  },
  {
   "cell_type": "code",
   "execution_count": null,
   "metadata": {},
   "outputs": [],
   "source": [
    "Q21. Write the Python program to get a list, sorted in increasing order by the last element in each tuple from the given list of non-empty tuples?\n",
    "Sample List - [ (2, 5), (1, 2), (4, 4), (2, 3), (2, 1) ] \n",
    "Expected Result - [ (2, 1), (1, 2), (2, 3), (4, 4), (2, 5) ]"
   ]
  },
  {
   "cell_type": "code",
   "execution_count": 454,
   "metadata": {},
   "outputs": [
    {
     "name": "stdout",
     "output_type": "stream",
     "text": [
      "[(2, 1), (1, 2), (2, 3), (4, 4), (2, 5)]\n"
     ]
    }
   ],
   "source": [
    "l =[ (2, 5), (1, 2), (4, 4), (2, 3), (2, 1) ]\n",
    "\n",
    "def last_element(k):\n",
    "    return k[1]\n",
    "\n",
    "def sort_list(l) :\n",
    "    return sorted(l, key=last_element)\n",
    "\n",
    "print(sort_list(l))"
   ]
  },
  {
   "cell_type": "markdown",
   "metadata": {},
   "source": [
    "---------------------------------------------------"
   ]
  },
  {
   "cell_type": "code",
   "execution_count": null,
   "metadata": {},
   "outputs": [],
   "source": [
    "Q22. Write the Python program to remove duplicates from a list?"
   ]
  },
  {
   "cell_type": "code",
   "execution_count": 462,
   "metadata": {},
   "outputs": [
    {
     "data": {
      "text/plain": [
       "[1, 2, 5, 4, 6, 7]"
      ]
     },
     "execution_count": 462,
     "metadata": {},
     "output_type": "execute_result"
    }
   ],
   "source": [
    "l =[1,2,5,4,2,4,6,7,6,5]\n",
    "\n",
    "def remove_duplicate(l):\n",
    "    r=[]\n",
    "    for i in l:\n",
    "        if i not in r:\n",
    "            r.append(i)\n",
    "    return r\n",
    "\n",
    "remove_duplicate(l)"
   ]
  },
  {
   "cell_type": "markdown",
   "metadata": {},
   "source": [
    "-------------------------------"
   ]
  },
  {
   "cell_type": "code",
   "execution_count": null,
   "metadata": {},
   "outputs": [],
   "source": [
    "Q23. Write the Python program to find the list of words that are longer than n from a given list of words?"
   ]
  },
  {
   "cell_type": "code",
   "execution_count": 477,
   "metadata": {},
   "outputs": [
    {
     "name": "stdout",
     "output_type": "stream",
     "text": [
      "Enter Number to find out longer string : 3\n"
     ]
    },
    {
     "data": {
      "text/plain": [
       "['dish', 'solanke', 'data', 'scientist']"
      ]
     },
     "execution_count": 477,
     "metadata": {},
     "output_type": "execute_result"
    }
   ],
   "source": [
    "l=['jag','dish','solanke','data','scientist']\n",
    "r=[]\n",
    "def longer_word(l,n):\n",
    "    for i in l:\n",
    "        if len(i)>n:\n",
    "            r.append(i)\n",
    "    return r\n",
    "\n",
    "n=int(input('Enter Number to find out longer string : '))\n",
    "longer_word(l,n)"
   ]
  },
  {
   "cell_type": "markdown",
   "metadata": {},
   "source": [
    "----------------------------------------------"
   ]
  },
  {
   "cell_type": "code",
   "execution_count": null,
   "metadata": {},
   "outputs": [],
   "source": [
    "Q24. Write the Python program to print a specified list after removing the 0th, 4th, and 5th elements?\n",
    "Sample List - ['Red', 'Green', 'White', 'Black', 'Pink', 'Yellow']\n",
    "Expected Output - ['Green', 'White', 'Black']"
   ]
  },
  {
   "cell_type": "code",
   "execution_count": 508,
   "metadata": {},
   "outputs": [
    {
     "data": {
      "text/plain": [
       "['Green', 'White', 'Black']"
      ]
     },
     "execution_count": 508,
     "metadata": {},
     "output_type": "execute_result"
    }
   ],
   "source": [
    "l=['Red', 'Green', 'White', 'Black', 'Pink', 'Yellow']\n",
    "j= l[0],l[4],l[5]\n",
    "r=[]\n",
    "\n",
    "def remove_list_element(l):\n",
    "    for i in l:\n",
    "        if i not in j:\n",
    "            r.append(i)\n",
    "    return r\n",
    "    \n",
    "remove_list_element(l)            "
   ]
  },
  {
   "cell_type": "markdown",
   "metadata": {},
   "source": [
    "--------------------------------------------------"
   ]
  },
  {
   "cell_type": "code",
   "execution_count": null,
   "metadata": {},
   "outputs": [],
   "source": [
    "Q25. Write the Python program to generate all permutations of a list in Python?"
   ]
  },
  {
   "cell_type": "code",
   "execution_count": 7,
   "metadata": {},
   "outputs": [
    {
     "data": {
      "text/plain": [
       "[(2, 3, 4), (2, 4, 3), (3, 2, 4), (3, 4, 2), (4, 2, 3), (4, 3, 2)]"
      ]
     },
     "execution_count": 7,
     "metadata": {},
     "output_type": "execute_result"
    }
   ],
   "source": [
    "from itertools import permutations \n",
    "permu=list(permutations(range(2,5))) \n",
    "permu\n"
   ]
  },
  {
   "cell_type": "markdown",
   "metadata": {},
   "source": [
    "------------------------------"
   ]
  },
  {
   "cell_type": "code",
   "execution_count": null,
   "metadata": {},
   "outputs": [],
   "source": [
    "Q26. Write the Python program to convert a pair of values into a sorted unique array?\n",
    "Original List- [ (1, 2), (3, 4), (1, 2), (5, 6), (7, 8), (1, 2), (3, 4), (3, 4), (7, 8), (9, 10) ] \n",
    "Sorted Unique Data- [ 1, 2, 3, 4, 5, 6, 7, 8, 9, 10 ]"
   ]
  },
  {
   "cell_type": "code",
   "execution_count": 12,
   "metadata": {},
   "outputs": [
    {
     "data": {
      "text/plain": [
       "[1, 2, 3, 4, 5, 6, 7, 8, 9, 10]"
      ]
     },
     "execution_count": 12,
     "metadata": {},
     "output_type": "execute_result"
    }
   ],
   "source": [
    "li = [ (1, 2), (3, 4), (1, 2), (5, 6), (7, 8), (1, 2), (3, 4), (3, 4), (7, 8), (9, 10) ]\n",
    "\n",
    "uniq_array = sorted(set().union(*li))\n",
    "uniq_array"
   ]
  },
  {
   "cell_type": "markdown",
   "metadata": {},
   "source": [
    "-------------------------------------------"
   ]
  },
  {
   "cell_type": "code",
   "execution_count": null,
   "metadata": {},
   "outputs": [],
   "source": [
    "Q27. Write the Python class to convert an integer to a roman numeral?"
   ]
  },
  {
   "cell_type": "code",
   "execution_count": 293,
   "metadata": {},
   "outputs": [
    {
     "name": "stdout",
     "output_type": "stream",
     "text": [
      "IV\n"
     ]
    }
   ],
   "source": [
    "class int_roman:\n",
    "    def int_to_Roman(self, num):\n",
    "        val = [5, 4,3,2, 1 ]\n",
    "        rom = [\"V\", \"IV\", \"III\",\"II\",\"I\"]\n",
    "        roman_num = ''\n",
    "        i = 0\n",
    "        while  num > 0:\n",
    "            for _ in range(num // val[i]):\n",
    "                roman_num += rom[i]\n",
    "                num -= val[i]\n",
    "            i += 1\n",
    "        return roman_num\n",
    "\n",
    "print(int_roman().int_to_Roman(4))\n"
   ]
  },
  {
   "cell_type": "markdown",
   "metadata": {},
   "source": [
    "--------------------------"
   ]
  },
  {
   "cell_type": "code",
   "execution_count": null,
   "metadata": {},
   "outputs": [],
   "source": [
    "Q28 Write the Python class to convert a Roman numeral to an integer?"
   ]
  },
  {
   "cell_type": "code",
   "execution_count": 299,
   "metadata": {},
   "outputs": [
    {
     "name": "stdout",
     "output_type": "stream",
     "text": [
      "3\n",
      "4\n"
     ]
    }
   ],
   "source": [
    "class roman_int:\n",
    "    def roman_to_int(self, s):\n",
    "        rom_val = {'I': 1, 'II': 2, 'III': 3, 'IV': 4, 'V': 5}\n",
    "        int_val = 0\n",
    "        for i in range(len(s)):\n",
    "            if i > 0 and rom_val[s[i]] > rom_val[s[i - 1]]:\n",
    "                int_val += rom_val[s[i]] - 2 * rom_val[s[i - 1]]\n",
    "            else:\n",
    "                int_val += rom_val[s[i]]\n",
    "        return int_val\n",
    "\n",
    "print(roman_int().roman_to_int('III'))\n",
    "print(roman_int().roman_to_int('IV'))\n"
   ]
  },
  {
   "cell_type": "markdown",
   "metadata": {},
   "source": [
    "---------------------------------"
   ]
  },
  {
   "cell_type": "code",
   "execution_count": null,
   "metadata": {},
   "outputs": [],
   "source": [
    "Q29. Write the Python class to find the validity of the string of the parentheses, '(', ')', '{', '}', '[' and '] \n",
    "and the brackets must be closed in the correct order, example - \"()\" and \"()[]{}\" are valid but \"[)\", \"({[)]\" and \n",
    "\"{{{\" are invalid."
   ]
  },
  {
   "cell_type": "code",
   "execution_count": 313,
   "metadata": {},
   "outputs": [
    {
     "name": "stdout",
     "output_type": "stream",
     "text": [
      "valid\n"
     ]
    }
   ],
   "source": [
    "openList = [\"[\",\"{\",\"(\"]\n",
    "closeList = [\"]\",\"}\",\")\"]\n",
    "def balance(myStr):\n",
    "    stack= []\n",
    "    for i in myStr:\n",
    "        if i in openList:\n",
    "            stack.append(i)\n",
    "        elif i in closeList:\n",
    "            pos = closeList.index(i)\n",
    "            if ((len(stack) > 0) and (openList[pos] == stack[len(stack)-1])):\n",
    "                stack.pop()\n",
    "            else:\n",
    "                return \"not valid\"\n",
    "    if len(stack) == 0:\n",
    "        return \"valid\"\n",
    "    \n",
    "print(balance(\"{[()](){}}\") )"
   ]
  },
  {
   "cell_type": "markdown",
   "metadata": {},
   "source": [
    "------------------------------------"
   ]
  },
  {
   "cell_type": "code",
   "execution_count": null,
   "metadata": {},
   "outputs": [],
   "source": [
    "Q30. Write the Python class to get all possible unique subsets from a set of distinct integers?\n",
    "Input - [4, 5, 6]\n",
    "Output - [[], [6], [5], [5, 6], [4], [4, 6], [4, 5], [4, 5, 6]]"
   ]
  },
  {
   "cell_type": "code",
   "execution_count": 314,
   "metadata": {},
   "outputs": [
    {
     "name": "stdout",
     "output_type": "stream",
     "text": [
      "[[], [6], [5], [5, 6], [4], [4, 6], [4, 5], [4, 5, 6]]\n"
     ]
    }
   ],
   "source": [
    "class sub:  \n",
    "    def f1(self, s1):  \n",
    "        return self.f2([], sorted(s1))  \n",
    " \n",
    "    def f2(self, curr, s1):  \n",
    "        if s1:  \n",
    "            return self.f2(curr, s1[1:]) + self.f2(curr + [s1[0]], s1[1:])  \n",
    "        return [curr] \n",
    "print(sub().f1([4,5,6]))"
   ]
  },
  {
   "cell_type": "markdown",
   "metadata": {},
   "source": [
    "---------------------------------------------------"
   ]
  },
  {
   "cell_type": "code",
   "execution_count": null,
   "metadata": {},
   "outputs": [],
   "source": [
    "Q31. Write the Python class to find a pair of elements (indices of the two numbers) from a given array whose sum equals the specific target number?\n",
    "Input: numbers- [10,20,10,40,50,60,70], target=50 Output- 3, 4"
   ]
  },
  {
   "cell_type": "code",
   "execution_count": 92,
   "metadata": {},
   "outputs": [
    {
     "name": "stdout",
     "output_type": "stream",
     "text": [
      "Indices are :  2 3\n"
     ]
    }
   ],
   "source": [
    "class pair_count:\n",
    "    def getPairsSum( arr, target):\n",
    "        \n",
    "        dict={}\n",
    "        for i,num in enumerate(arr):\n",
    "                     \n",
    "            if target-num in dict:\n",
    "                print(\"Indices are : \",dict[target-num],i)\n",
    "            dict[num]=i                             \n",
    "        \n",
    "                     \n",
    "pair_count.getPairsSum([10,20,10,40,50,60,70],50) "
   ]
  },
  {
   "cell_type": "markdown",
   "metadata": {},
   "source": [
    "----------------------------------"
   ]
  },
  {
   "cell_type": "code",
   "execution_count": null,
   "metadata": {},
   "outputs": [],
   "source": [
    "Q32. Write the Python class to find the three elements that sum to zero from the set of n real numbers?\n",
    "Input array- [-25, -10, -7, -3, 2, 4, 8, 10] Output - [[-10, 2, 8], [-7, -3, 10]]"
   ]
  },
  {
   "cell_type": "code",
   "execution_count": 94,
   "metadata": {},
   "outputs": [
    {
     "name": "stdout",
     "output_type": "stream",
     "text": [
      "Triplet is -10 ,  2 ,  8\n"
     ]
    },
    {
     "data": {
      "text/plain": [
       "True"
      ]
     },
     "execution_count": 94,
     "metadata": {},
     "output_type": "execute_result"
    }
   ],
   "source": [
    "def find3Numbers(A, arr_size, sum): \n",
    "  \n",
    "    # Fix the first element as A[i] \n",
    "    for i in range( 0, arr_size-2): \n",
    "  \n",
    "        # Fix the second element as A[j] \n",
    "        for j in range(i + 1, arr_size-1):  \n",
    "              \n",
    "            # Now look for the third number \n",
    "            for k in range(j + 1, arr_size): \n",
    "                if A[i] + A[j] + A[k] == sum: \n",
    "                    print(\"Triplet is\", A[i], \n",
    "                          \", \", A[j], \", \", A[k]) \n",
    "                    return True\n",
    "      \n",
    "    # If we reach here, then no  \n",
    "    # triplet was found \n",
    "    return False\n",
    "A =  [-25, -10, -7, -3, 2, 4, 8, 10]  \n",
    "sum = 0\n",
    "arr_size = len(A) \n",
    "find3Numbers(A, arr_size, sum) "
   ]
  },
  {
   "cell_type": "markdown",
   "metadata": {},
   "source": [
    "-------------------\n"
   ]
  },
  {
   "cell_type": "code",
   "execution_count": null,
   "metadata": {},
   "outputs": [],
   "source": [
    "Q33. Write the Python class to implement pow(x, n)?"
   ]
  },
  {
   "cell_type": "code",
   "execution_count": 327,
   "metadata": {},
   "outputs": [
    {
     "data": {
      "text/plain": [
       "64"
      ]
     },
     "execution_count": 327,
     "metadata": {},
     "output_type": "execute_result"
    }
   ],
   "source": [
    "class pow:\n",
    "    def power(x,y):\n",
    "        if(y==0): return 1\n",
    "        elif(int(y%2)==0):\n",
    "            return (power(x,int(y/2))* power(x,int(y/2)))\n",
    "        else:\n",
    "            return(x*power(x,int(y/2))*power(x,int(y/2)))\n",
    "        \n",
    "pow.power(4,3)"
   ]
  },
  {
   "cell_type": "markdown",
   "metadata": {},
   "source": [
    "----------------------------------------------------"
   ]
  },
  {
   "cell_type": "code",
   "execution_count": null,
   "metadata": {},
   "outputs": [],
   "source": [
    "Q34. Write the Python class which has two methods get_String and print_String. get_String accept the string from the user and\n",
    "print_String print the string in upper case"
   ]
  },
  {
   "cell_type": "code",
   "execution_count": 328,
   "metadata": {},
   "outputs": [
    {
     "name": "stdout",
     "output_type": "stream",
     "text": [
      "Enter string: this is jagdish\n",
      "String is:\n",
      "this is jagdish\n"
     ]
    }
   ],
   "source": [
    "class print1():\n",
    "    def __init__(self):\n",
    "        self.string=\"\"\n",
    " \n",
    "    def get(self):\n",
    "        self.string=input(\"Enter string: \")\n",
    " \n",
    "    def put(self):\n",
    "        print(\"String is:\")\n",
    "        print(self.string)\n",
    " \n",
    "obj=print1()\n",
    "obj.get()\n",
    "obj.put()"
   ]
  },
  {
   "cell_type": "markdown",
   "metadata": {},
   "source": [
    "----------------------------------"
   ]
  },
  {
   "cell_type": "code",
   "execution_count": null,
   "metadata": {},
   "outputs": [],
   "source": [
    "Q35. Write the Python class named Rectangle constructed by a length and width and the method which will compute the area of the rectangle?"
   ]
  },
  {
   "cell_type": "code",
   "execution_count": 330,
   "metadata": {},
   "outputs": [
    {
     "name": "stdout",
     "output_type": "stream",
     "text": [
      "Enter length of rectangle: 12\n",
      "Enter breadth of rectangle: 8\n",
      "Area of rectangle: 96\n"
     ]
    }
   ],
   "source": [
    "class rectangle():\n",
    "    def __init__(self,breadth,length):\n",
    "        self.breadth=breadth\n",
    "        self.length=length\n",
    "    def area(self):\n",
    "        return self.breadth*self.length\n",
    "a=int(input(\"Enter length of rectangle: \"))\n",
    "b=int(input(\"Enter breadth of rectangle: \"))\n",
    "obj=rectangle(a,b)\n",
    "print(\"Area of rectangle:\",obj.area())\n",
    " \n"
   ]
  },
  {
   "cell_type": "markdown",
   "metadata": {},
   "source": [
    "---------------------------------"
   ]
  },
  {
   "cell_type": "code",
   "execution_count": null,
   "metadata": {},
   "outputs": [],
   "source": [
    "Q36. Write the Python class named Circle constructed by the radius and two methods which will compute the area and perimeter of the circle?"
   ]
  },
  {
   "cell_type": "code",
   "execution_count": 331,
   "metadata": {},
   "outputs": [
    {
     "name": "stdout",
     "output_type": "stream",
     "text": [
      "Enter radius of circle: 5\n",
      "Area of circle: 78.54\n",
      "Perimeter of circle: 31.42\n"
     ]
    }
   ],
   "source": [
    "import math\n",
    "class circle():\n",
    "    def __init__(self,radius):\n",
    "        self.radius=radius\n",
    "    def area(self):\n",
    "        return math.pi*(self.radius**2)\n",
    "    def perimeter(self):\n",
    "        return 2*math.pi*self.radius\n",
    " \n",
    "r=int(input(\"Enter radius of circle: \"))\n",
    "obj=circle(r)\n",
    "print(\"Area of circle:\",round(obj.area(),2))\n",
    "print(\"Perimeter of circle:\",round(obj.perimeter(),2))"
   ]
  },
  {
   "cell_type": "markdown",
   "metadata": {},
   "source": [
    "-----------------------------------------"
   ]
  },
  {
   "cell_type": "code",
   "execution_count": null,
   "metadata": {},
   "outputs": [],
   "source": [
    "Q37. Write the Python program to get the class name of an instance in Python?"
   ]
  },
  {
   "cell_type": "code",
   "execution_count": 332,
   "metadata": {},
   "outputs": [
    {
     "name": "stdout",
     "output_type": "stream",
     "text": [
      "count\n"
     ]
    }
   ],
   "source": [
    "import itertools\n",
    "x = itertools.count(5)\n",
    "print(type(x).__name__)"
   ]
  },
  {
   "cell_type": "markdown",
   "metadata": {},
   "source": [
    "------------------------------------"
   ]
  },
  {
   "cell_type": "code",
   "execution_count": null,
   "metadata": {},
   "outputs": [],
   "source": [
    "Q38. Write the Python program to count the number of students of individual class?\n",
    "Sample data- classes = ( ('V', 1), ('VI', 1), ('V', 2), ('VI', 2), ('VI', 3), ('VII', 1), ) Expected Output- Counter({'VI': 3, 'V': 2, 'VII': 1})"
   ]
  },
  {
   "cell_type": "code",
   "execution_count": 333,
   "metadata": {},
   "outputs": [
    {
     "name": "stdout",
     "output_type": "stream",
     "text": [
      "Counter({'VI': 3, 'V': 2, 'VII': 1})\n"
     ]
    }
   ],
   "source": [
    "from collections import Counter\n",
    "classes = (\n",
    "    ('V', 1),\n",
    "    ('VI', 1),\n",
    "    ('V', 2),\n",
    "    ('VI', 2),\n",
    "    ('VI', 3),\n",
    "    ('VII', 1),\n",
    ")\n",
    "students = Counter(class_name for class_name, no_students in classes)\n",
    "print(students)"
   ]
  },
  {
   "cell_type": "markdown",
   "metadata": {},
   "source": [
    "-------------------------------"
   ]
  },
  {
   "cell_type": "code",
   "execution_count": null,
   "metadata": {},
   "outputs": [],
   "source": [
    "Q39. Write the Python program to create an instance of an OrderedDict using the given dictionary and sort dictionary during the creation and print members of the dictionary in reverse order?\n",
    "Expected Output- Angola 244. Andorra 376. Algeria 213. Afghanistan 93. Albania 355. In reverse order- Albania 355. Afghanistan 93. Algeria 213. Andorra 376. Angola 244."
   ]
  },
  {
   "cell_type": "code",
   "execution_count": 334,
   "metadata": {},
   "outputs": [
    {
     "name": "stdout",
     "output_type": "stream",
     "text": [
      "Afghanistan 93\n",
      "Albania 355\n",
      "Algeria 213\n",
      "Andorra 376\n",
      "Angola 244\n",
      "\n",
      "In reverse order:\n",
      "Angola 244\n",
      "Andorra 376\n",
      "Algeria 213\n",
      "Albania 355\n",
      "Afghanistan 93\n"
     ]
    }
   ],
   "source": [
    "from collections import OrderedDict\n",
    "dict = {'Afghanistan': 93, 'Albania': 355, 'Algeria': 213, 'Andorra': 376, 'Angola': 244}\n",
    "new_dict = OrderedDict(dict.items())\n",
    "for key in new_dict:\n",
    "    print (key, new_dict[key])\n",
    "\n",
    "print(\"\\nIn reverse order:\")\n",
    "for key in reversed(new_dict):\n",
    "    print (key, new_dict[key])"
   ]
  },
  {
   "cell_type": "markdown",
   "metadata": {},
   "source": [
    "-----------------------------------------------"
   ]
  },
  {
   "cell_type": "code",
   "execution_count": null,
   "metadata": {},
   "outputs": [],
   "source": [
    "Q40. Write the Python program to compare two unordered lists (not sets)?\n",
    "Expected Output: False"
   ]
  },
  {
   "cell_type": "code",
   "execution_count": 341,
   "metadata": {},
   "outputs": [
    {
     "name": "stdout",
     "output_type": "stream",
     "text": [
      "False\n"
     ]
    }
   ],
   "source": [
    "from collections import Counter\n",
    "\n",
    "i = [1, 3, 2, 2, 1, 3]\n",
    "j = [3, 2, 3, 1, 2, 4]\n",
    "\n",
    "def compare_lists(a, b):\n",
    "    return Counter(a) == Counter(b)\n",
    "print(compare_lists(i,j))"
   ]
  },
  {
   "cell_type": "markdown",
   "metadata": {},
   "source": [
    "-------------------------------------"
   ]
  },
  {
   "cell_type": "code",
   "execution_count": null,
   "metadata": {},
   "outputs": [],
   "source": [
    "Q41. Write the Python program to get an array buffer information? Expected Output- Array buffer start address in memory and number of elements. (25855056, 2)"
   ]
  },
  {
   "cell_type": "code",
   "execution_count": 350,
   "metadata": {},
   "outputs": [
    {
     "name": "stdout",
     "output_type": "stream",
     "text": [
      "Array buffer start address in memory and number of elements.\n",
      "(150921536, 2)\n"
     ]
    }
   ],
   "source": [
    "from array import array\n",
    "a = array(\"Q\", (5,2))\n",
    "print(\"Array buffer start address in memory and number of elements.\")\n",
    "print(a.buffer_info())"
   ]
  },
  {
   "cell_type": "markdown",
   "metadata": {},
   "source": [
    "-------------------------------------------"
   ]
  },
  {
   "cell_type": "code",
   "execution_count": null,
   "metadata": {},
   "outputs": [],
   "source": [
    "Q42. Write the Python program to convert an array to an array of machine values and return the bytes representation?\n",
    "Expected Output- Original array- A1: array('i', [1, 2, 3, 4, 5, 6]) Array of bytes: b'010000000200000003000000040000000500000006000000'"
   ]
  },
  {
   "cell_type": "code",
   "execution_count": 360,
   "metadata": {},
   "outputs": [
    {
     "data": {
      "text/plain": [
       "b'010000000200000003000000040000000500000006000000'"
      ]
     },
     "execution_count": 360,
     "metadata": {},
     "output_type": "execute_result"
    }
   ],
   "source": [
    "import array \n",
    "import binascii\n",
    "a1 = array.array('i', [1,2,3,4,5,6])\n",
    "binascii.hexlify(a1)"
   ]
  },
  {
   "cell_type": "markdown",
   "metadata": {},
   "source": [
    "-------------------------------------"
   ]
  },
  {
   "cell_type": "code",
   "execution_count": null,
   "metadata": {},
   "outputs": [],
   "source": [
    "Q43. Write the Python program to read a string and interpreting the string as an array of machine values?\n",
    "Expected Output- array1- array('i', [7, 8, 9, 10]) Bytes- b'0700000008000000090000000a000000' array2- array('i', [7, 8, 9, 10])"
   ]
  },
  {
   "cell_type": "code",
   "execution_count": 364,
   "metadata": {},
   "outputs": [
    {
     "name": "stdout",
     "output_type": "stream",
     "text": [
      "array1: array('i', [7, 8, 9, 10])\n",
      "Bytes: b'0700000008000000090000000a000000'\n",
      "array2: array('i', [7, 8, 9, 10])\n"
     ]
    }
   ],
   "source": [
    "from array import array\n",
    "import binascii\n",
    "array1 = array('i', [7, 8, 9, 10])\n",
    "print('array1:', array1)\n",
    "as_bytes = array1.tobytes()\n",
    "print('Bytes:', binascii.hexlify(as_bytes))\n",
    "array2 = array('i')\n",
    "array2.frombytes(as_bytes)\n",
    "print('array2:', array2)"
   ]
  },
  {
   "cell_type": "markdown",
   "metadata": {},
   "source": [
    "--------------------------------------------------"
   ]
  },
  {
   "cell_type": "code",
   "execution_count": null,
   "metadata": {},
   "outputs": [],
   "source": [
    "Q44. Write the Python program to push three items into the heap and return the smallest item from the heap. Also, return and pop the smallest item from the heap?\n",
    "Expected Output- Items in the heap- ('VI', 1). ('VII', 3). ('VIII', 2). ---------------------- The smallest item in the heap: ('VI', 1). ---------------------- Pop the smallest item in the heap: ('VII', 2). ('VIII', 3)"
   ]
  },
  {
   "cell_type": "code",
   "execution_count": 370,
   "metadata": {},
   "outputs": [
    {
     "name": "stdout",
     "output_type": "stream",
     "text": [
      "Items in the heap:\n",
      "('VI', 1)\n",
      "('VIII', 2)\n",
      "('VII', 3)\n",
      "----------------------------------------\n",
      "The smallest item in the heap:\n",
      "('VI', 1)\n",
      "----------------------------------------\n",
      "Pop the smallest item in the heap:\n",
      "('VII', 3)\n",
      "('VIII', 2)\n"
     ]
    }
   ],
   "source": [
    "import heapq\n",
    "heap = []\n",
    "heapq.heappush(heap, ('VII', 3))\n",
    "heapq.heappush(heap, ('VIII', 2))\n",
    "heapq.heappush(heap, ('VI', 1))\n",
    "print(\"Items in the heap:\")\n",
    "for a in heap:\n",
    "    print(a)\n",
    "print(\"-\"*40)\n",
    "\n",
    "print(\"The smallest item in the heap:\")\n",
    "print(heap[0])\n",
    "\n",
    "print(\"-\"*40)\n",
    "\n",
    "print(\"Pop the smallest item in the heap:\")\n",
    "heapq.heappop(heap)\n",
    "for a in heap:\n",
    "    print(a)"
   ]
  },
  {
   "cell_type": "markdown",
   "metadata": {},
   "source": [
    "----------------------------------------------"
   ]
  },
  {
   "cell_type": "code",
   "execution_count": null,
   "metadata": {},
   "outputs": [],
   "source": [
    "Q45. Write the Python program to locate the left insertion point for a specified value in sorted order? Expected Output: 4 2"
   ]
  },
  {
   "cell_type": "code",
   "execution_count": 378,
   "metadata": {},
   "outputs": [
    {
     "name": "stdout",
     "output_type": "stream",
     "text": [
      "4\n",
      "2\n"
     ]
    }
   ],
   "source": [
    "import bisect\n",
    "def index(a, x):\n",
    "    i = bisect.bisect_left(a, x)\n",
    "    return i\n",
    "    \n",
    "a = [1,2,4,5]\n",
    "print(index(a, 6))\n",
    "print(index(a, 4))\n"
   ]
  },
  {
   "cell_type": "markdown",
   "metadata": {},
   "source": [
    "---------------------------------------------------------"
   ]
  },
  {
   "cell_type": "code",
   "execution_count": null,
   "metadata": {},
   "outputs": [],
   "source": [
    "Q46. Write the Python program to create the FIFO queue? Expected Output: 0 1 2 3"
   ]
  },
  {
   "cell_type": "code",
   "execution_count": 379,
   "metadata": {},
   "outputs": [
    {
     "name": "stdout",
     "output_type": "stream",
     "text": [
      "<queue.Queue object at 0x0AE89BF0>\n",
      "0 1 2 3 \n",
      "\n"
     ]
    }
   ],
   "source": [
    "import queue\n",
    "q = queue.Queue()\n",
    "print(q)\n",
    "#insert items at the end of the queue \n",
    "for x in range(4):\n",
    "    q.put(str(x))\n",
    "#remove items from the head of the queue \n",
    "while not q.empty():\n",
    "    print(q.get(), end=\" \")\n",
    "print(\"\\n\")"
   ]
  },
  {
   "cell_type": "markdown",
   "metadata": {},
   "source": [
    "-----------------------------------------------------"
   ]
  },
  {
   "cell_type": "code",
   "execution_count": null,
   "metadata": {},
   "outputs": [],
   "source": [
    "Q47. Write the Python program to calculate the harmonic sum of n-1. Note: The harmonic sum is the sum of reciprocals of the positive Integers?\n",
    "Example\n"
   ]
  },
  {
   "cell_type": "code",
   "execution_count": 380,
   "metadata": {},
   "outputs": [
    {
     "name": "stdout",
     "output_type": "stream",
     "text": [
      "2.5928571428571425\n",
      "2.083333333333333\n"
     ]
    }
   ],
   "source": [
    "def harmonic_sum(n):\n",
    "    if n < 2:\n",
    "        return 1\n",
    "    else:\n",
    "        return 1 / n + (harmonic_sum(n - 1))\n",
    "    \n",
    "print(harmonic_sum(7))\n",
    "print(harmonic_sum(4))"
   ]
  },
  {
   "cell_type": "markdown",
   "metadata": {},
   "source": [
    "--------------------------------------------------"
   ]
  },
  {
   "cell_type": "code",
   "execution_count": null,
   "metadata": {},
   "outputs": [],
   "source": [
    "Q48. Write the NumPy program to create a 2d array with 6 on the border and 0 inside?\n",
    "Expected Output- Original array- [ [6 6 6 6 6] [ 6 6 6 6 6] [ 6 6 6 6 6 ] [ 6 6 6 6 6 ] [ 6 6 6 6 ] ].\n",
    "6 on the border and 0 inside in the array- [[ 6 6 6 6 6] [ 6 0 0 0 6] [ 6 0 0 0 6] [ 6 0 0 0 6] [ 6 6 6 6 6]]."
   ]
  },
  {
   "cell_type": "code",
   "execution_count": 107,
   "metadata": {},
   "outputs": [
    {
     "name": "stdout",
     "output_type": "stream",
     "text": [
      " 2d array with 6 on the border and 0 inside [[6 6 6 6 6 6]\n",
      " [6 0 0 0 0 6]\n",
      " [6 0 0 0 0 6]\n",
      " [6 0 0 0 0 6]\n",
      " [6 0 0 0 0 6]\n",
      " [6 6 6 6 6 6]]\n"
     ]
    }
   ],
   "source": [
    "import numpy as np\n",
    "border = np.full((6,6),6)\n",
    "border[1:-1,1:-1]=0\n",
    "print(\" 2d array with 6 on the border and 0 inside\",border)\n"
   ]
  },
  {
   "cell_type": "markdown",
   "metadata": {},
   "source": [
    "--------------------------------------------"
   ]
  },
  {
   "cell_type": "code",
   "execution_count": null,
   "metadata": {},
   "outputs": [],
   "source": [
    "Q49. Write the NumPy program to create a 8x8 matrix and fill it with the checkerboard pattern?\n",
    "Checkerboard pattern- [[3 9 3 9 3 9 3 9] [9 3 9 3 9 3 9 3] [3 9 3 9 3 9 3 9] [9 3 9 3 9 3 9 3] [3 9 3 9 3 9 3 9] [9 3 9 3 9 3 9 3] [3 9 3 9 3 9 3 9] [9 3 9 3 9 3 9 3]]."
   ]
  },
  {
   "cell_type": "code",
   "execution_count": 122,
   "metadata": {},
   "outputs": [
    {
     "data": {
      "text/plain": [
       "array([[9, 3, 9, 3, 9, 3, 9, 3],\n",
       "       [3, 9, 3, 9, 3, 9, 3, 9],\n",
       "       [9, 3, 9, 3, 9, 3, 9, 3],\n",
       "       [3, 9, 3, 9, 3, 9, 3, 9],\n",
       "       [9, 3, 9, 3, 9, 3, 9, 3],\n",
       "       [3, 9, 3, 9, 3, 9, 3, 9],\n",
       "       [9, 3, 9, 3, 9, 3, 9, 3],\n",
       "       [3, 9, 3, 9, 3, 9, 3, 9]])"
      ]
     },
     "execution_count": 122,
     "metadata": {},
     "output_type": "execute_result"
    }
   ],
   "source": [
    "check_brd = np.full((8,8),9)\n",
    "check_brd[1::2,::2]=3\n",
    "check_brd[::2,1::2]=3\n",
    "\n",
    "check_brd"
   ]
  },
  {
   "cell_type": "markdown",
   "metadata": {},
   "source": [
    "-----------------------------------------------------------"
   ]
  },
  {
   "cell_type": "code",
   "execution_count": null,
   "metadata": {},
   "outputs": [],
   "source": [
    "Q50. Write the NumPy program to create an empty and a full array. Expected Output-\n",
    "[[4.45057637e-308 1.78021527e-306 8.45549797e-307 1.37962049e-306] [1.11260619e-306 1.78010255e-306 9.79054228e-307 4.45057637e-308] [8.45596650e-307 9.34602321e-307 4.94065646e-322 0.00000000e+000]] [[6 6 6] [6 6 6] [6 6 6]]"
   ]
  },
  {
   "cell_type": "code",
   "execution_count": 135,
   "metadata": {},
   "outputs": [
    {
     "name": "stdout",
     "output_type": "stream",
     "text": [
      "empty_array [[1.78019082e-306+1.17534009e-301j 5.92878775e-322+7.32971826e-300j\n",
      "  7.46145602e-300+7.32971826e-300j 7.46146277e-300+3.50292543e-321j]\n",
      " [2.02369289e-320+4.24399158e-313j 0.00000000e+000+0.00000000e+000j\n",
      "  0.00000000e+000+1.11253693e-306j 1.60219035e-306+1.42410974e-306j]\n",
      " [3.94635723e-268+5.92878775e-322j 7.32971826e-300+7.46145601e-300j\n",
      "  7.32971826e-300+7.46146277e-300j 2.24305803e-321+2.25293935e-321j]]\n",
      "------------------------------------------------------------\n",
      "[[6 6 6]\n",
      " [6 6 6]\n",
      " [6 6 6]]\n"
     ]
    }
   ],
   "source": [
    "empty_arr = np.empty((3,4), dtype=complex)\n",
    "print(\"empty_array\",empty_arr)\n",
    "\n",
    "print('-'*60)\n",
    "full_array = np.full((3,3),6)\n",
    "print(full_array)"
   ]
  },
  {
   "cell_type": "markdown",
   "metadata": {},
   "source": [
    "--------------------------------------"
   ]
  },
  {
   "cell_type": "code",
   "execution_count": null,
   "metadata": {},
   "outputs": [],
   "source": [
    "Q51. Write the NumPy program to convert the values of Centigrade degrees into the Fahrenheit degrees and\n",
    "the centigrade values are stored in the NumPy array."
   ]
  },
  {
   "cell_type": "code",
   "execution_count": 146,
   "metadata": {},
   "outputs": [
    {
     "name": "stdout",
     "output_type": "stream",
     "text": [
      "Fahrenhit: [ 0.   12.   45.21 34.   99.91]\n",
      "Centigrade: [-57.6   -36.     23.778   3.6   122.238]\n"
     ]
    }
   ],
   "source": [
    "Sample_Arr = [0, 12, 45.21 ,34, 99.91] \n",
    "Fahrenhit = np.array(Sample_Arr)\n",
    "print('Fahrenhit:', Fahrenhit )\n",
    "#Expected Output- Values in Fahrenheit degrees- [ 0. 12. 45.21 34. 99.91]\n",
    "print('Centigrade:', (Fahrenhit-32 )*9/5)"
   ]
  },
  {
   "cell_type": "markdown",
   "metadata": {},
   "source": [
    "----------------------------------------------------"
   ]
  },
  {
   "cell_type": "code",
   "execution_count": null,
   "metadata": {},
   "outputs": [],
   "source": [
    "Q52. Write the NumPy program to find the real and imaginary parts of an array of complex numbers?"
   ]
  },
  {
   "cell_type": "code",
   "execution_count": 149,
   "metadata": {},
   "outputs": [
    {
     "name": "stdout",
     "output_type": "stream",
     "text": [
      "Real Part: [1.         0.70710678]\n",
      "Imaginary Part: [0.         0.70710678]\n"
     ]
    }
   ],
   "source": [
    "o_arr=np.array([ 1.00000000+0.j, 0.70710678+0.70710678j])\n",
    "print('Real Part:',o_arr.real)\n",
    "print('Imaginary Part:',o_arr.imag)"
   ]
  },
  {
   "cell_type": "markdown",
   "metadata": {},
   "source": [
    "--------------------------------"
   ]
  },
  {
   "cell_type": "code",
   "execution_count": null,
   "metadata": {},
   "outputs": [],
   "source": [
    "Q53. Write the NumPy program to test whether each element of a 1-D array is also present in the second array?"
   ]
  },
  {
   "cell_type": "code",
   "execution_count": 152,
   "metadata": {},
   "outputs": [
    {
     "name": "stdout",
     "output_type": "stream",
     "text": [
      "[ True False False  True False]\n"
     ]
    }
   ],
   "source": [
    "array1= np.array([ 0, 10, 20, 40, 60] )\n",
    "array2= np.array([0, 40])\n",
    "print(np.isin(array1,array2))"
   ]
  },
  {
   "cell_type": "markdown",
   "metadata": {},
   "source": [
    "-----------------------------------"
   ]
  },
  {
   "cell_type": "code",
   "execution_count": null,
   "metadata": {},
   "outputs": [],
   "source": [
    "Q54. Write the NumPy program to find common values between two arrays?"
   ]
  },
  {
   "cell_type": "code",
   "execution_count": 162,
   "metadata": {},
   "outputs": [
    {
     "name": "stdout",
     "output_type": "stream",
     "text": [
      "Common Value between two array is  :  [10 40]\n"
     ]
    }
   ],
   "source": [
    "arr1= np.array([ 0, 10, 20, 40, 60] )\n",
    "arr2= np.array([10, 30, 40])\n",
    "print('Common Value between two array is  : ' ,np.intersect1d(arr1,arr2))"
   ]
  },
  {
   "cell_type": "markdown",
   "metadata": {},
   "source": [
    "----------------------------------------"
   ]
  },
  {
   "cell_type": "code",
   "execution_count": null,
   "metadata": {},
   "outputs": [],
   "source": [
    "Q55. Write the NumPy program to get the unique elements of an array?"
   ]
  },
  {
   "cell_type": "code",
   "execution_count": 167,
   "metadata": {},
   "outputs": [
    {
     "name": "stdout",
     "output_type": "stream",
     "text": [
      " Unique element of array : [10 20 30]\n",
      " Unique element of array : [1 2 3]\n"
     ]
    }
   ],
   "source": [
    "Original_array = np.array([10, 10, 20, 20, 30, 30])\n",
    "print(' Unique element of array :',np.unique(Original_array))\n",
    "\n",
    "Ori_array = np.array([[1, 1], [2 ,3]])\n",
    "print(' Unique element of array :',np.unique(Ori_array))"
   ]
  },
  {
   "cell_type": "markdown",
   "metadata": {},
   "source": [
    "--------------------------------------------------"
   ]
  },
  {
   "cell_type": "code",
   "execution_count": null,
   "metadata": {},
   "outputs": [],
   "source": [
    "Q56. Write the NumPy program to find the set exclusive-or of two arrays. Set exclusive-or will return the sorted, unique values that are in only one (not both) of the input arrays?"
   ]
  },
  {
   "cell_type": "code",
   "execution_count": 168,
   "metadata": {},
   "outputs": [
    {
     "data": {
      "text/plain": [
       "array([ 0, 20, 30, 50, 60, 70, 80])"
      ]
     },
     "execution_count": 168,
     "metadata": {},
     "output_type": "execute_result"
    }
   ],
   "source": [
    "ar1= np.array([ 0, 10, 20, 40, 60, 80])\n",
    "ar2 =[10, 30, 40, 50, 70]\n",
    "np.setxor1d(ar1,ar2)"
   ]
  },
  {
   "cell_type": "markdown",
   "metadata": {},
   "source": [
    "---------------------------"
   ]
  },
  {
   "cell_type": "code",
   "execution_count": null,
   "metadata": {},
   "outputs": [],
   "source": [
    "Q57. Write the NumPy program to test if all elements in an array evaluate to True ?"
   ]
  },
  {
   "cell_type": "code",
   "execution_count": 176,
   "metadata": {},
   "outputs": [
    {
     "name": "stdout",
     "output_type": "stream",
     "text": [
      "False\n",
      "True\n",
      "True\n",
      "False\n"
     ]
    }
   ],
   "source": [
    "#If all element is True then it retunrn True otherwise False\n",
    "print(np.all([[True,False],[True,True]]))\n",
    "print(np.all([[True,True],[True,True]]))\n",
    "print(np.all([-1, 4, 5]))\n",
    "print(np.all([-7,0, 4, 5]))"
   ]
  },
  {
   "cell_type": "markdown",
   "metadata": {},
   "source": [
    "-----------------------------------"
   ]
  },
  {
   "cell_type": "code",
   "execution_count": null,
   "metadata": {},
   "outputs": [],
   "source": [
    "Q58 Write the NumPy program to test whether any array element along the given axis evaluates to True?"
   ]
  },
  {
   "cell_type": "code",
   "execution_count": 181,
   "metadata": {},
   "outputs": [
    {
     "name": "stdout",
     "output_type": "stream",
     "text": [
      "True\n",
      "False\n",
      "True\n",
      "True\n",
      "False\n"
     ]
    }
   ],
   "source": [
    "#At least one element is True then it return True otherwise False\n",
    "print(np.any([[True,False],[True,True]]))\n",
    "print(np.any([[False,False],[False,False]]))\n",
    "print(np.any([-1, 4, 5]))\n",
    "print(np.any([-7,0, 4, 5]))\n",
    "print(np.any([0, False]))"
   ]
  },
  {
   "cell_type": "markdown",
   "metadata": {},
   "source": [
    "--------------------------------------"
   ]
  },
  {
   "cell_type": "code",
   "execution_count": null,
   "metadata": {},
   "outputs": [],
   "source": [
    "Q59. Write the NumPy program to construct an array by repeating?"
   ]
  },
  {
   "cell_type": "code",
   "execution_count": 185,
   "metadata": {},
   "outputs": [
    {
     "name": "stdout",
     "output_type": "stream",
     "text": [
      "Repeating two times: [1 2 3 4 1 2 3 4]\n"
     ]
    }
   ],
   "source": [
    "a_arr = np.array([1, 2, 3, 4])\n",
    "print('Repeating two times:',np.tile(a_arr,2))"
   ]
  },
  {
   "cell_type": "markdown",
   "metadata": {},
   "source": [
    "-------------------------"
   ]
  },
  {
   "cell_type": "code",
   "execution_count": null,
   "metadata": {},
   "outputs": [],
   "source": [
    "Q60. Write the NumPy program to find the indices of the maximum and minimum values with the given axis of an array?"
   ]
  },
  {
   "cell_type": "code",
   "execution_count": 191,
   "metadata": {},
   "outputs": [
    {
     "name": "stdout",
     "output_type": "stream",
     "text": [
      "Maximum index Values- 5\n",
      "Minimum index Values 0\n"
     ]
    }
   ],
   "source": [
    "sample = np.array([1, 2, 3, 4, 5, 6])\n",
    "print('Maximum index Values-',np.argmax(sample))\n",
    "print('Minimum index Values',np.argmin(sample))"
   ]
  },
  {
   "cell_type": "markdown",
   "metadata": {},
   "source": [
    "-----------------------------------"
   ]
  },
  {
   "cell_type": "code",
   "execution_count": null,
   "metadata": {},
   "outputs": [],
   "source": [
    "Q61. Write the NumPy program compare two arrays using numpy?"
   ]
  },
  {
   "cell_type": "code",
   "execution_count": 198,
   "metadata": {},
   "outputs": [
    {
     "name": "stdout",
     "output_type": "stream",
     "text": [
      "a>b [False False]\n",
      "a<b [ True  True]\n",
      "a>=b [False False]\n",
      "a=<b [ True  True]\n"
     ]
    }
   ],
   "source": [
    "a = np.array([1, 2] )\n",
    "b = np.array([4, 5])\n",
    "\n",
    "print('a>b',np.greater(a,b))\n",
    "print('a<b',np.less(a,b))\n",
    "print('a>=b',np.greater_equal(a,b))\n",
    "print('a=<b',np.less_equal(a,b))\n"
   ]
  },
  {
   "cell_type": "markdown",
   "metadata": {},
   "source": [
    "------------------------------"
   ]
  },
  {
   "cell_type": "code",
   "execution_count": null,
   "metadata": {},
   "outputs": [],
   "source": [
    "Q62. Write the NumPy program to sort an along the first, last axis of an array?"
   ]
  },
  {
   "cell_type": "code",
   "execution_count": 211,
   "metadata": {},
   "outputs": [
    {
     "name": "stdout",
     "output_type": "stream",
     "text": [
      "[[4 6]\n",
      " [2 1]]\n",
      "first axis [[2 1]\n",
      " [4 6]]\n",
      "last axis [[4 6]\n",
      " [1 2]]\n"
     ]
    }
   ],
   "source": [
    "sam = np.array([[4,6],[2,1]])\n",
    "print(sam)\n",
    "\n",
    "print('first axis',np.sort(sam, axis=0))\n",
    "print('last axis',np.sort(sam, axis=1))"
   ]
  },
  {
   "cell_type": "markdown",
   "metadata": {},
   "source": [
    "-------------------------------------"
   ]
  },
  {
   "cell_type": "code",
   "execution_count": null,
   "metadata": {},
   "outputs": [],
   "source": [
    "Q63. Write the NumPy program to sort pairs of first name and last name return their indices (first by last name, then by first name)."
   ]
  },
  {
   "cell_type": "code",
   "execution_count": 217,
   "metadata": {},
   "outputs": [
    {
     "name": "stdout",
     "output_type": "stream",
     "text": [
      "[0 3 2 4 1]\n"
     ]
    }
   ],
   "source": [
    "\n",
    "first_names =   ( 'Betsey', 'Shelley', 'Lanell', 'Genesis','Margery')\n",
    "last_names = ('Battle', 'Brien','Plotner','Stahl', 'Woolum')\n",
    "x = np.lexsort((last_names,first_names))\n",
    "print(x)"
   ]
  },
  {
   "cell_type": "markdown",
   "metadata": {},
   "source": [
    "--------------------------------------"
   ]
  },
  {
   "cell_type": "code",
   "execution_count": null,
   "metadata": {},
   "outputs": [],
   "source": [
    "Q64. Write the NumPy program to get the values and indices of the elements that are bigger than 10 in the given array?"
   ]
  },
  {
   "cell_type": "code",
   "execution_count": 235,
   "metadata": {},
   "outputs": [
    {
     "name": "stdout",
     "output_type": "stream",
     "text": [
      "Element bigger than 10 [20 20 30 40]\n",
      "Indeices of element (array([0, 0, 0, 0], dtype=int32), array([0, 1, 1, 1], dtype=int32), array([2, 0, 1, 2], dtype=int32))\n"
     ]
    }
   ],
   "source": [
    "org_arr =np.array( [[ 0, 10, 20], [20, 30, 40]])\n",
    "print('Element bigger than 10',org_arr[org_arr>10])\n",
    "print('Indeices of element',np.where([org_arr>10]))"
   ]
  },
  {
   "cell_type": "markdown",
   "metadata": {},
   "source": [
    "-----------------------------------------"
   ]
  },
  {
   "cell_type": "code",
   "execution_count": null,
   "metadata": {},
   "outputs": [],
   "source": [
    "Q65. Write the NumPy program to find the memory size of a NumPy array?"
   ]
  },
  {
   "cell_type": "code",
   "execution_count": 246,
   "metadata": {},
   "outputs": [
    {
     "name": "stdout",
     "output_type": "stream",
     "text": [
      "64 bytes\n"
     ]
    }
   ],
   "source": [
    "n=np.full((4,4),8)\n",
    "print(n.nbytes,'bytes')\n"
   ]
  },
  {
   "cell_type": "markdown",
   "metadata": {},
   "source": [
    "---------------------------------"
   ]
  },
  {
   "cell_type": "code",
   "execution_count": null,
   "metadata": {},
   "outputs": [],
   "source": [
    "Q66. Write the NumPy program to create an array of ones and an array of zeros?"
   ]
  },
  {
   "cell_type": "code",
   "execution_count": 267,
   "metadata": {},
   "outputs": [
    {
     "name": "stdout",
     "output_type": "stream",
     "text": [
      "[1 1]\n",
      "----------\n",
      "[0 0]\n"
     ]
    }
   ],
   "source": [
    "one = np.ones((2), dtype=int)\n",
    "print(one)\n",
    "print('-'*10)\n",
    "zero=np.zeros((2), dtype=int)\n",
    "print(zero)"
   ]
  },
  {
   "cell_type": "markdown",
   "metadata": {},
   "source": [
    "-------------------------------------------------"
   ]
  },
  {
   "cell_type": "code",
   "execution_count": null,
   "metadata": {},
   "outputs": [],
   "source": [
    "Q67. Write the NumPy program to change the dimension of an array?"
   ]
  },
  {
   "cell_type": "code",
   "execution_count": 294,
   "metadata": {},
   "outputs": [
    {
     "name": "stdout",
     "output_type": "stream",
     "text": [
      "6 row and 0 column (6,)\n",
      "-------------------------------------------------------\n",
      "(3, 3) -> 3 rows and 3 columns \n",
      "(3, 3)\n",
      "[[1 2 3]\n",
      " [4 5 6]\n",
      " [7 8 9]]\n",
      "-------------------------------------------------------\n",
      "Change array shape to (3, 3) -> 3 rows and 3 columns \n",
      "[[1 2 3]\n",
      " [4 5 6]\n",
      " [7 8 9]]\n"
     ]
    }
   ],
   "source": [
    "i = np.array([0,1,2,3,4,5])\n",
    "print('6 row and 0 column',np.shape(i))\n",
    "print('-' *55)\n",
    "j = np.array([[1,2,3],[4,5,6],[7,8,9]])\n",
    "print(\"(3, 3) -> 3 rows and 3 columns \")\n",
    "print(j.shape)\n",
    "print(j)\n",
    "\n",
    "print('-' *55)\n",
    "\n",
    "k = np.array([1,2,3,4,5,6,7,8,9])\n",
    "print(\"Change array shape to (3, 3) -> 3 rows and 3 columns \")\n",
    "k.shape =(3,3)\n",
    "print(k)"
   ]
  },
  {
   "cell_type": "markdown",
   "metadata": {},
   "source": [
    "--------------------------------"
   ]
  },
  {
   "cell_type": "code",
   "execution_count": null,
   "metadata": {},
   "outputs": [],
   "source": [
    "Q68. Write the NumPy program to create a new shape to an array without changing its data ?"
   ]
  },
  {
   "cell_type": "code",
   "execution_count": 303,
   "metadata": {},
   "outputs": [
    {
     "name": "stdout",
     "output_type": "stream",
     "text": [
      "Reshape 3x2- [[1 2]\n",
      " [3 4]\n",
      " [5 6]]\n",
      "-----------------------------------\n",
      "Reshape 2x3- [[1 2 3]\n",
      " [4 5 6]]\n"
     ]
    }
   ],
   "source": [
    "m = np.array([1,2,3,4,5,6])\n",
    "m.shape=(3,2)\n",
    "print('Reshape 3x2-',m)\n",
    "print('-' *35)\n",
    "print('Reshape 2x3-',m.reshape(2,3))"
   ]
  },
  {
   "cell_type": "markdown",
   "metadata": {},
   "source": [
    "-------------------------------------"
   ]
  },
  {
   "cell_type": "code",
   "execution_count": null,
   "metadata": {},
   "outputs": [],
   "source": [
    "Q69. Write the NumPy program to create a new array of 3*5, filled with 2?"
   ]
  },
  {
   "cell_type": "code",
   "execution_count": 329,
   "metadata": {},
   "outputs": [
    {
     "name": "stdout",
     "output_type": "stream",
     "text": [
      "[[[2 2 2 2 2]\n",
      "  [2 2 2 2 2]\n",
      "  [2 2 2 2 2]]\n",
      "\n",
      " [[2 2 2 2 2]\n",
      "  [2 2 2 2 2]\n",
      "  [2 2 2 2 2]]]\n"
     ]
    }
   ],
   "source": [
    "x=np.ones((2,3,5), dtype=int)\n",
    "print(x*2)\n"
   ]
  },
  {
   "cell_type": "markdown",
   "metadata": {},
   "source": [
    "------------------------------------"
   ]
  },
  {
   "cell_type": "code",
   "execution_count": null,
   "metadata": {},
   "outputs": [],
   "source": [
    "Q70. Write the NumPy program to create a 3-D array with ones on a diagonal and zeros elsewhere?"
   ]
  },
  {
   "cell_type": "code",
   "execution_count": 333,
   "metadata": {},
   "outputs": [
    {
     "name": "stdout",
     "output_type": "stream",
     "text": [
      "[[1. 0. 0.]\n",
      " [0. 1. 0.]\n",
      " [0. 0. 1.]]\n"
     ]
    }
   ],
   "source": [
    "mat = np.eye(3)\n",
    "print(mat)"
   ]
  },
  {
   "cell_type": "markdown",
   "metadata": {},
   "source": [
    "---------------------------------"
   ]
  },
  {
   "cell_type": "code",
   "execution_count": null,
   "metadata": {},
   "outputs": [],
   "source": [
    "Q71. Write the NumPy program to split an array of 14 elements into the 3 arrays and each of which has 2, 4, and 8 elements in original order?"
   ]
  },
  {
   "cell_type": "code",
   "execution_count": 339,
   "metadata": {},
   "outputs": [
    {
     "data": {
      "text/plain": [
       "[array([1, 2]),\n",
       " array([3, 4, 5, 6]),\n",
       " array([ 7,  8,  9, 10, 11, 12, 13, 14]),\n",
       " array([], dtype=int32)]"
      ]
     },
     "execution_count": 339,
     "metadata": {},
     "output_type": "execute_result"
    }
   ],
   "source": [
    "Org_array = [ 1, 2, 3, 4, 5, 6, 7, 8, 9, 10, 11, 12, 13, 14]\n",
    "np.split(Org_array,[2,6,14])"
   ]
  },
  {
   "cell_type": "markdown",
   "metadata": {},
   "source": [
    "---------------------------------------"
   ]
  },
  {
   "cell_type": "code",
   "execution_count": null,
   "metadata": {},
   "outputs": [],
   "source": [
    "Q72. Write the NumPy program to split of an array of shape 4x4 it into two arrays along the second axis ?"
   ]
  },
  {
   "cell_type": "code",
   "execution_count": 343,
   "metadata": {},
   "outputs": [
    {
     "data": {
      "text/plain": [
       "[array([[ 0,  1],\n",
       "        [ 4,  5],\n",
       "        [ 8,  9],\n",
       "        [12, 13]]), array([[ 2,  3],\n",
       "        [ 6,  7],\n",
       "        [10, 11],\n",
       "        [14, 15]])]"
      ]
     },
     "execution_count": 343,
     "metadata": {},
     "output_type": "execute_result"
    }
   ],
   "source": [
    "Smp_arr = [[ 0, 1, 2, 3], [ 4, 5, 6, 7], [ 8, 9, 10, 11], [12, 13, 14, 15]]\n",
    "np.split(Smp_arr, [2], axis=1)"
   ]
  },
  {
   "cell_type": "markdown",
   "metadata": {},
   "source": [
    "----------------------------------"
   ]
  },
  {
   "cell_type": "code",
   "execution_count": null,
   "metadata": {},
   "outputs": [],
   "source": [
    "Q73. Write the NumPy program to create a 5x5 matrix with row values ranging from 0 to 4?"
   ]
  },
  {
   "cell_type": "code",
   "execution_count": 353,
   "metadata": {},
   "outputs": [
    {
     "name": "stdout",
     "output_type": "stream",
     "text": [
      "Original array-\n",
      "[[0. 0. 0. 0. 0.]\n",
      " [0. 0. 0. 0. 0.]\n",
      " [0. 0. 0. 0. 0.]\n",
      " [0. 0. 0. 0. 0.]\n",
      " [0. 0. 0. 0. 0.]]\n",
      "Row values ranging from 0 to 4-\n",
      "[[0. 1. 2. 3. 4.]\n",
      " [0. 1. 2. 3. 4.]\n",
      " [0. 1. 2. 3. 4.]\n",
      " [0. 1. 2. 3. 4.]\n",
      " [0. 1. 2. 3. 4.]]\n"
     ]
    }
   ],
   "source": [
    "print('Original array-')\n",
    "x =np.zeros((5,5))\n",
    "print(x)\n",
    "print('Row values ranging from 0 to 4-')\n",
    "x = x+range(5)\n",
    "print(x)"
   ]
  },
  {
   "cell_type": "markdown",
   "metadata": {},
   "source": [
    "-----------------------------------------"
   ]
  },
  {
   "cell_type": "code",
   "execution_count": null,
   "metadata": {},
   "outputs": [],
   "source": [
    "Q74. Write the NumPy program to create an array of zeros and three column types (integer, float, character)?"
   ]
  },
  {
   "cell_type": "code",
   "execution_count": 371,
   "metadata": {},
   "outputs": [
    {
     "name": "stdout",
     "output_type": "stream",
     "text": [
      "[(1, 2., 'Albert Einstein') (2, 2., 'Edmond Halley')\n",
      " (3, 3., 'Gertrude B. Elion')]\n"
     ]
    }
   ],
   "source": [
    "y = np.zeros((3,) ,dtype=('i4,f4,U20'))\n",
    "l = [(1, 2., \"Albert Einstein\"), (2, 2., \"Edmond Halley\"), (3, 3., \"Gertrude B. Elion\")]\n",
    "y[:] = l\n",
    "print(y)"
   ]
  },
  {
   "cell_type": "markdown",
   "metadata": {},
   "source": [
    "--------------------------------"
   ]
  },
  {
   "cell_type": "code",
   "execution_count": null,
   "metadata": {},
   "outputs": [],
   "source": [
    "Q75. Write the NumPy program to remove the negative values in the numpy array with 0?"
   ]
  },
  {
   "cell_type": "code",
   "execution_count": 375,
   "metadata": {},
   "outputs": [
    {
     "data": {
      "text/plain": [
       "array([0, 0, 0, 2, 3, 4, 5, 0])"
      ]
     },
     "execution_count": 375,
     "metadata": {},
     "output_type": "execute_result"
    }
   ],
   "source": [
    "z=np.array([-1, -4, 0, 2, 3, 4, 5, -6])\n",
    "z[z<0]=0\n",
    "z"
   ]
  },
  {
   "cell_type": "markdown",
   "metadata": {},
   "source": [
    "-----------------------------------"
   ]
  },
  {
   "cell_type": "code",
   "execution_count": null,
   "metadata": {},
   "outputs": [],
   "source": [
    "Q76. Write the NumPy program to compute the histogram of a set of data?"
   ]
  },
  {
   "cell_type": "code",
   "execution_count": 5,
   "metadata": {},
   "outputs": [
    {
     "data": {
      "text/plain": [
       "Text(0,0.5,'Frequency')"
      ]
     },
     "execution_count": 5,
     "metadata": {},
     "output_type": "execute_result"
    },
    {
     "data": {
      "image/png": "[encoded data removed]",
      "text/plain": [
       "<Figure size 432x288 with 1 Axes>"
      ]
     },
     "metadata": {
      "needs_background": "light"
     },
     "output_type": "display_data"
    }
   ],
   "source": [
    "import numpy as np\n",
    "import matplotlib.pyplot as plt\n",
    "import matplotlib.pyplot as plt\n",
    "%matplotlib inline\n",
    "male = np.array([110,80,86,94,112,135,148,129,150,91,108,138])\n",
    "female = np.array([60,80,86,94,52,35,48,29,50,91,68,38])\n",
    "plt.hist([male,female], bins=4, rwidth=0.99 ,color=['green','orange'], label=['male','female'])\n",
    "plt.legend()\n",
    "plt.xlabel('male,female')\n",
    "plt.ylabel('Frequency')\n"
   ]
  },
  {
   "cell_type": "markdown",
   "metadata": {},
   "source": [
    "--------------------------------------------"
   ]
  },
  {
   "cell_type": "code",
   "execution_count": null,
   "metadata": {},
   "outputs": [],
   "source": [
    "Q77. Write the NumPy program to compute the line graph of a set of data?"
   ]
  },
  {
   "cell_type": "code",
   "execution_count": 15,
   "metadata": {},
   "outputs": [
    {
     "data": {
      "text/plain": [
       "[<matplotlib.lines.Line2D at 0x4777310>]"
      ]
     },
     "execution_count": 15,
     "metadata": {},
     "output_type": "execute_result"
    },
    {
     "data": {
      "image/png": "[encoded data removed]",
      "text/plain": [
       "<Figure size 432x288 with 1 Axes>"
      ]
     },
     "metadata": {
      "needs_background": "light"
     },
     "output_type": "display_data"
    }
   ],
   "source": [
    "import matplotlib.pyplot as plt\n",
    "l = np.array([1,1,1,5,4.5,3.9,2.4,1.6,1.5,2.6,3,4,5,3.5,1,1,5,4.5,3.9,2.4,3,1,3,1,1.6,2,2,3.6,4.8,2.5,1,1])\n",
    "plt.plot(l)"
   ]
  },
  {
   "cell_type": "markdown",
   "metadata": {},
   "source": [
    "------------------------------------------------"
   ]
  },
  {
   "cell_type": "code",
   "execution_count": null,
   "metadata": {},
   "outputs": [],
   "source": [
    "Q78. Write the NumPy program to extracts all the elements from second row from given (4x4) array?"
   ]
  },
  {
   "cell_type": "code",
   "execution_count": 17,
   "metadata": {},
   "outputs": [
    {
     "data": {
      "text/plain": [
       "[4, 5, 6, 7]"
      ]
     },
     "execution_count": 17,
     "metadata": {},
     "output_type": "execute_result"
    }
   ],
   "source": [
    "o =  [[ 0, 1, 2, 3], [ 4, 5, 6, 7], [ 8, 9, 10, 11], [12, 13, 14, 15]]\n",
    "o[1]"
   ]
  },
  {
   "cell_type": "markdown",
   "metadata": {},
   "source": [
    "---------------------------------"
   ]
  },
  {
   "cell_type": "code",
   "execution_count": null,
   "metadata": {},
   "outputs": [],
   "source": [
    "Q79. Write the NumPy program to extract first element of the second row and fourth element of fourth row from a given (4x4) array?"
   ]
  },
  {
   "cell_type": "code",
   "execution_count": 25,
   "metadata": {},
   "outputs": [
    {
     "name": "stdout",
     "output_type": "stream",
     "text": [
      "Extracted data- First element of the second row and fourth element of fourth row\n"
     ]
    },
    {
     "data": {
      "text/plain": [
       "array([ 4, 15])"
      ]
     },
     "execution_count": 25,
     "metadata": {},
     "output_type": "execute_result"
    }
   ],
   "source": [
    "orr = np.array([[ 0, 1, 2, 3], [ 4, 5, 6, 7], [ 8, 9, 10, 11], [12, 13, 14, 15]])\n",
    "print('Extracted data- First element of the second row and fourth element of fourth row')\n",
    "orr[[1,3],[0,3]]"
   ]
  },
  {
   "cell_type": "markdown",
   "metadata": {},
   "source": [
    "-----------------------------------"
   ]
  },
  {
   "cell_type": "code",
   "execution_count": null,
   "metadata": {},
   "outputs": [],
   "source": [
    "Q80. Write the NumPy program to add two arrays A and B of sizes (3,3) and (,3)?"
   ]
  },
  {
   "cell_type": "code",
   "execution_count": 30,
   "metadata": {},
   "outputs": [
    {
     "data": {
      "text/plain": [
       "array([[1, 2, 3],\n",
       "       [1, 2, 3],\n",
       "       [1, 2, 3]])"
      ]
     },
     "execution_count": 30,
     "metadata": {},
     "output_type": "execute_result"
    }
   ],
   "source": [
    "ar1 = np.array([[1, 1, 1], [1, 1, 1], [1, 1, 1]])\n",
    "ar2 = np.array([0, 1, 2])\n",
    "c=ar1+ar2\n",
    "c"
   ]
  },
  {
   "cell_type": "markdown",
   "metadata": {},
   "source": [
    "-----------------------------------------"
   ]
  },
  {
   "cell_type": "code",
   "execution_count": null,
   "metadata": {},
   "outputs": [],
   "source": [
    "Q81. Write the NumPy program to copy data from a given array to another array?"
   ]
  },
  {
   "cell_type": "code",
   "execution_count": 38,
   "metadata": {},
   "outputs": [
    {
     "name": "stdout",
     "output_type": "stream",
     "text": [
      "Original array\n",
      "[24, 27, 30, 29, 18, 14]\n",
      "------------------------------\n",
      "Copy of the said array-\n",
      "[24, 27, 30, 29, 18, 14]\n"
     ]
    }
   ],
   "source": [
    "nw_ar =[24, 27, 30, 29, 18, 14]\n",
    "print('Original array')\n",
    "print(nw_ar)\n",
    "print('-'*30)\n",
    "copied_ar = nw_ar.copy()\n",
    "print('Copy of the said array-')\n",
    "print(copied_ar)"
   ]
  },
  {
   "cell_type": "markdown",
   "metadata": {},
   "source": [
    "--------------------------------------"
   ]
  },
  {
   "cell_type": "code",
   "execution_count": null,
   "metadata": {},
   "outputs": [],
   "source": [
    "Q82. Write the NumPy program to calculate the sum of all columns of the 2D numpy array?"
   ]
  },
  {
   "cell_type": "code",
   "execution_count": 46,
   "metadata": {},
   "outputs": [
    {
     "name": "stdout",
     "output_type": "stream",
     "text": [
      "Sum of all columns-\n"
     ]
    },
    {
     "data": {
      "text/plain": [
       "array([54, 58, 62, 66, 70, 74, 78, 82, 86])"
      ]
     },
     "execution_count": 46,
     "metadata": {},
     "output_type": "execute_result"
    }
   ],
   "source": [
    "b_ar = np.array([[ 0, 1, 2, 3, 4, 5, 6, 7, 8], [ 9, 10, 11, 12, 13, 14, 15, 16, 17], [18, 19, 20, 21, 22, 23, 24, 25, 26], [27, 28, 29, 30, 31, 32, 33, 34, 35]])\n",
    "print('Sum of all columns-')\n",
    "np.sum(b_ar, axis=0)"
   ]
  },
  {
   "cell_type": "markdown",
   "metadata": {},
   "source": [
    "-----------------------------------"
   ]
  },
  {
   "cell_type": "code",
   "execution_count": null,
   "metadata": {},
   "outputs": [],
   "source": [
    "Q83. Write the NumPy program to calculate averages without NaNs along the given array?"
   ]
  },
  {
   "cell_type": "code",
   "execution_count": 59,
   "metadata": {},
   "outputs": [
    {
     "name": "stdout",
     "output_type": "stream",
     "text": [
      "Averages without NaNs along the said array- [20. 45.  6. nan]\n"
     ]
    },
    {
     "name": "stderr",
     "output_type": "stream",
     "text": [
      "C:\\Users\\MANOJ\\Anaconda3\\lib\\site-packages\\ipykernel_launcher.py:3: RuntimeWarning: Mean of empty slice\n",
      "  This is separate from the ipykernel package so we can avoid doing imports until\n"
     ]
    }
   ],
   "source": [
    "c_arr=np.array([[10., 20., 30.], [40., 50., np.nan], [np.nan, 6., np.nan], [np.nan, np.nan, np.nan]])\n",
    "\n",
    "d=np.nanmean(c_arr, axis=1)\n",
    "print('Averages without NaNs along the said array-',d)"
   ]
  },
  {
   "cell_type": "markdown",
   "metadata": {},
   "source": [
    "--------------------------------"
   ]
  },
  {
   "cell_type": "code",
   "execution_count": null,
   "metadata": {},
   "outputs": [],
   "source": [
    "Q84. Create two arrays of six elements. Write the NumPy program to count the number of instances of a value occurring in one array on the condition of another array"
   ]
  },
  {
   "cell_type": "code",
   "execution_count": 68,
   "metadata": {},
   "outputs": [
    {
     "data": {
      "text/plain": [
       "3"
      ]
     },
     "execution_count": 68,
     "metadata": {},
     "output_type": "execute_result"
    }
   ],
   "source": [
    "x = np.array([ 10, -10, 10, -10, -10, 10])\n",
    "y = np.array([0.85, 0.45, 0.9, 0.8, 0.12, 0.6 ])\n",
    "z= np.sum((x==10) & (y>0.5))\n",
    "z"
   ]
  },
  {
   "cell_type": "markdown",
   "metadata": {},
   "source": [
    "---------------------------------------"
   ]
  },
  {
   "cell_type": "code",
   "execution_count": null,
   "metadata": {},
   "outputs": [],
   "source": [
    "Q85. Write the NumPy program to convert a Python dictionary to a Numpy ndarray ?"
   ]
  },
  {
   "cell_type": "code",
   "execution_count": 77,
   "metadata": {},
   "outputs": [
    {
     "data": {
      "text/plain": [
       "array(dict_values([78, 'jag', 'sol', 55]), dtype=object)"
      ]
     },
     "execution_count": 77,
     "metadata": {},
     "output_type": "execute_result"
    }
   ],
   "source": [
    "d = {1:78, 2:'jag', 3:'sol', 4:55}\n",
    "n = np.array(d)\n",
    "type(n)\n",
    "d.keys()\n",
    "np.array(d.values())"
   ]
  },
  {
   "cell_type": "code",
   "execution_count": 85,
   "metadata": {},
   "outputs": [
    {
     "data": {
      "text/plain": [
       "dict_items([('column0', {'a': 1, 'b': 0.0, 'c': 0.0, 'd': 2.0}), ('column1', {'a': 3.0, 'b': 1, 'c': 0.0, 'd': -1.0}), ('column2', {'a': 4, 'b': 1, 'c': 5.0, 'd': -1.0}), ('column3', {'a': 3.0, 'b': -1.0, 'c': -1.0, 'd': -1.0})])"
      ]
     },
     "execution_count": 85,
     "metadata": {},
     "output_type": "execute_result"
    }
   ],
   "source": [
    "d={'column0': {'a': 1, 'b': 0.0, 'c': 0.0, 'd': 2.0}, \n",
    "   'column1': {'a': 3.0, 'b': 1, 'c': 0.0, 'd': -1.0}, \n",
    "   'column2': {'a': 4, 'b': 1, 'c': 5.0, 'd': -1.0}, \n",
    "   'column3': {'a': 3.0, 'b': -1.0, 'c': -1.0, 'd': -1.0}}\n",
    "d.\n",
    "\n"
   ]
  },
  {
   "cell_type": "markdown",
   "metadata": {},
   "source": [
    "-----------------------------------------------------------"
   ]
  },
  {
   "cell_type": "code",
   "execution_count": null,
   "metadata": {},
   "outputs": [],
   "source": [
    "Q86. Write the Numpy program to find and store the non-zero unique rows in an array after comparing each row with other row in the given matrix?"
   ]
  },
  {
   "cell_type": "code",
   "execution_count": 86,
   "metadata": {},
   "outputs": [],
   "source": [
    "or_ar=[[ 1, 1, 0], [ 0, 0, 0], [ 0, 2, 3], [ 0, 0, 0], [ 0, -1, 1], [ 0, 0, 0]]\n"
   ]
  },
  {
   "cell_type": "markdown",
   "metadata": {},
   "source": [
    "----------------------------------------------"
   ]
  },
  {
   "cell_type": "code",
   "execution_count": null,
   "metadata": {},
   "outputs": [],
   "source": [
    "Q87. Write the NumPy program to multiply the matrix by another matrix of complex numbers and create a new matrix of complex numbers?"
   ]
  },
  {
   "cell_type": "code",
   "execution_count": 89,
   "metadata": {},
   "outputs": [
    {
     "name": "stdout",
     "output_type": "stream",
     "text": [
      "Product of above two arrays\n"
     ]
    },
    {
     "data": {
      "text/plain": [
       "(70-8j)"
      ]
     },
     "execution_count": 89,
     "metadata": {},
     "output_type": "execute_result"
    }
   ],
   "source": [
    "m1 = np.array([ 1.+2.j, 3.+4.j])\n",
    "m2=np.array([ 5.+6.j, 7.+8.j])\n",
    "print('Product of above two arrays')\n",
    "m3=np.vdot(m1,m2)\n",
    "m3"
   ]
  },
  {
   "cell_type": "markdown",
   "metadata": {},
   "source": [
    "---------------------------------"
   ]
  },
  {
   "cell_type": "code",
   "execution_count": null,
   "metadata": {},
   "outputs": [],
   "source": [
    "Q88. Write a NumPy program to generate the matrix product of two Arrays?"
   ]
  },
  {
   "cell_type": "code",
   "execution_count": 91,
   "metadata": {},
   "outputs": [
    {
     "data": {
      "text/plain": [
       "array([[3, 1],\n",
       "       [5, 3]])"
      ]
     },
     "execution_count": 91,
     "metadata": {},
     "output_type": "execute_result"
    }
   ],
   "source": [
    "a = [[1, 0], [1, 1]]\n",
    "b = [[3, 1], [2, 2]]\n",
    "c=np.dot(a,b)\n",
    "c"
   ]
  },
  {
   "cell_type": "markdown",
   "metadata": {},
   "source": [
    "---------------------------------------------"
   ]
  },
  {
   "cell_type": "code",
   "execution_count": null,
   "metadata": {},
   "outputs": [],
   "source": [
    "Q89. Write the NumPy program to find roots of the following Polynomials?"
   ]
  },
  {
   "cell_type": "code",
   "execution_count": null,
   "metadata": {},
   "outputs": [],
   "source": []
  },
  {
   "cell_type": "markdown",
   "metadata": {},
   "source": [
    "----------------------------------------"
   ]
  },
  {
   "cell_type": "code",
   "execution_count": null,
   "metadata": {},
   "outputs": [],
   "source": [
    "Q90. Write the NumPy program to calculate inverse of sine, cosine, and inverse tangent for all elements in a given array?"
   ]
  },
  {
   "cell_type": "code",
   "execution_count": 92,
   "metadata": {},
   "outputs": [
    {
     "name": "stdout",
     "output_type": "stream",
     "text": [
      "Inverse sine: [-1.57079633  0.          1.57079633]\n",
      "Inverse cosine: [3.14159265 1.57079633 0.        ]\n",
      "Inverse tangent: [-0.78539816  0.          0.78539816]\n"
     ]
    }
   ],
   "source": [
    "x = np.array([-1., 0, 1.])\n",
    "print(\"Inverse sine:\", np.arcsin(x))\n",
    "print(\"Inverse cosine:\", np.arccos(x))\n",
    "print(\"Inverse tangent:\", np.arctan(x))"
   ]
  },
  {
   "cell_type": "markdown",
   "metadata": {},
   "source": [
    "-----------------------------------"
   ]
  },
  {
   "cell_type": "code",
   "execution_count": null,
   "metadata": {},
   "outputs": [],
   "source": [
    "Q91. Write the NumPy program to calculate the difference between in neighbouring elements, element-wise of a given array?"
   ]
  },
  {
   "cell_type": "code",
   "execution_count": 93,
   "metadata": {},
   "outputs": [
    {
     "data": {
      "text/plain": [
       "array([ 2,  2,  2, -7])"
      ]
     },
     "execution_count": 93,
     "metadata": {},
     "output_type": "execute_result"
    }
   ],
   "source": [
    "g=[1, 3, 5, 7, 0]\n",
    "np.diff(g)"
   ]
  },
  {
   "cell_type": "markdown",
   "metadata": {},
   "source": [
    "----------------------------------------"
   ]
  },
  {
   "cell_type": "code",
   "execution_count": null,
   "metadata": {},
   "outputs": [],
   "source": [
    "Q92. Write the Python program to find the maximum and the minimum value of a given flattened array?"
   ]
  },
  {
   "cell_type": "code",
   "execution_count": 95,
   "metadata": {},
   "outputs": [
    {
     "name": "stdout",
     "output_type": "stream",
     "text": [
      "Maximum value of the above flattened array\n",
      "3\n",
      "Minimum value of the above flattened array\n",
      "0\n"
     ]
    }
   ],
   "source": [
    "flat_arr=[[0, 1], [2 ,3]]\n",
    "print('Maximum value of the above flattened array')\n",
    "print(np.max(flat_arr))\n",
    "print('Minimum value of the above flattened array')\n",
    "print(np.min(flat_arr))"
   ]
  },
  {
   "cell_type": "markdown",
   "metadata": {},
   "source": [
    "--------------------------------------"
   ]
  },
  {
   "cell_type": "code",
   "execution_count": null,
   "metadata": {},
   "outputs": [],
   "source": [
    "Q93. Write the NumPy program to calculate the difference between in the maximum and the minimum values of a given array along the second axis ?"
   ]
  },
  {
   "cell_type": "code",
   "execution_count": 98,
   "metadata": {},
   "outputs": [
    {
     "data": {
      "text/plain": [
       "array([5, 5])"
      ]
     },
     "execution_count": 98,
     "metadata": {},
     "output_type": "execute_result"
    }
   ],
   "source": [
    "mx_mn=[[ 0, 1, 2, 3, 4, 5], [ 6, 7, 8, 9, 10, 11]]\n",
    "j=np.max(mx_mn, axis=1)\n",
    "k=np.min(mx_mn, axis=1)\n",
    "l=j-k\n",
    "l"
   ]
  },
  {
   "cell_type": "markdown",
   "metadata": {},
   "source": [
    "-------------------------------------"
   ]
  },
  {
   "cell_type": "code",
   "execution_count": null,
   "metadata": {},
   "outputs": [],
   "source": [
    "Q94. Write the NumPy program to compute the weighted of the given array ?"
   ]
  },
  {
   "cell_type": "code",
   "execution_count": 99,
   "metadata": {},
   "outputs": [
    {
     "data": {
      "text/plain": [
       "2.0"
      ]
     },
     "execution_count": 99,
     "metadata": {},
     "output_type": "execute_result"
    }
   ],
   "source": [
    "wt=[0,1,2,3,4]\n",
    "np.average(wt)"
   ]
  },
  {
   "cell_type": "markdown",
   "metadata": {},
   "source": [
    "-----------------------------------------------------"
   ]
  },
  {
   "cell_type": "code",
   "execution_count": null,
   "metadata": {},
   "outputs": [],
   "source": [
    "Q95. Write the NumPy program to compute the mean, standard deviation, and the variance of a given array along the second axis?"
   ]
  },
  {
   "cell_type": "code",
   "execution_count": 102,
   "metadata": {},
   "outputs": [
    {
     "name": "stdout",
     "output_type": "stream",
     "text": [
      "Mean :  2.5\n",
      "Standard Deviation :  1.707825127659933\n",
      "Variance :  2.9166666666666665\n"
     ]
    }
   ],
   "source": [
    "st=[0, 1, 2, 3, 4, 5]\n",
    "print('Mean : ', np.mean(st))\n",
    "print('Standard Deviation : ', np.std(st))\n",
    "print('Variance : ', np.var(st))"
   ]
  },
  {
   "cell_type": "markdown",
   "metadata": {},
   "source": [
    "------------------------------------------------"
   ]
  },
  {
   "cell_type": "code",
   "execution_count": null,
   "metadata": {},
   "outputs": [],
   "source": [
    "Q96. Write the Numpy program to compute the covariance matrix of the two given arrays?"
   ]
  },
  {
   "cell_type": "code",
   "execution_count": 105,
   "metadata": {},
   "outputs": [
    {
     "data": {
      "text/plain": [
       "array([[ 1., -1.],\n",
       "       [-1.,  1.]])"
      ]
     },
     "execution_count": 105,
     "metadata": {},
     "output_type": "execute_result"
    }
   ],
   "source": [
    "co1 = [0, 1, 2] \n",
    "co2 = [2, 1, 0]\n",
    "np.cov(co1,co2)"
   ]
  },
  {
   "cell_type": "markdown",
   "metadata": {},
   "source": [
    "------------------------------------------------------"
   ]
  },
  {
   "cell_type": "code",
   "execution_count": null,
   "metadata": {},
   "outputs": [],
   "source": [
    "Q97. Write a NumPy program to compute the cross-correlation of two given arrays ?"
   ]
  },
  {
   "cell_type": "code",
   "execution_count": 106,
   "metadata": {},
   "outputs": [
    {
     "data": {
      "text/plain": [
       "array([[2.33333333, 2.16666667],\n",
       "       [2.16666667, 2.33333333]])"
      ]
     },
     "execution_count": 106,
     "metadata": {},
     "output_type": "execute_result"
    }
   ],
   "source": [
    "co1 = [0, 1, 3] \n",
    "co2 = [2, 4, 5]\n",
    "np.cov(co1,co2)"
   ]
  },
  {
   "cell_type": "markdown",
   "metadata": {},
   "source": [
    "----------------------------------------------------"
   ]
  },
  {
   "cell_type": "code",
   "execution_count": null,
   "metadata": {},
   "outputs": [],
   "source": [
    "Q98. Write the NumPy program to compute Pearson product-moment correlation coefficients of two given arrays?"
   ]
  },
  {
   "cell_type": "code",
   "execution_count": 107,
   "metadata": {},
   "outputs": [
    {
     "data": {
      "text/plain": [
       "array([[1.        , 0.92857143],\n",
       "       [0.92857143, 1.        ]])"
      ]
     },
     "execution_count": 107,
     "metadata": {},
     "output_type": "execute_result"
    }
   ],
   "source": [
    "co1 = [0, 1, 3] \n",
    "co2 = [2, 4, 5]\n",
    "np.corrcoef(co1,co2)"
   ]
  },
  {
   "cell_type": "markdown",
   "metadata": {},
   "source": [
    "------------------------------------------"
   ]
  },
  {
   "cell_type": "code",
   "execution_count": null,
   "metadata": {},
   "outputs": [],
   "source": [
    "Q99. Write the python program to count the number of occurrences of each value in a given array of non-negative integers?"
   ]
  },
  {
   "cell_type": "code",
   "execution_count": 108,
   "metadata": {},
   "outputs": [
    {
     "data": {
      "text/plain": [
       "array([1, 3, 2, 0, 1, 0, 1, 1], dtype=int32)"
      ]
     },
     "execution_count": 108,
     "metadata": {},
     "output_type": "execute_result"
    }
   ],
   "source": [
    "bc=[0, 1, 6, 1, 4, 1, 2, 2, 7]\n",
    "np.bincount(bc)"
   ]
  },
  {
   "cell_type": "markdown",
   "metadata": {},
   "source": [
    "---------------------------------------"
   ]
  },
  {
   "cell_type": "code",
   "execution_count": null,
   "metadata": {},
   "outputs": [],
   "source": [
    "Q100. Write a Numpy program to compute the histogram of nums against the bins?"
   ]
  },
  {
   "cell_type": "code",
   "execution_count": 112,
   "metadata": {},
   "outputs": [
    {
     "data": {
      "text/plain": [
       "(array([2., 3., 1.]), array([0, 1, 2, 3]), <a list of 3 Patch objects>)"
      ]
     },
     "execution_count": 112,
     "metadata": {},
     "output_type": "execute_result"
    },
    {
     "data": {
      "image/png": "[encoded data removed]",
      "text/plain": [
       "<Figure size 432x288 with 1 Axes>"
      ]
     },
     "metadata": {
      "needs_background": "light"
     },
     "output_type": "display_data"
    }
   ],
   "source": [
    "import matplotlib.pyplot as plt\n",
    "num = [0.5, 0.7, 1., 1.2, 1.3, 2.1]\n",
    "plt.hist(num, bins=[0, 1, 2, 3])"
   ]
  },
  {
   "cell_type": "markdown",
   "metadata": {},
   "source": [
    "-------------------------------------------"
   ]
  },
  {
   "cell_type": "code",
   "execution_count": null,
   "metadata": {},
   "outputs": [],
   "source": [
    "Q101. Write the Python program to add, subtract, multiply and divide two pandas series ?"
   ]
  },
  {
   "cell_type": "code",
   "execution_count": 127,
   "metadata": {},
   "outputs": [
    {
     "name": "stdout",
     "output_type": "stream",
     "text": [
      "Addition: 0     3\n",
      "1     7\n",
      "2    11\n",
      "3    15\n",
      "4    19\n",
      "dtype: int64\n",
      "substraction\n",
      "0    1\n",
      "1    1\n",
      "2    1\n",
      "3    1\n",
      "4    1\n",
      "dtype: int64\n",
      "0     2\n",
      "1    12\n",
      "2    30\n",
      "3    56\n",
      "4    90\n",
      "dtype: int64\n",
      "0    2.000000\n",
      "1    1.333333\n",
      "2    1.200000\n",
      "3    1.142857\n",
      "4    1.111111\n",
      "dtype: float64\n"
     ]
    }
   ],
   "source": [
    "import  pandas as pd\n",
    "series1 = pd.Series([2, 4, 6, 8, 10])\n",
    "series2 = pd.Series([1, 3, 5, 7, 9])\n",
    "add = series1+series2\n",
    "print('Addition:',add)\n",
    "sub =  series1-series2\n",
    "print('substraction')\n",
    "print(sub)\n",
    "mul = series1*series2\n",
    "print(mul)\n",
    "devide = series1/series2\n",
    "print(devide)"
   ]
  },
  {
   "cell_type": "markdown",
   "metadata": {},
   "source": [
    "----------------------------------------------------"
   ]
  },
  {
   "cell_type": "code",
   "execution_count": null,
   "metadata": {},
   "outputs": [],
   "source": [
    "Q102. Write a Python program to convert a dictionary to the Pandas Series?"
   ]
  },
  {
   "cell_type": "code",
   "execution_count": 134,
   "metadata": {},
   "outputs": [
    {
     "data": {
      "text/plain": [
       "a    100\n",
       "b    200\n",
       "c    300\n",
       "d    400\n",
       "e    800\n",
       "dtype: int64"
      ]
     },
     "execution_count": 134,
     "metadata": {},
     "output_type": "execute_result"
    }
   ],
   "source": [
    "dict = {'a': 100, 'b': 200, 'c': 300, 'd': 400, 'e': 800}\n",
    "ds = pd.Series(dict)\n",
    "ds"
   ]
  },
  {
   "cell_type": "markdown",
   "metadata": {},
   "source": [
    "--------------------------------------------"
   ]
  },
  {
   "cell_type": "code",
   "execution_count": null,
   "metadata": {},
   "outputs": [],
   "source": [
    "Q103. Write a python program to change the data type of given a column or a Series?"
   ]
  },
  {
   "cell_type": "code",
   "execution_count": 147,
   "metadata": {},
   "outputs": [
    {
     "name": "stdout",
     "output_type": "stream",
     "text": [
      "0       100\n",
      "1       200\n",
      "2    python\n",
      "3    300.12\n",
      "4       400\n",
      "dtype: object\n",
      "0    100.00\n",
      "1    200.00\n",
      "2       NaN\n",
      "3    300.12\n",
      "4    400.00\n",
      "dtype: float64\n"
     ]
    }
   ],
   "source": [
    "s1 = pd.Series(['100', '200', 'python', '300.12', '400'])\n",
    "print(s1)\n",
    "s2=pd.to_numeric(s1,errors='coerce')\n",
    "print(s2)"
   ]
  },
  {
   "cell_type": "markdown",
   "metadata": {},
   "source": [
    "-------------------------------------------------"
   ]
  },
  {
   "cell_type": "code",
   "execution_count": null,
   "metadata": {},
   "outputs": [],
   "source": [
    "Q104. Write the python pandas program to convert the first column of a DataFrame as a Series?"
   ]
  },
  {
   "cell_type": "code",
   "execution_count": 161,
   "metadata": {},
   "outputs": [
    {
     "name": "stdout",
     "output_type": "stream",
     "text": [
      "0     1\n",
      "1     2\n",
      "2     3\n",
      "3     4\n",
      "4     7\n",
      "5    11\n",
      "Name: col1, dtype: int64\n",
      "<class 'pandas.core.series.Series'>\n"
     ]
    }
   ],
   "source": [
    "d = {'col1': [1, 2, 3, 4, 7, 11], 'col2': [4, 5, 6, 9, 5, 0], 'col3': [7, 5, 8, 12, 1,11]}\n",
    "df = pd.DataFrame(d)\n",
    "df\n",
    "dfs = pd.Series(data=df['col1'])\n",
    "\n",
    "print(dfs)\n",
    "print(type(dfs))"
   ]
  },
  {
   "cell_type": "markdown",
   "metadata": {},
   "source": [
    "-------------------------------------------"
   ]
  },
  {
   "cell_type": "code",
   "execution_count": null,
   "metadata": {},
   "outputs": [],
   "source": [
    "Q105. Write a pandas program to create the mean and standard deviation of the data of a given Series?"
   ]
  },
  {
   "cell_type": "code",
   "execution_count": 167,
   "metadata": {},
   "outputs": [
    {
     "name": "stdout",
     "output_type": "stream",
     "text": [
      "Mean of Series :  4.818181818181818\n",
      "Standard deviation of Series :  2.522624895547565\n"
     ]
    }
   ],
   "source": [
    "s = pd.Series([1,2,3,4,5,6,7,8,9,5,3])\n",
    "print('Mean of Series : ',s.mean())\n",
    "print('Standard deviation of Series : ',s.std())"
   ]
  },
  {
   "cell_type": "markdown",
   "metadata": {},
   "source": [
    "-------------------------------------------------------------"
   ]
  },
  {
   "cell_type": "code",
   "execution_count": null,
   "metadata": {},
   "outputs": [],
   "source": [
    "Q106. Write a pandas program to get powers of an array values element-wise?"
   ]
  },
  {
   "cell_type": "code",
   "execution_count": 170,
   "metadata": {},
   "outputs": [
    {
     "data": {
      "text/html": [
       "<div>\n",
       "<style scoped>\n",
       "    .dataframe tbody tr th:only-of-type {\n",
       "        vertical-align: middle;\n",
       "    }\n",
       "\n",
       "    .dataframe tbody tr th {\n",
       "        vertical-align: top;\n",
       "    }\n",
       "\n",
       "    .dataframe thead th {\n",
       "        text-align: right;\n",
       "    }\n",
       "</style>\n",
       "<table border=\"1\" class=\"dataframe\">\n",
       "  <thead>\n",
       "    <tr style=\"text-align: right;\">\n",
       "      <th></th>\n",
       "      <th>X</th>\n",
       "      <th>Y</th>\n",
       "      <th>Z</th>\n",
       "    </tr>\n",
       "  </thead>\n",
       "  <tbody>\n",
       "    <tr>\n",
       "      <th>0</th>\n",
       "      <td>78</td>\n",
       "      <td>84</td>\n",
       "      <td>86</td>\n",
       "    </tr>\n",
       "    <tr>\n",
       "      <th>1</th>\n",
       "      <td>85</td>\n",
       "      <td>94</td>\n",
       "      <td>97</td>\n",
       "    </tr>\n",
       "    <tr>\n",
       "      <th>2</th>\n",
       "      <td>96</td>\n",
       "      <td>89</td>\n",
       "      <td>96</td>\n",
       "    </tr>\n",
       "    <tr>\n",
       "      <th>3</th>\n",
       "      <td>80</td>\n",
       "      <td>83</td>\n",
       "      <td>72</td>\n",
       "    </tr>\n",
       "    <tr>\n",
       "      <th>4</th>\n",
       "      <td>86</td>\n",
       "      <td>86</td>\n",
       "      <td>83</td>\n",
       "    </tr>\n",
       "  </tbody>\n",
       "</table>\n",
       "</div>"
      ],
      "text/plain": [
       "   X    Y    Z\n",
       "0  78   84  86\n",
       "1  85   94  97\n",
       "2  96   89  96\n",
       "3  80   83  72\n",
       "4  86   86  83"
      ]
     },
     "execution_count": 170,
     "metadata": {},
     "output_type": "execute_result"
    }
   ],
   "source": [
    "dic ={'X ':[78,85,96,80,86], ' Y ':[84,94,89,83,86],'Z':[86,97,96,72,83]}\n",
    "ddf = pd.DataFrame(dic)\n",
    "ddf"
   ]
  },
  {
   "cell_type": "markdown",
   "metadata": {},
   "source": [
    "-------------------------------------------------"
   ]
  },
  {
   "cell_type": "code",
   "execution_count": null,
   "metadata": {},
   "outputs": [],
   "source": [
    "Q107. Write the pandas program to get the first 3 rows of a given DataFrame?"
   ]
  },
  {
   "cell_type": "code",
   "execution_count": 190,
   "metadata": {},
   "outputs": [
    {
     "data": {
      "text/html": [
       "<div>\n",
       "<style scoped>\n",
       "    .dataframe tbody tr th:only-of-type {\n",
       "        vertical-align: middle;\n",
       "    }\n",
       "\n",
       "    .dataframe tbody tr th {\n",
       "        vertical-align: top;\n",
       "    }\n",
       "\n",
       "    .dataframe thead th {\n",
       "        text-align: right;\n",
       "    }\n",
       "</style>\n",
       "<table border=\"1\" class=\"dataframe\">\n",
       "  <thead>\n",
       "    <tr style=\"text-align: right;\">\n",
       "      <th></th>\n",
       "      <th>attempts</th>\n",
       "      <th>name</th>\n",
       "      <th>score</th>\n",
       "      <th>qualify</th>\n",
       "    </tr>\n",
       "  </thead>\n",
       "  <tbody>\n",
       "    <tr>\n",
       "      <th>a</th>\n",
       "      <td>1</td>\n",
       "      <td>Anastasia</td>\n",
       "      <td>12.5</td>\n",
       "      <td>yes</td>\n",
       "    </tr>\n",
       "    <tr>\n",
       "      <th>b</th>\n",
       "      <td>3</td>\n",
       "      <td>Dima</td>\n",
       "      <td>9.0</td>\n",
       "      <td>no</td>\n",
       "    </tr>\n",
       "    <tr>\n",
       "      <th>c</th>\n",
       "      <td>2</td>\n",
       "      <td>Katherine</td>\n",
       "      <td>16.5</td>\n",
       "      <td>yes</td>\n",
       "    </tr>\n",
       "  </tbody>\n",
       "</table>\n",
       "</div>"
      ],
      "text/plain": [
       "   attempts       name  score qualify\n",
       "a         1  Anastasia   12.5     yes\n",
       "b         3       Dima    9.0      no\n",
       "c         2  Katherine   16.5     yes"
      ]
     },
     "execution_count": 190,
     "metadata": {},
     "output_type": "execute_result"
    }
   ],
   "source": [
    "exam_data = { 'attempts': [1, 3, 2, 3, 2, 3, 1, 1, 2, 1],'name': ['Anastasia', 'Dima', 'Katherine', 'James', 'Emily', 'Michael', 'Matthew', 'Laura', 'Kevin', 'Jonas'], 'score': [12.5, 9, 16.5, np.nan, 9, 20, 14.5, np.nan, 8, 19], 'qualify' : [ 'yes', 'no', 'yes' , 'no', ' no ', ' yes ', 'yes', 'no', 'no', 'yes' ] }\n",
    "labels=['a', 'b', 'c', 'd', 'e', 'f', 'g', 'h', 'i', 'j' ]\n",
    "df_exam = pd.DataFrame(exam_data, index=labels)\n",
    "df_exam \n",
    "df_exam.head(3)"
   ]
  },
  {
   "cell_type": "markdown",
   "metadata": {},
   "source": [
    "----------------------------------------------"
   ]
  },
  {
   "cell_type": "code",
   "execution_count": null,
   "metadata": {},
   "outputs": [],
   "source": [
    "Q108: Write the pandas program to select the specified columns and the rows from a given data frame?"
   ]
  },
  {
   "cell_type": "code",
   "execution_count": 193,
   "metadata": {},
   "outputs": [
    {
     "data": {
      "text/html": [
       "<div>\n",
       "<style scoped>\n",
       "    .dataframe tbody tr th:only-of-type {\n",
       "        vertical-align: middle;\n",
       "    }\n",
       "\n",
       "    .dataframe tbody tr th {\n",
       "        vertical-align: top;\n",
       "    }\n",
       "\n",
       "    .dataframe thead th {\n",
       "        text-align: right;\n",
       "    }\n",
       "</style>\n",
       "<table border=\"1\" class=\"dataframe\">\n",
       "  <thead>\n",
       "    <tr style=\"text-align: right;\">\n",
       "      <th></th>\n",
       "      <th>name</th>\n",
       "      <th>score</th>\n",
       "    </tr>\n",
       "  </thead>\n",
       "  <tbody>\n",
       "    <tr>\n",
       "      <th>b</th>\n",
       "      <td>Dima</td>\n",
       "      <td>9.0</td>\n",
       "    </tr>\n",
       "    <tr>\n",
       "      <th>d</th>\n",
       "      <td>James</td>\n",
       "      <td>NaN</td>\n",
       "    </tr>\n",
       "    <tr>\n",
       "      <th>f</th>\n",
       "      <td>Michael</td>\n",
       "      <td>20.0</td>\n",
       "    </tr>\n",
       "    <tr>\n",
       "      <th>g</th>\n",
       "      <td>Matthew</td>\n",
       "      <td>14.5</td>\n",
       "    </tr>\n",
       "  </tbody>\n",
       "</table>\n",
       "</div>"
      ],
      "text/plain": [
       "      name  score\n",
       "b     Dima    9.0\n",
       "d    James    NaN\n",
       "f  Michael   20.0\n",
       "g  Matthew   14.5"
      ]
     },
     "execution_count": 193,
     "metadata": {},
     "output_type": "execute_result"
    }
   ],
   "source": [
    "df_exam.loc[['b','d','f','g']][['name','score']]"
   ]
  },
  {
   "cell_type": "markdown",
   "metadata": {},
   "source": [
    "-------------------------------------------------------"
   ]
  },
  {
   "cell_type": "code",
   "execution_count": null,
   "metadata": {},
   "outputs": [],
   "source": [
    "Q109. Write the pandas program to calculate mean score for each different student in DataFrame?"
   ]
  },
  {
   "cell_type": "code",
   "execution_count": 198,
   "metadata": {},
   "outputs": [
    {
     "data": {
      "text/plain": [
       "13.5625"
      ]
     },
     "execution_count": 198,
     "metadata": {},
     "output_type": "execute_result"
    }
   ],
   "source": [
    "df_exam['score'].mean()"
   ]
  },
  {
   "cell_type": "markdown",
   "metadata": {},
   "source": [
    "----------------------------------------"
   ]
  },
  {
   "cell_type": "code",
   "execution_count": null,
   "metadata": {},
   "outputs": [],
   "source": [
    "Q110. Write the Pandas program to rename columns of a given DataFrame ?"
   ]
  },
  {
   "cell_type": "code",
   "execution_count": 220,
   "metadata": {},
   "outputs": [
    {
     "name": "stdout",
     "output_type": "stream",
     "text": [
      "{'col1': [1, 2, 3], 'col2': [4, 5, 6], 'col3': [7, 8, 9]}\n",
      "--------------------------------------------------\n",
      "New data frame after renaming columns\n",
      "   column1  column2  column3\n",
      "0        1        4        7\n",
      "1        2        5        8\n",
      "2        3        6        9\n"
     ]
    }
   ],
   "source": [
    "odf = {'col1':[1,2,3], 'col2':[4,5,6], 'col3':[7,8,9]}\n",
    "print(odf)\n",
    "new_odf = pd.DataFrame(odf)\n",
    "print('-'*50)\n",
    "print('New data frame after renaming columns')\n",
    "new_odf=new_odf.rename(columns={\"col1\":\"column1\",'col2':'column2','col3':'column3'})\n",
    "print(new_odf)"
   ]
  },
  {
   "cell_type": "markdown",
   "metadata": {},
   "source": [
    "---------------------------------------------"
   ]
  },
  {
   "cell_type": "code",
   "execution_count": null,
   "metadata": {},
   "outputs": [],
   "source": [
    "Q111. Write a pandas program to count city-wise number of people from a given of data set (city, name of the person)?"
   ]
  },
  {
   "cell_type": "code",
   "execution_count": 235,
   "metadata": {},
   "outputs": [
    {
     "data": {
      "text/html": [
       "<div>\n",
       "<style scoped>\n",
       "    .dataframe tbody tr th:only-of-type {\n",
       "        vertical-align: middle;\n",
       "    }\n",
       "\n",
       "    .dataframe tbody tr th {\n",
       "        vertical-align: top;\n",
       "    }\n",
       "\n",
       "    .dataframe thead th {\n",
       "        text-align: right;\n",
       "    }\n",
       "</style>\n",
       "<table border=\"1\" class=\"dataframe\">\n",
       "  <thead>\n",
       "    <tr style=\"text-align: right;\">\n",
       "      <th></th>\n",
       "      <th>name</th>\n",
       "    </tr>\n",
       "    <tr>\n",
       "      <th>city</th>\n",
       "      <th></th>\n",
       "    </tr>\n",
       "  </thead>\n",
       "  <tbody>\n",
       "    <tr>\n",
       "      <th>California</th>\n",
       "      <td>4</td>\n",
       "    </tr>\n",
       "    <tr>\n",
       "      <th>Georgia</th>\n",
       "      <td>2</td>\n",
       "    </tr>\n",
       "    <tr>\n",
       "      <th>Los Angeles</th>\n",
       "      <td>4</td>\n",
       "    </tr>\n",
       "  </tbody>\n",
       "</table>\n",
       "</div>"
      ],
      "text/plain": [
       "             name\n",
       "city             \n",
       "California      4\n",
       "Georgia         2\n",
       "Los Angeles     4"
      ]
     },
     "execution_count": 235,
     "metadata": {},
     "output_type": "execute_result"
    }
   ],
   "source": [
    "df4 = pd.DataFrame({'name': ['Anastasia', 'Dima', 'Katherine', 'James', 'Emily', 'Michael', 'Matthew', 'Laura', 'Kevin', 'Jonas'],\n",
    "'city': ['California', 'Los Angeles', 'California', 'California', 'California', 'Los Angeles', 'Los Angeles', 'Georgia', 'Georgia', 'Los Angeles']})\n",
    "\n",
    "df4 = pd.DataFrame(df4)\n",
    "df5=df4.groupby(['city']).count()\n",
    "df5"
   ]
  },
  {
   "cell_type": "markdown",
   "metadata": {},
   "source": [
    "--------------------------------------------"
   ]
  },
  {
   "cell_type": "code",
   "execution_count": null,
   "metadata": {},
   "outputs": [],
   "source": [
    "Q112. Write a pandas program to widen output display to see more columns?"
   ]
  },
  {
   "cell_type": "code",
   "execution_count": 251,
   "metadata": {},
   "outputs": [
    {
     "name": "stdout",
     "output_type": "stream",
     "text": [
      "   col1  col2  col3\n",
      "0     1     4     7\n",
      "1     4     5     8\n",
      "2     3     6     9\n",
      "3     4     7     0\n",
      "4     5     8     1\n"
     ]
    }
   ],
   "source": [
    "d = {'col1': [1, 4, 3, 4, 5], 'col2': [4, 5, 6, 7, 8], 'col3': [7, 8, 9, 0, 1]}\n",
    "dfd = pd.DataFrame(d)\n",
    "pd.set_option('display.max_rows', 50)\n",
    "pd.set_option('display.max_columns', 50)\n",
    "pd.set_option('display.width', 30)\n",
    "print(dfd)"
   ]
  },
  {
   "cell_type": "markdown",
   "metadata": {},
   "source": [
    "-----------------------------------------------------"
   ]
  },
  {
   "cell_type": "code",
   "execution_count": null,
   "metadata": {},
   "outputs": [],
   "source": [
    "Q113. Write a pandas program to convert the data frame column type from string to DateTime?"
   ]
  },
  {
   "cell_type": "code",
   "execution_count": 281,
   "metadata": {},
   "outputs": [
    {
     "name": "stdout",
     "output_type": "stream",
     "text": [
      "Original DataFrame (string to datetime)-\n"
     ]
    },
    {
     "data": {
      "text/html": [
       "<div>\n",
       "<style scoped>\n",
       "    .dataframe tbody tr th:only-of-type {\n",
       "        vertical-align: middle;\n",
       "    }\n",
       "\n",
       "    .dataframe tbody tr th {\n",
       "        vertical-align: top;\n",
       "    }\n",
       "\n",
       "    .dataframe thead th {\n",
       "        text-align: right;\n",
       "    }\n",
       "</style>\n",
       "<table border=\"1\" class=\"dataframe\">\n",
       "  <thead>\n",
       "    <tr style=\"text-align: right;\">\n",
       "      <th></th>\n",
       "      <th>0</th>\n",
       "    </tr>\n",
       "  </thead>\n",
       "  <tbody>\n",
       "    <tr>\n",
       "      <th>0</th>\n",
       "      <td>2000-03-11</td>\n",
       "    </tr>\n",
       "    <tr>\n",
       "      <th>1</th>\n",
       "      <td>2000-03-12</td>\n",
       "    </tr>\n",
       "    <tr>\n",
       "      <th>2</th>\n",
       "      <td>2000-03-13</td>\n",
       "    </tr>\n",
       "  </tbody>\n",
       "</table>\n",
       "</div>"
      ],
      "text/plain": [
       "           0\n",
       "0 2000-03-11\n",
       "1 2000-03-12\n",
       "2 2000-03-13"
      ]
     },
     "execution_count": 281,
     "metadata": {},
     "output_type": "execute_result"
    }
   ],
   "source": [
    "string_date = pd.Series(['3/11/2000',  '3/12/2000',  '3/13/2000'])\n",
    "strdt = pd.to_datetime(string_date)\n",
    "strdt\n",
    "str_dt = pd.DataFrame(strdt)\n",
    "print('Original DataFrame (string to datetime)-')\n",
    "str_dt\n"
   ]
  },
  {
   "cell_type": "markdown",
   "metadata": {},
   "source": [
    "---------------------------------------------------"
   ]
  },
  {
   "cell_type": "code",
   "execution_count": null,
   "metadata": {},
   "outputs": [],
   "source": [
    "Q114. Write a pandas program to append the data to an empty DataFrame?"
   ]
  },
  {
   "cell_type": "code",
   "execution_count": 294,
   "metadata": {},
   "outputs": [
    {
     "data": {
      "text/html": [
       "<div>\n",
       "<style scoped>\n",
       "    .dataframe tbody tr th:only-of-type {\n",
       "        vertical-align: middle;\n",
       "    }\n",
       "\n",
       "    .dataframe tbody tr th {\n",
       "        vertical-align: top;\n",
       "    }\n",
       "\n",
       "    .dataframe thead th {\n",
       "        text-align: right;\n",
       "    }\n",
       "</style>\n",
       "<table border=\"1\" class=\"dataframe\">\n",
       "  <thead>\n",
       "    <tr style=\"text-align: right;\">\n",
       "      <th></th>\n",
       "      <th>col1</th>\n",
       "      <th>col2</th>\n",
       "      <th>col3</th>\n",
       "    </tr>\n",
       "  </thead>\n",
       "  <tbody>\n",
       "    <tr>\n",
       "      <th>0</th>\n",
       "      <td>0</td>\n",
       "      <td>1</td>\n",
       "      <td>2</td>\n",
       "    </tr>\n",
       "    <tr>\n",
       "      <th>1</th>\n",
       "      <td>0</td>\n",
       "      <td>1</td>\n",
       "      <td>2</td>\n",
       "    </tr>\n",
       "    <tr>\n",
       "      <th>2</th>\n",
       "      <td>0</td>\n",
       "      <td>1</td>\n",
       "      <td>2</td>\n",
       "    </tr>\n",
       "  </tbody>\n",
       "</table>\n",
       "</div>"
      ],
      "text/plain": [
       "   col1  col2  col3\n",
       "0     0     1     2\n",
       "1     0     1     2\n",
       "2     0     1     2"
      ]
     },
     "execution_count": 294,
     "metadata": {},
     "output_type": "execute_result"
    }
   ],
   "source": [
    "df_empt = pd.DataFrame()\n",
    "data = pd.DataFrame({'col1':[0,0,0], 'col2':[1,1,1],'col3':[2,2,2]})\n",
    "df_emptn=df_empt.append(data)\n",
    "df_emptn"
   ]
  },
  {
   "cell_type": "markdown",
   "metadata": {},
   "source": [
    "------------------------------------------------"
   ]
  },
  {
   "cell_type": "code",
   "execution_count": null,
   "metadata": {},
   "outputs": [],
   "source": [
    "Q115. Write a pandas program to count the number of columns of a DataFrame?"
   ]
  },
  {
   "cell_type": "code",
   "execution_count": 309,
   "metadata": {},
   "outputs": [
    {
     "name": "stdout",
     "output_type": "stream",
     "text": [
      "   col1  col2  col3\n",
      "0     1     4     7\n",
      "1     2     5     5\n",
      "2     3     6     8\n",
      "3     4     9    12\n",
      "4     7     5     1\n",
      "5    11     0    11\n",
      "----------------------------------------\n",
      "Number of columns\n",
      "3\n"
     ]
    }
   ],
   "source": [
    "dc = {'col1': [1, 2, 3, 4, 7, 11], 'col2': [4, 5, 6, 9, 5, 0], 'col3': [7, 5, 8, 12, 1,11]}\n",
    "dfdc = pd.DataFrame(dc)\n",
    "print(dfdc)\n",
    "print('-'*40)\n",
    "print('Number of columns')\n",
    "print(len(dfdc.columns))"
   ]
  },
  {
   "cell_type": "markdown",
   "metadata": {},
   "source": [
    "--------------------------------------------"
   ]
  },
  {
   "cell_type": "code",
   "execution_count": null,
   "metadata": {},
   "outputs": [],
   "source": [
    "Q116. Write a Pandas program to remove the last n rows of a given DataFrame"
   ]
  },
  {
   "cell_type": "code",
   "execution_count": 327,
   "metadata": {},
   "outputs": [
    {
     "name": "stdout",
     "output_type": "stream",
     "text": [
      "   col1  col2  col3\n",
      "0     1     4     7\n",
      "1     2     5     5\n",
      "2     3     6     8\n",
      "3     4     9    12\n",
      "4     7     5     1\n",
      "5    11     0    11\n"
     ]
    },
    {
     "data": {
      "text/html": [
       "<div>\n",
       "<style scoped>\n",
       "    .dataframe tbody tr th:only-of-type {\n",
       "        vertical-align: middle;\n",
       "    }\n",
       "\n",
       "    .dataframe tbody tr th {\n",
       "        vertical-align: top;\n",
       "    }\n",
       "\n",
       "    .dataframe thead th {\n",
       "        text-align: right;\n",
       "    }\n",
       "</style>\n",
       "<table border=\"1\" class=\"dataframe\">\n",
       "  <thead>\n",
       "    <tr style=\"text-align: right;\">\n",
       "      <th></th>\n",
       "      <th>col1</th>\n",
       "      <th>col2</th>\n",
       "      <th>col3</th>\n",
       "    </tr>\n",
       "  </thead>\n",
       "  <tbody>\n",
       "    <tr>\n",
       "      <th>0</th>\n",
       "      <td>1</td>\n",
       "      <td>4</td>\n",
       "      <td>7</td>\n",
       "    </tr>\n",
       "    <tr>\n",
       "      <th>1</th>\n",
       "      <td>2</td>\n",
       "      <td>5</td>\n",
       "      <td>5</td>\n",
       "    </tr>\n",
       "    <tr>\n",
       "      <th>2</th>\n",
       "      <td>3</td>\n",
       "      <td>6</td>\n",
       "      <td>8</td>\n",
       "    </tr>\n",
       "  </tbody>\n",
       "</table>\n",
       "</div>"
      ],
      "text/plain": [
       "   col1  col2  col3\n",
       "0     1     4     7\n",
       "1     2     5     5\n",
       "2     3     6     8"
      ]
     },
     "execution_count": 327,
     "metadata": {},
     "output_type": "execute_result"
    }
   ],
   "source": [
    "dcl = {'col1': [1, 2, 3, 4, 7, 11], 'col2': [4, 5, 6, 9, 5, 0], 'col3': [7, 5, 8, 12, 1,11]}\n",
    "dfdr = pd.DataFrame(dcl)\n",
    "print(dfdr)\n",
    "dfdr.drop([3,4,5])"
   ]
  },
  {
   "cell_type": "markdown",
   "metadata": {},
   "source": [
    "----------------------------------------------------"
   ]
  },
  {
   "cell_type": "code",
   "execution_count": null,
   "metadata": {},
   "outputs": [],
   "source": [
    "Q117. Write a Pandas program to import excel data (coalpublic2013.xlsx ) into a Pandas data frame"
   ]
  },
  {
   "cell_type": "code",
   "execution_count": 341,
   "metadata": {},
   "outputs": [
    {
     "data": {
      "text/html": [
       "<div>\n",
       "<style scoped>\n",
       "    .dataframe tbody tr th:only-of-type {\n",
       "        vertical-align: middle;\n",
       "    }\n",
       "\n",
       "    .dataframe tbody tr th {\n",
       "        vertical-align: top;\n",
       "    }\n",
       "\n",
       "    .dataframe thead th {\n",
       "        text-align: right;\n",
       "    }\n",
       "</style>\n",
       "<table border=\"1\" class=\"dataframe\">\n",
       "  <thead>\n",
       "    <tr style=\"text-align: right;\">\n",
       "      <th></th>\n",
       "      <th>Year</th>\n",
       "      <th>MSHA ID</th>\n",
       "      <th>Mine_Name</th>\n",
       "      <th>Production</th>\n",
       "      <th>Labor_Hours</th>\n",
       "    </tr>\n",
       "  </thead>\n",
       "  <tbody>\n",
       "    <tr>\n",
       "      <th>0</th>\n",
       "      <td>2013</td>\n",
       "      <td>103381</td>\n",
       "      <td>Tacoa Highwall Miner</td>\n",
       "      <td>56004</td>\n",
       "      <td>22392</td>\n",
       "    </tr>\n",
       "    <tr>\n",
       "      <th>1</th>\n",
       "      <td>2013</td>\n",
       "      <td>103404</td>\n",
       "      <td>Reid School Mine</td>\n",
       "      <td>28807</td>\n",
       "      <td>28447</td>\n",
       "    </tr>\n",
       "    <tr>\n",
       "      <th>2</th>\n",
       "      <td>2013</td>\n",
       "      <td>100759</td>\n",
       "      <td>North River #1 Underground Min</td>\n",
       "      <td>1440115</td>\n",
       "      <td>474784</td>\n",
       "    </tr>\n",
       "    <tr>\n",
       "      <th>3</th>\n",
       "      <td>2013</td>\n",
       "      <td>103246</td>\n",
       "      <td>Bear Creek</td>\n",
       "      <td>87587</td>\n",
       "      <td>29193</td>\n",
       "    </tr>\n",
       "    <tr>\n",
       "      <th>4</th>\n",
       "      <td>2013</td>\n",
       "      <td>103451</td>\n",
       "      <td>Knight Mine</td>\n",
       "      <td>147499</td>\n",
       "      <td>46393</td>\n",
       "    </tr>\n",
       "  </tbody>\n",
       "</table>\n",
       "</div>"
      ],
      "text/plain": [
       "   Year  MSHA ID  \\\n",
       "0  2013   103381   \n",
       "1  2013   103404   \n",
       "2  2013   100759   \n",
       "3  2013   103246   \n",
       "4  2013   103451   \n",
       "\n",
       "                        Mine_Name  \\\n",
       "0            Tacoa Highwall Miner   \n",
       "1                Reid School Mine   \n",
       "2  North River #1 Underground Min   \n",
       "3                      Bear Creek   \n",
       "4                     Knight Mine   \n",
       "\n",
       "   Production  Labor_Hours  \n",
       "0       56004        22392  \n",
       "1       28807        28447  \n",
       "2     1440115       474784  \n",
       "3       87587        29193  \n",
       "4      147499        46393  "
      ]
     },
     "execution_count": 341,
     "metadata": {},
     "output_type": "execute_result"
    }
   ],
   "source": [
    "df_exl = pd.read_excel('C:/Users/MANOJ/Downloads/coalpublic2013.xlsx')\n",
    "df_exl.head()"
   ]
  },
  {
   "cell_type": "markdown",
   "metadata": {},
   "source": [
    "------------------------------------------------------"
   ]
  },
  {
   "cell_type": "code",
   "execution_count": null,
   "metadata": {},
   "outputs": [],
   "source": [
    "Q118. Write a Pandas program to import excel data (coalpublic2013.xlsx ) into a data frame and find details where \"Mine Name\" starts with \"P."
   ]
  },
  {
   "cell_type": "code",
   "execution_count": 343,
   "metadata": {},
   "outputs": [
    {
     "name": "stdout",
     "output_type": "stream",
     "text": [
      "Dataframe details where \"Mine Name\" starts with \"P.\n"
     ]
    },
    {
     "data": {
      "text/html": [
       "<div>\n",
       "<style scoped>\n",
       "    .dataframe tbody tr th:only-of-type {\n",
       "        vertical-align: middle;\n",
       "    }\n",
       "\n",
       "    .dataframe tbody tr th {\n",
       "        vertical-align: top;\n",
       "    }\n",
       "\n",
       "    .dataframe thead th {\n",
       "        text-align: right;\n",
       "    }\n",
       "</style>\n",
       "<table border=\"1\" class=\"dataframe\">\n",
       "  <thead>\n",
       "    <tr style=\"text-align: right;\">\n",
       "      <th></th>\n",
       "      <th>Year</th>\n",
       "      <th>MSHA ID</th>\n",
       "      <th>Mine_Name</th>\n",
       "      <th>Production</th>\n",
       "      <th>Labor_Hours</th>\n",
       "    </tr>\n",
       "  </thead>\n",
       "  <tbody>\n",
       "    <tr>\n",
       "      <th>13</th>\n",
       "      <td>2013</td>\n",
       "      <td>103332</td>\n",
       "      <td>Powhatan Mine</td>\n",
       "      <td>140521</td>\n",
       "      <td>61394</td>\n",
       "    </tr>\n",
       "    <tr>\n",
       "      <th>18</th>\n",
       "      <td>2013</td>\n",
       "      <td>102976</td>\n",
       "      <td>Piney Woods Preparation Plant</td>\n",
       "      <td>0</td>\n",
       "      <td>14828</td>\n",
       "    </tr>\n",
       "    <tr>\n",
       "      <th>19</th>\n",
       "      <td>2013</td>\n",
       "      <td>102976</td>\n",
       "      <td>Piney Woods Preparation Plant</td>\n",
       "      <td>0</td>\n",
       "      <td>23193</td>\n",
       "    </tr>\n",
       "    <tr>\n",
       "      <th>46</th>\n",
       "      <td>2013</td>\n",
       "      <td>103321</td>\n",
       "      <td>Poplar Springs</td>\n",
       "      <td>189370</td>\n",
       "      <td>76366</td>\n",
       "    </tr>\n",
       "  </tbody>\n",
       "</table>\n",
       "</div>"
      ],
      "text/plain": [
       "    Year  MSHA ID  \\\n",
       "13  2013   103332   \n",
       "18  2013   102976   \n",
       "19  2013   102976   \n",
       "46  2013   103321   \n",
       "\n",
       "                        Mine_Name  \\\n",
       "13                  Powhatan Mine   \n",
       "18  Piney Woods Preparation Plant   \n",
       "19  Piney Woods Preparation Plant   \n",
       "46                 Poplar Springs   \n",
       "\n",
       "    Production  Labor_Hours  \n",
       "13      140521        61394  \n",
       "18           0        14828  \n",
       "19           0        23193  \n",
       "46      189370        76366  "
      ]
     },
     "execution_count": 343,
     "metadata": {},
     "output_type": "execute_result"
    }
   ],
   "source": [
    "df_exl = pd.read_excel('C:/Users/MANOJ/Downloads/coalpublic2013.xlsx')\n",
    "dfid=df_exl['Mine_Name'].str.startswith('P')\n",
    "print('Dataframe details where \"Mine Name\" starts with \"P.')\n",
    "df_exl[dfid]"
   ]
  },
  {
   "cell_type": "markdown",
   "metadata": {},
   "source": [
    "---------------------------------------"
   ]
  },
  {
   "cell_type": "code",
   "execution_count": null,
   "metadata": {},
   "outputs": [],
   "source": [
    "Q119. Write a Pandas program to import excel data (employee.xlsx ) into a Pandas dataframe and find the list of employees where hire_date> 01-01-07."
   ]
  },
  {
   "cell_type": "code",
   "execution_count": 351,
   "metadata": {},
   "outputs": [
    {
     "name": "stdout",
     "output_type": "stream",
     "text": [
      "list of employees where hire_date> 01-01-07.\n"
     ]
    },
    {
     "data": {
      "text/html": [
       "<div>\n",
       "<style scoped>\n",
       "    .dataframe tbody tr th:only-of-type {\n",
       "        vertical-align: middle;\n",
       "    }\n",
       "\n",
       "    .dataframe tbody tr th {\n",
       "        vertical-align: top;\n",
       "    }\n",
       "\n",
       "    .dataframe thead th {\n",
       "        text-align: right;\n",
       "    }\n",
       "</style>\n",
       "<table border=\"1\" class=\"dataframe\">\n",
       "  <thead>\n",
       "    <tr style=\"text-align: right;\">\n",
       "      <th></th>\n",
       "      <th>emp_id</th>\n",
       "      <th>first_name</th>\n",
       "      <th>last_name</th>\n",
       "      <th>hire_date</th>\n",
       "    </tr>\n",
       "  </thead>\n",
       "  <tbody>\n",
       "    <tr>\n",
       "      <th>4</th>\n",
       "      <td>104</td>\n",
       "      <td>Bruce</td>\n",
       "      <td>Ernst</td>\n",
       "      <td>2007-05-21</td>\n",
       "    </tr>\n",
       "    <tr>\n",
       "      <th>7</th>\n",
       "      <td>107</td>\n",
       "      <td>Diana</td>\n",
       "      <td>Lorentz</td>\n",
       "      <td>2007-02-07</td>\n",
       "    </tr>\n",
       "    <tr>\n",
       "      <th>13</th>\n",
       "      <td>113</td>\n",
       "      <td>Luis</td>\n",
       "      <td>Popp</td>\n",
       "      <td>2007-12-07</td>\n",
       "    </tr>\n",
       "    <tr>\n",
       "      <th>19</th>\n",
       "      <td>119</td>\n",
       "      <td>Karen</td>\n",
       "      <td>Colmenares</td>\n",
       "      <td>2007-08-10</td>\n",
       "    </tr>\n",
       "  </tbody>\n",
       "</table>\n",
       "</div>"
      ],
      "text/plain": [
       "    emp_id first_name  \\\n",
       "4      104      Bruce   \n",
       "7      107      Diana   \n",
       "13     113       Luis   \n",
       "19     119      Karen   \n",
       "\n",
       "     last_name  hire_date  \n",
       "4        Ernst 2007-05-21  \n",
       "7      Lorentz 2007-02-07  \n",
       "13        Popp 2007-12-07  \n",
       "19  Colmenares 2007-08-10  "
      ]
     },
     "execution_count": 351,
     "metadata": {},
     "output_type": "execute_result"
    }
   ],
   "source": [
    "df_emp = pd.read_excel('C:/Users/MANOJ/Downloads/employee.xlsx')\n",
    "df_emp = df_emp[df_emp['hire_date']>'01-01-07']\n",
    "print('list of employees where hire_date> 01-01-07.')\n",
    "df_emp"
   ]
  },
  {
   "cell_type": "markdown",
   "metadata": {},
   "source": [
    "-----------------------------------------------"
   ]
  },
  {
   "cell_type": "code",
   "execution_count": null,
   "metadata": {},
   "outputs": [],
   "source": [
    "Q120. Write a Pandas program to import excel data (employee.xlsx ) into a Pandas dataframe and find a list of the employees of a specified year"
   ]
  },
  {
   "cell_type": "code",
   "execution_count": 369,
   "metadata": {},
   "outputs": [
    {
     "name": "stdout",
     "output_type": "stream",
     "text": [
      "list of the employees of year - 2006\n"
     ]
    },
    {
     "data": {
      "text/html": [
       "<div>\n",
       "<style scoped>\n",
       "    .dataframe tbody tr th:only-of-type {\n",
       "        vertical-align: middle;\n",
       "    }\n",
       "\n",
       "    .dataframe tbody tr th {\n",
       "        vertical-align: top;\n",
       "    }\n",
       "\n",
       "    .dataframe thead th {\n",
       "        text-align: right;\n",
       "    }\n",
       "</style>\n",
       "<table border=\"1\" class=\"dataframe\">\n",
       "  <thead>\n",
       "    <tr style=\"text-align: right;\">\n",
       "      <th></th>\n",
       "      <th>emp_id</th>\n",
       "      <th>first_name</th>\n",
       "      <th>last_name</th>\n",
       "    </tr>\n",
       "    <tr>\n",
       "      <th>hire_date</th>\n",
       "      <th></th>\n",
       "      <th></th>\n",
       "      <th></th>\n",
       "    </tr>\n",
       "  </thead>\n",
       "  <tbody>\n",
       "    <tr>\n",
       "      <th>2006-01-03</th>\n",
       "      <td>103</td>\n",
       "      <td>Alexander</td>\n",
       "      <td>Hunold</td>\n",
       "    </tr>\n",
       "    <tr>\n",
       "      <th>2006-02-05</th>\n",
       "      <td>106</td>\n",
       "      <td>Valli</td>\n",
       "      <td>Pataballa</td>\n",
       "    </tr>\n",
       "    <tr>\n",
       "      <th>2006-03-07</th>\n",
       "      <td>112</td>\n",
       "      <td>Jose Manuel</td>\n",
       "      <td>Urman</td>\n",
       "    </tr>\n",
       "    <tr>\n",
       "      <th>2006-11-15</th>\n",
       "      <td>118</td>\n",
       "      <td>Guy</td>\n",
       "      <td>Himuro</td>\n",
       "    </tr>\n",
       "  </tbody>\n",
       "</table>\n",
       "</div>"
      ],
      "text/plain": [
       "            emp_id  \\\n",
       "hire_date            \n",
       "2006-01-03     103   \n",
       "2006-02-05     106   \n",
       "2006-03-07     112   \n",
       "2006-11-15     118   \n",
       "\n",
       "             first_name  \\\n",
       "hire_date                 \n",
       "2006-01-03    Alexander   \n",
       "2006-02-05        Valli   \n",
       "2006-03-07  Jose Manuel   \n",
       "2006-11-15          Guy   \n",
       "\n",
       "            last_name  \n",
       "hire_date              \n",
       "2006-01-03     Hunold  \n",
       "2006-02-05  Pataballa  \n",
       "2006-03-07      Urman  \n",
       "2006-11-15     Himuro  "
      ]
     },
     "execution_count": 369,
     "metadata": {},
     "output_type": "execute_result"
    }
   ],
   "source": [
    "df_emp = pd.read_excel('C:/Users/MANOJ/Downloads/employee.xlsx')\n",
    "df_emp2 = df_emp.set_index('hire_date')\n",
    "print('list of the employees of year - 2006')\n",
    "df_emp2['2006']"
   ]
  },
  {
   "cell_type": "markdown",
   "metadata": {},
   "source": [
    "-----------------------------------------"
   ]
  },
  {
   "cell_type": "code",
   "execution_count": null,
   "metadata": {},
   "outputs": [],
   "source": [
    "Q121. Write a pandas program to import three datasheets from a given excel data (coalpublic2013.xlsx ) in to a single dataframe"
   ]
  },
  {
   "cell_type": "code",
   "execution_count": 376,
   "metadata": {},
   "outputs": [
    {
     "name": "stderr",
     "output_type": "stream",
     "text": [
      "C:\\Users\\MANOJ\\Anaconda3\\lib\\site-packages\\pandas\\io\\excel.py:329: FutureWarning: The `sheetname` keyword is deprecated, use `sheet_name` instead\n",
      "  **kwds)\n"
     ]
    },
    {
     "data": {
      "text/html": [
       "<div>\n",
       "<style scoped>\n",
       "    .dataframe tbody tr th:only-of-type {\n",
       "        vertical-align: middle;\n",
       "    }\n",
       "\n",
       "    .dataframe tbody tr th {\n",
       "        vertical-align: top;\n",
       "    }\n",
       "\n",
       "    .dataframe thead th {\n",
       "        text-align: right;\n",
       "    }\n",
       "</style>\n",
       "<table border=\"1\" class=\"dataframe\">\n",
       "  <thead>\n",
       "    <tr style=\"text-align: right;\">\n",
       "      <th></th>\n",
       "      <th>Year</th>\n",
       "      <th>MSHA ID</th>\n",
       "      <th>Mine_Name</th>\n",
       "      <th>Production</th>\n",
       "      <th>Labor_Hours</th>\n",
       "    </tr>\n",
       "  </thead>\n",
       "  <tbody>\n",
       "    <tr>\n",
       "      <th>0</th>\n",
       "      <td>2013</td>\n",
       "      <td>103381</td>\n",
       "      <td>Tacoa Highwall Miner</td>\n",
       "      <td>56004</td>\n",
       "      <td>22392</td>\n",
       "    </tr>\n",
       "    <tr>\n",
       "      <th>1</th>\n",
       "      <td>2013</td>\n",
       "      <td>103404</td>\n",
       "      <td>Reid School Mine</td>\n",
       "      <td>28807</td>\n",
       "      <td>28447</td>\n",
       "    </tr>\n",
       "    <tr>\n",
       "      <th>2</th>\n",
       "      <td>2013</td>\n",
       "      <td>100759</td>\n",
       "      <td>North River #1 Underground Min</td>\n",
       "      <td>1440115</td>\n",
       "      <td>474784</td>\n",
       "    </tr>\n",
       "    <tr>\n",
       "      <th>3</th>\n",
       "      <td>2013</td>\n",
       "      <td>103246</td>\n",
       "      <td>Bear Creek</td>\n",
       "      <td>87587</td>\n",
       "      <td>29193</td>\n",
       "    </tr>\n",
       "    <tr>\n",
       "      <th>4</th>\n",
       "      <td>2013</td>\n",
       "      <td>103451</td>\n",
       "      <td>Knight Mine</td>\n",
       "      <td>147499</td>\n",
       "      <td>46393</td>\n",
       "    </tr>\n",
       "    <tr>\n",
       "      <th>5</th>\n",
       "      <td>2013</td>\n",
       "      <td>103433</td>\n",
       "      <td>Crane Central Mine</td>\n",
       "      <td>69339</td>\n",
       "      <td>47195</td>\n",
       "    </tr>\n",
       "    <tr>\n",
       "      <th>6</th>\n",
       "      <td>2013</td>\n",
       "      <td>100329</td>\n",
       "      <td>Concord Mine</td>\n",
       "      <td>0</td>\n",
       "      <td>144002</td>\n",
       "    </tr>\n",
       "    <tr>\n",
       "      <th>7</th>\n",
       "      <td>2013</td>\n",
       "      <td>100851</td>\n",
       "      <td>Oak Grove Mine</td>\n",
       "      <td>2269014</td>\n",
       "      <td>1001809</td>\n",
       "    </tr>\n",
       "    <tr>\n",
       "      <th>8</th>\n",
       "      <td>2013</td>\n",
       "      <td>102901</td>\n",
       "      <td>Shoal Creek Mine</td>\n",
       "      <td>0</td>\n",
       "      <td>12396</td>\n",
       "    </tr>\n",
       "    <tr>\n",
       "      <th>9</th>\n",
       "      <td>2013</td>\n",
       "      <td>102901</td>\n",
       "      <td>Shoal Creek Mine</td>\n",
       "      <td>1453024</td>\n",
       "      <td>1237415</td>\n",
       "    </tr>\n",
       "    <tr>\n",
       "      <th>10</th>\n",
       "      <td>2013</td>\n",
       "      <td>103180</td>\n",
       "      <td>Sloan Mountain Mine</td>\n",
       "      <td>327780</td>\n",
       "      <td>196963</td>\n",
       "    </tr>\n",
       "    <tr>\n",
       "      <th>11</th>\n",
       "      <td>2013</td>\n",
       "      <td>103182</td>\n",
       "      <td>Fishtrap</td>\n",
       "      <td>175058</td>\n",
       "      <td>87314</td>\n",
       "    </tr>\n",
       "    <tr>\n",
       "      <th>12</th>\n",
       "      <td>2013</td>\n",
       "      <td>103285</td>\n",
       "      <td>Narley Mine</td>\n",
       "      <td>154861</td>\n",
       "      <td>90584</td>\n",
       "    </tr>\n",
       "    <tr>\n",
       "      <th>13</th>\n",
       "      <td>2013</td>\n",
       "      <td>103332</td>\n",
       "      <td>Powhatan Mine</td>\n",
       "      <td>140521</td>\n",
       "      <td>61394</td>\n",
       "    </tr>\n",
       "    <tr>\n",
       "      <th>14</th>\n",
       "      <td>2013</td>\n",
       "      <td>103375</td>\n",
       "      <td>Johnson Mine</td>\n",
       "      <td>580</td>\n",
       "      <td>1900</td>\n",
       "    </tr>\n",
       "    <tr>\n",
       "      <th>15</th>\n",
       "      <td>2013</td>\n",
       "      <td>103419</td>\n",
       "      <td>Maxine-Pratt Mine</td>\n",
       "      <td>125824</td>\n",
       "      <td>107469</td>\n",
       "    </tr>\n",
       "    <tr>\n",
       "      <th>16</th>\n",
       "      <td>2013</td>\n",
       "      <td>103432</td>\n",
       "      <td>Skelton Creek</td>\n",
       "      <td>8252</td>\n",
       "      <td>220</td>\n",
       "    </tr>\n",
       "    <tr>\n",
       "      <th>17</th>\n",
       "      <td>2013</td>\n",
       "      <td>103437</td>\n",
       "      <td>Black Warrior Mine No 1</td>\n",
       "      <td>145924</td>\n",
       "      <td>70926</td>\n",
       "    </tr>\n",
       "    <tr>\n",
       "      <th>18</th>\n",
       "      <td>2013</td>\n",
       "      <td>102976</td>\n",
       "      <td>Piney Woods Preparation Plant</td>\n",
       "      <td>0</td>\n",
       "      <td>14828</td>\n",
       "    </tr>\n",
       "    <tr>\n",
       "      <th>19</th>\n",
       "      <td>2013</td>\n",
       "      <td>102976</td>\n",
       "      <td>Piney Woods Preparation Plant</td>\n",
       "      <td>0</td>\n",
       "      <td>23193</td>\n",
       "    </tr>\n",
       "    <tr>\n",
       "      <th>20</th>\n",
       "      <td>2013</td>\n",
       "      <td>103380</td>\n",
       "      <td>Calera</td>\n",
       "      <td>0</td>\n",
       "      <td>12621</td>\n",
       "    </tr>\n",
       "    <tr>\n",
       "      <th>21</th>\n",
       "      <td>2013</td>\n",
       "      <td>103380</td>\n",
       "      <td>Calera</td>\n",
       "      <td>0</td>\n",
       "      <td>1402</td>\n",
       "    </tr>\n",
       "    <tr>\n",
       "      <th>22</th>\n",
       "      <td>2013</td>\n",
       "      <td>103422</td>\n",
       "      <td>Clark No 1 Mine</td>\n",
       "      <td>122727</td>\n",
       "      <td>140250</td>\n",
       "    </tr>\n",
       "    <tr>\n",
       "      <th>23</th>\n",
       "      <td>2013</td>\n",
       "      <td>103467</td>\n",
       "      <td>Helena Surface Mine</td>\n",
       "      <td>59664</td>\n",
       "      <td>30539</td>\n",
       "    </tr>\n",
       "    <tr>\n",
       "      <th>24</th>\n",
       "      <td>2013</td>\n",
       "      <td>101247</td>\n",
       "      <td>No 4 Mine</td>\n",
       "      <td>2622528</td>\n",
       "      <td>1551141</td>\n",
       "    </tr>\n",
       "    <tr>\n",
       "      <th>25</th>\n",
       "      <td>2013</td>\n",
       "      <td>101401</td>\n",
       "      <td>No 7 Mine</td>\n",
       "      <td>5405412</td>\n",
       "      <td>2464719</td>\n",
       "    </tr>\n",
       "    <tr>\n",
       "      <th>26</th>\n",
       "      <td>2013</td>\n",
       "      <td>103172</td>\n",
       "      <td>Searles Mine No. 2, 3, 4, 5, 6</td>\n",
       "      <td>258078</td>\n",
       "      <td>119542</td>\n",
       "    </tr>\n",
       "    <tr>\n",
       "      <th>27</th>\n",
       "      <td>2013</td>\n",
       "      <td>103179</td>\n",
       "      <td>Fleetwood Mine No 1</td>\n",
       "      <td>75937</td>\n",
       "      <td>63745</td>\n",
       "    </tr>\n",
       "    <tr>\n",
       "      <th>28</th>\n",
       "      <td>2013</td>\n",
       "      <td>103303</td>\n",
       "      <td>Shannon Mine</td>\n",
       "      <td>317491</td>\n",
       "      <td>164388</td>\n",
       "    </tr>\n",
       "    <tr>\n",
       "      <th>0</th>\n",
       "      <td>2013</td>\n",
       "      <td>103323</td>\n",
       "      <td>Deerlick Mine</td>\n",
       "      <td>133452</td>\n",
       "      <td>46381</td>\n",
       "    </tr>\n",
       "    <tr>\n",
       "      <th>1</th>\n",
       "      <td>2013</td>\n",
       "      <td>103364</td>\n",
       "      <td>Brc Alabama No. 7 Llc</td>\n",
       "      <td>0</td>\n",
       "      <td>14324</td>\n",
       "    </tr>\n",
       "    <tr>\n",
       "      <th>2</th>\n",
       "      <td>2013</td>\n",
       "      <td>103436</td>\n",
       "      <td>Swann's Crossing</td>\n",
       "      <td>137511</td>\n",
       "      <td>77190</td>\n",
       "    </tr>\n",
       "    <tr>\n",
       "      <th>3</th>\n",
       "      <td>2013</td>\n",
       "      <td>100347</td>\n",
       "      <td>Choctaw Mine</td>\n",
       "      <td>537429</td>\n",
       "      <td>215295</td>\n",
       "    </tr>\n",
       "    <tr>\n",
       "      <th>4</th>\n",
       "      <td>2013</td>\n",
       "      <td>101362</td>\n",
       "      <td>Manchester Mine</td>\n",
       "      <td>219457</td>\n",
       "      <td>116914</td>\n",
       "    </tr>\n",
       "    <tr>\n",
       "      <th>5</th>\n",
       "      <td>2013</td>\n",
       "      <td>102996</td>\n",
       "      <td>Jap Creek Mine</td>\n",
       "      <td>375715</td>\n",
       "      <td>164093</td>\n",
       "    </tr>\n",
       "    <tr>\n",
       "      <th>6</th>\n",
       "      <td>2013</td>\n",
       "      <td>103155</td>\n",
       "      <td>Corinth Prep Plant</td>\n",
       "      <td>0</td>\n",
       "      <td>27996</td>\n",
       "    </tr>\n",
       "    <tr>\n",
       "      <th>7</th>\n",
       "      <td>2013</td>\n",
       "      <td>103155</td>\n",
       "      <td>Corinth Prep Plant</td>\n",
       "      <td>0</td>\n",
       "      <td>51994</td>\n",
       "    </tr>\n",
       "    <tr>\n",
       "      <th>8</th>\n",
       "      <td>2013</td>\n",
       "      <td>103195</td>\n",
       "      <td>Mccollum/Sparks Branch Mine</td>\n",
       "      <td>71910</td>\n",
       "      <td>17411</td>\n",
       "    </tr>\n",
       "    <tr>\n",
       "      <th>9</th>\n",
       "      <td>2013</td>\n",
       "      <td>103342</td>\n",
       "      <td>Reese's Branch Mine</td>\n",
       "      <td>263888</td>\n",
       "      <td>115123</td>\n",
       "    </tr>\n",
       "    <tr>\n",
       "      <th>10</th>\n",
       "      <td>2013</td>\n",
       "      <td>103370</td>\n",
       "      <td>Cresent Valley Mine</td>\n",
       "      <td>2860</td>\n",
       "      <td>621</td>\n",
       "    </tr>\n",
       "    <tr>\n",
       "      <th>11</th>\n",
       "      <td>2013</td>\n",
       "      <td>103372</td>\n",
       "      <td>Cane Creek Mine</td>\n",
       "      <td>66258</td>\n",
       "      <td>32401</td>\n",
       "    </tr>\n",
       "    <tr>\n",
       "      <th>12</th>\n",
       "      <td>2013</td>\n",
       "      <td>103376</td>\n",
       "      <td>Town Creek</td>\n",
       "      <td>299167</td>\n",
       "      <td>176499</td>\n",
       "    </tr>\n",
       "    <tr>\n",
       "      <th>13</th>\n",
       "      <td>2013</td>\n",
       "      <td>103389</td>\n",
       "      <td>Carbon Hill Mine</td>\n",
       "      <td>76241</td>\n",
       "      <td>84966</td>\n",
       "    </tr>\n",
       "    <tr>\n",
       "      <th>14</th>\n",
       "      <td>2013</td>\n",
       "      <td>103410</td>\n",
       "      <td>Coal Valley Mine</td>\n",
       "      <td>407841</td>\n",
       "      <td>158591</td>\n",
       "    </tr>\n",
       "    <tr>\n",
       "      <th>15</th>\n",
       "      <td>2013</td>\n",
       "      <td>103423</td>\n",
       "      <td>Dutton Hill Mine</td>\n",
       "      <td>37275</td>\n",
       "      <td>9162</td>\n",
       "    </tr>\n",
       "    <tr>\n",
       "      <th>16</th>\n",
       "      <td>2013</td>\n",
       "      <td>1519322</td>\n",
       "      <td>Ghm #25</td>\n",
       "      <td>25054</td>\n",
       "      <td>3108</td>\n",
       "    </tr>\n",
       "    <tr>\n",
       "      <th>17</th>\n",
       "      <td>2013</td>\n",
       "      <td>103321</td>\n",
       "      <td>Poplar Springs</td>\n",
       "      <td>189370</td>\n",
       "      <td>76366</td>\n",
       "    </tr>\n",
       "    <tr>\n",
       "      <th>18</th>\n",
       "      <td>2013</td>\n",
       "      <td>103358</td>\n",
       "      <td>Old Union</td>\n",
       "      <td>284563</td>\n",
       "      <td>161805</td>\n",
       "    </tr>\n",
       "    <tr>\n",
       "      <th>19</th>\n",
       "      <td>2013</td>\n",
       "      <td>5000030</td>\n",
       "      <td>Usibelli</td>\n",
       "      <td>1631584</td>\n",
       "      <td>286079</td>\n",
       "    </tr>\n",
       "    <tr>\n",
       "      <th>20</th>\n",
       "      <td>2013</td>\n",
       "      <td>201195</td>\n",
       "      <td>Kayenta Mine</td>\n",
       "      <td>7602722</td>\n",
       "      <td>1015333</td>\n",
       "    </tr>\n",
       "  </tbody>\n",
       "</table>\n",
       "</div>"
      ],
      "text/plain": [
       "    Year  MSHA ID  \\\n",
       "0   2013   103381   \n",
       "1   2013   103404   \n",
       "2   2013   100759   \n",
       "3   2013   103246   \n",
       "4   2013   103451   \n",
       "5   2013   103433   \n",
       "6   2013   100329   \n",
       "7   2013   100851   \n",
       "8   2013   102901   \n",
       "9   2013   102901   \n",
       "10  2013   103180   \n",
       "11  2013   103182   \n",
       "12  2013   103285   \n",
       "13  2013   103332   \n",
       "14  2013   103375   \n",
       "15  2013   103419   \n",
       "16  2013   103432   \n",
       "17  2013   103437   \n",
       "18  2013   102976   \n",
       "19  2013   102976   \n",
       "20  2013   103380   \n",
       "21  2013   103380   \n",
       "22  2013   103422   \n",
       "23  2013   103467   \n",
       "24  2013   101247   \n",
       "25  2013   101401   \n",
       "26  2013   103172   \n",
       "27  2013   103179   \n",
       "28  2013   103303   \n",
       "0   2013   103323   \n",
       "1   2013   103364   \n",
       "2   2013   103436   \n",
       "3   2013   100347   \n",
       "4   2013   101362   \n",
       "5   2013   102996   \n",
       "6   2013   103155   \n",
       "7   2013   103155   \n",
       "8   2013   103195   \n",
       "9   2013   103342   \n",
       "10  2013   103370   \n",
       "11  2013   103372   \n",
       "12  2013   103376   \n",
       "13  2013   103389   \n",
       "14  2013   103410   \n",
       "15  2013   103423   \n",
       "16  2013  1519322   \n",
       "17  2013   103321   \n",
       "18  2013   103358   \n",
       "19  2013  5000030   \n",
       "20  2013   201195   \n",
       "\n",
       "                         Mine_Name  \\\n",
       "0             Tacoa Highwall Miner   \n",
       "1                 Reid School Mine   \n",
       "2   North River #1 Underground Min   \n",
       "3                       Bear Creek   \n",
       "4                      Knight Mine   \n",
       "5               Crane Central Mine   \n",
       "6                     Concord Mine   \n",
       "7                   Oak Grove Mine   \n",
       "8                 Shoal Creek Mine   \n",
       "9                 Shoal Creek Mine   \n",
       "10             Sloan Mountain Mine   \n",
       "11                        Fishtrap   \n",
       "12                     Narley Mine   \n",
       "13                   Powhatan Mine   \n",
       "14                    Johnson Mine   \n",
       "15               Maxine-Pratt Mine   \n",
       "16                   Skelton Creek   \n",
       "17         Black Warrior Mine No 1   \n",
       "18   Piney Woods Preparation Plant   \n",
       "19   Piney Woods Preparation Plant   \n",
       "20                          Calera   \n",
       "21                          Calera   \n",
       "22                 Clark No 1 Mine   \n",
       "23             Helena Surface Mine   \n",
       "24                       No 4 Mine   \n",
       "25                       No 7 Mine   \n",
       "26  Searles Mine No. 2, 3, 4, 5, 6   \n",
       "27             Fleetwood Mine No 1   \n",
       "28                    Shannon Mine   \n",
       "0                    Deerlick Mine   \n",
       "1            Brc Alabama No. 7 Llc   \n",
       "2                 Swann's Crossing   \n",
       "3                     Choctaw Mine   \n",
       "4                  Manchester Mine   \n",
       "5                   Jap Creek Mine   \n",
       "6               Corinth Prep Plant   \n",
       "7               Corinth Prep Plant   \n",
       "8      Mccollum/Sparks Branch Mine   \n",
       "9              Reese's Branch Mine   \n",
       "10             Cresent Valley Mine   \n",
       "11                 Cane Creek Mine   \n",
       "12                      Town Creek   \n",
       "13                Carbon Hill Mine   \n",
       "14                Coal Valley Mine   \n",
       "15                Dutton Hill Mine   \n",
       "16                         Ghm #25   \n",
       "17                  Poplar Springs   \n",
       "18                       Old Union   \n",
       "19                        Usibelli   \n",
       "20                    Kayenta Mine   \n",
       "\n",
       "    Production  Labor_Hours  \n",
       "0        56004        22392  \n",
       "1        28807        28447  \n",
       "2      1440115       474784  \n",
       "3        87587        29193  \n",
       "4       147499        46393  \n",
       "5        69339        47195  \n",
       "6            0       144002  \n",
       "7      2269014      1001809  \n",
       "8            0        12396  \n",
       "9      1453024      1237415  \n",
       "10      327780       196963  \n",
       "11      175058        87314  \n",
       "12      154861        90584  \n",
       "13      140521        61394  \n",
       "14         580         1900  \n",
       "15      125824       107469  \n",
       "16        8252          220  \n",
       "17      145924        70926  \n",
       "18           0        14828  \n",
       "19           0        23193  \n",
       "20           0        12621  \n",
       "21           0         1402  \n",
       "22      122727       140250  \n",
       "23       59664        30539  \n",
       "24     2622528      1551141  \n",
       "25     5405412      2464719  \n",
       "26      258078       119542  \n",
       "27       75937        63745  \n",
       "28      317491       164388  \n",
       "0       133452        46381  \n",
       "1            0        14324  \n",
       "2       137511        77190  \n",
       "3       537429       215295  \n",
       "4       219457       116914  \n",
       "5       375715       164093  \n",
       "6            0        27996  \n",
       "7            0        51994  \n",
       "8        71910        17411  \n",
       "9       263888       115123  \n",
       "10        2860          621  \n",
       "11       66258        32401  \n",
       "12      299167       176499  \n",
       "13       76241        84966  \n",
       "14      407841       158591  \n",
       "15       37275         9162  \n",
       "16       25054         3108  \n",
       "17      189370        76366  \n",
       "18      284563       161805  \n",
       "19     1631584       286079  \n",
       "20     7602722      1015333  "
      ]
     },
     "execution_count": 376,
     "metadata": {},
     "output_type": "execute_result"
    }
   ],
   "source": [
    "df_exlsheet1 = pd.read_excel('C:/Users/MANOJ/Downloads/coalpublic2013.xlsx', sheetname='coalpublic2013')\n",
    "df_exlsheet2 = pd.read_excel('C:/Users/MANOJ/Downloads/coalpublic2013.xlsx', sheetname='Sheet1')\n",
    "\n",
    "df_exl3 = pd.concat([df_exlsheet1,df_exlsheet2])\n",
    "df_exl3"
   ]
  },
  {
   "cell_type": "markdown",
   "metadata": {},
   "source": [
    "-------------------------------------------------------"
   ]
  },
  {
   "cell_type": "code",
   "execution_count": null,
   "metadata": {},
   "outputs": [],
   "source": [
    "Q 122. Write a pandas program to import three datasheets from a given excel data (employee.xlsx ) into a single data frame and export the result into new Excel file."
   ]
  },
  {
   "cell_type": "code",
   "execution_count": 378,
   "metadata": {},
   "outputs": [
    {
     "name": "stderr",
     "output_type": "stream",
     "text": [
      "C:\\Users\\MANOJ\\Anaconda3\\lib\\site-packages\\pandas\\io\\excel.py:329: FutureWarning: The `sheetname` keyword is deprecated, use `sheet_name` instead\n",
      "  **kwds)\n"
     ]
    },
    {
     "data": {
      "text/html": [
       "<div>\n",
       "<style scoped>\n",
       "    .dataframe tbody tr th:only-of-type {\n",
       "        vertical-align: middle;\n",
       "    }\n",
       "\n",
       "    .dataframe tbody tr th {\n",
       "        vertical-align: top;\n",
       "    }\n",
       "\n",
       "    .dataframe thead th {\n",
       "        text-align: right;\n",
       "    }\n",
       "</style>\n",
       "<table border=\"1\" class=\"dataframe\">\n",
       "  <thead>\n",
       "    <tr style=\"text-align: right;\">\n",
       "      <th></th>\n",
       "      <th>Year</th>\n",
       "      <th>MSHA ID</th>\n",
       "      <th>Mine_Name</th>\n",
       "      <th>Production</th>\n",
       "      <th>Labor_Hours</th>\n",
       "    </tr>\n",
       "  </thead>\n",
       "  <tbody>\n",
       "    <tr>\n",
       "      <th>0</th>\n",
       "      <td>2013</td>\n",
       "      <td>103381</td>\n",
       "      <td>Tacoa Highwall Miner</td>\n",
       "      <td>56004</td>\n",
       "      <td>22392</td>\n",
       "    </tr>\n",
       "    <tr>\n",
       "      <th>1</th>\n",
       "      <td>2013</td>\n",
       "      <td>103404</td>\n",
       "      <td>Reid School Mine</td>\n",
       "      <td>28807</td>\n",
       "      <td>28447</td>\n",
       "    </tr>\n",
       "    <tr>\n",
       "      <th>2</th>\n",
       "      <td>2013</td>\n",
       "      <td>100759</td>\n",
       "      <td>North River #1 Underground Min</td>\n",
       "      <td>1440115</td>\n",
       "      <td>474784</td>\n",
       "    </tr>\n",
       "    <tr>\n",
       "      <th>3</th>\n",
       "      <td>2013</td>\n",
       "      <td>103246</td>\n",
       "      <td>Bear Creek</td>\n",
       "      <td>87587</td>\n",
       "      <td>29193</td>\n",
       "    </tr>\n",
       "    <tr>\n",
       "      <th>4</th>\n",
       "      <td>2013</td>\n",
       "      <td>103451</td>\n",
       "      <td>Knight Mine</td>\n",
       "      <td>147499</td>\n",
       "      <td>46393</td>\n",
       "    </tr>\n",
       "    <tr>\n",
       "      <th>5</th>\n",
       "      <td>2013</td>\n",
       "      <td>103433</td>\n",
       "      <td>Crane Central Mine</td>\n",
       "      <td>69339</td>\n",
       "      <td>47195</td>\n",
       "    </tr>\n",
       "    <tr>\n",
       "      <th>6</th>\n",
       "      <td>2013</td>\n",
       "      <td>100329</td>\n",
       "      <td>Concord Mine</td>\n",
       "      <td>0</td>\n",
       "      <td>144002</td>\n",
       "    </tr>\n",
       "    <tr>\n",
       "      <th>7</th>\n",
       "      <td>2013</td>\n",
       "      <td>100851</td>\n",
       "      <td>Oak Grove Mine</td>\n",
       "      <td>2269014</td>\n",
       "      <td>1001809</td>\n",
       "    </tr>\n",
       "    <tr>\n",
       "      <th>8</th>\n",
       "      <td>2013</td>\n",
       "      <td>102901</td>\n",
       "      <td>Shoal Creek Mine</td>\n",
       "      <td>0</td>\n",
       "      <td>12396</td>\n",
       "    </tr>\n",
       "    <tr>\n",
       "      <th>9</th>\n",
       "      <td>2013</td>\n",
       "      <td>102901</td>\n",
       "      <td>Shoal Creek Mine</td>\n",
       "      <td>1453024</td>\n",
       "      <td>1237415</td>\n",
       "    </tr>\n",
       "    <tr>\n",
       "      <th>10</th>\n",
       "      <td>2013</td>\n",
       "      <td>103180</td>\n",
       "      <td>Sloan Mountain Mine</td>\n",
       "      <td>327780</td>\n",
       "      <td>196963</td>\n",
       "    </tr>\n",
       "    <tr>\n",
       "      <th>11</th>\n",
       "      <td>2013</td>\n",
       "      <td>103182</td>\n",
       "      <td>Fishtrap</td>\n",
       "      <td>175058</td>\n",
       "      <td>87314</td>\n",
       "    </tr>\n",
       "    <tr>\n",
       "      <th>12</th>\n",
       "      <td>2013</td>\n",
       "      <td>103285</td>\n",
       "      <td>Narley Mine</td>\n",
       "      <td>154861</td>\n",
       "      <td>90584</td>\n",
       "    </tr>\n",
       "    <tr>\n",
       "      <th>13</th>\n",
       "      <td>2013</td>\n",
       "      <td>103332</td>\n",
       "      <td>Powhatan Mine</td>\n",
       "      <td>140521</td>\n",
       "      <td>61394</td>\n",
       "    </tr>\n",
       "    <tr>\n",
       "      <th>14</th>\n",
       "      <td>2013</td>\n",
       "      <td>103375</td>\n",
       "      <td>Johnson Mine</td>\n",
       "      <td>580</td>\n",
       "      <td>1900</td>\n",
       "    </tr>\n",
       "    <tr>\n",
       "      <th>15</th>\n",
       "      <td>2013</td>\n",
       "      <td>103419</td>\n",
       "      <td>Maxine-Pratt Mine</td>\n",
       "      <td>125824</td>\n",
       "      <td>107469</td>\n",
       "    </tr>\n",
       "    <tr>\n",
       "      <th>16</th>\n",
       "      <td>2013</td>\n",
       "      <td>103432</td>\n",
       "      <td>Skelton Creek</td>\n",
       "      <td>8252</td>\n",
       "      <td>220</td>\n",
       "    </tr>\n",
       "    <tr>\n",
       "      <th>17</th>\n",
       "      <td>2013</td>\n",
       "      <td>103437</td>\n",
       "      <td>Black Warrior Mine No 1</td>\n",
       "      <td>145924</td>\n",
       "      <td>70926</td>\n",
       "    </tr>\n",
       "    <tr>\n",
       "      <th>18</th>\n",
       "      <td>2013</td>\n",
       "      <td>102976</td>\n",
       "      <td>Piney Woods Preparation Plant</td>\n",
       "      <td>0</td>\n",
       "      <td>14828</td>\n",
       "    </tr>\n",
       "    <tr>\n",
       "      <th>19</th>\n",
       "      <td>2013</td>\n",
       "      <td>102976</td>\n",
       "      <td>Piney Woods Preparation Plant</td>\n",
       "      <td>0</td>\n",
       "      <td>23193</td>\n",
       "    </tr>\n",
       "    <tr>\n",
       "      <th>20</th>\n",
       "      <td>2013</td>\n",
       "      <td>103380</td>\n",
       "      <td>Calera</td>\n",
       "      <td>0</td>\n",
       "      <td>12621</td>\n",
       "    </tr>\n",
       "    <tr>\n",
       "      <th>21</th>\n",
       "      <td>2013</td>\n",
       "      <td>103380</td>\n",
       "      <td>Calera</td>\n",
       "      <td>0</td>\n",
       "      <td>1402</td>\n",
       "    </tr>\n",
       "    <tr>\n",
       "      <th>22</th>\n",
       "      <td>2013</td>\n",
       "      <td>103422</td>\n",
       "      <td>Clark No 1 Mine</td>\n",
       "      <td>122727</td>\n",
       "      <td>140250</td>\n",
       "    </tr>\n",
       "    <tr>\n",
       "      <th>23</th>\n",
       "      <td>2013</td>\n",
       "      <td>103467</td>\n",
       "      <td>Helena Surface Mine</td>\n",
       "      <td>59664</td>\n",
       "      <td>30539</td>\n",
       "    </tr>\n",
       "    <tr>\n",
       "      <th>24</th>\n",
       "      <td>2013</td>\n",
       "      <td>101247</td>\n",
       "      <td>No 4 Mine</td>\n",
       "      <td>2622528</td>\n",
       "      <td>1551141</td>\n",
       "    </tr>\n",
       "    <tr>\n",
       "      <th>25</th>\n",
       "      <td>2013</td>\n",
       "      <td>101401</td>\n",
       "      <td>No 7 Mine</td>\n",
       "      <td>5405412</td>\n",
       "      <td>2464719</td>\n",
       "    </tr>\n",
       "    <tr>\n",
       "      <th>26</th>\n",
       "      <td>2013</td>\n",
       "      <td>103172</td>\n",
       "      <td>Searles Mine No. 2, 3, 4, 5, 6</td>\n",
       "      <td>258078</td>\n",
       "      <td>119542</td>\n",
       "    </tr>\n",
       "    <tr>\n",
       "      <th>27</th>\n",
       "      <td>2013</td>\n",
       "      <td>103179</td>\n",
       "      <td>Fleetwood Mine No 1</td>\n",
       "      <td>75937</td>\n",
       "      <td>63745</td>\n",
       "    </tr>\n",
       "    <tr>\n",
       "      <th>28</th>\n",
       "      <td>2013</td>\n",
       "      <td>103303</td>\n",
       "      <td>Shannon Mine</td>\n",
       "      <td>317491</td>\n",
       "      <td>164388</td>\n",
       "    </tr>\n",
       "    <tr>\n",
       "      <th>0</th>\n",
       "      <td>2013</td>\n",
       "      <td>103323</td>\n",
       "      <td>Deerlick Mine</td>\n",
       "      <td>133452</td>\n",
       "      <td>46381</td>\n",
       "    </tr>\n",
       "    <tr>\n",
       "      <th>1</th>\n",
       "      <td>2013</td>\n",
       "      <td>103364</td>\n",
       "      <td>Brc Alabama No. 7 Llc</td>\n",
       "      <td>0</td>\n",
       "      <td>14324</td>\n",
       "    </tr>\n",
       "    <tr>\n",
       "      <th>2</th>\n",
       "      <td>2013</td>\n",
       "      <td>103436</td>\n",
       "      <td>Swann's Crossing</td>\n",
       "      <td>137511</td>\n",
       "      <td>77190</td>\n",
       "    </tr>\n",
       "    <tr>\n",
       "      <th>3</th>\n",
       "      <td>2013</td>\n",
       "      <td>100347</td>\n",
       "      <td>Choctaw Mine</td>\n",
       "      <td>537429</td>\n",
       "      <td>215295</td>\n",
       "    </tr>\n",
       "    <tr>\n",
       "      <th>4</th>\n",
       "      <td>2013</td>\n",
       "      <td>101362</td>\n",
       "      <td>Manchester Mine</td>\n",
       "      <td>219457</td>\n",
       "      <td>116914</td>\n",
       "    </tr>\n",
       "    <tr>\n",
       "      <th>5</th>\n",
       "      <td>2013</td>\n",
       "      <td>102996</td>\n",
       "      <td>Jap Creek Mine</td>\n",
       "      <td>375715</td>\n",
       "      <td>164093</td>\n",
       "    </tr>\n",
       "    <tr>\n",
       "      <th>6</th>\n",
       "      <td>2013</td>\n",
       "      <td>103155</td>\n",
       "      <td>Corinth Prep Plant</td>\n",
       "      <td>0</td>\n",
       "      <td>27996</td>\n",
       "    </tr>\n",
       "    <tr>\n",
       "      <th>7</th>\n",
       "      <td>2013</td>\n",
       "      <td>103155</td>\n",
       "      <td>Corinth Prep Plant</td>\n",
       "      <td>0</td>\n",
       "      <td>51994</td>\n",
       "    </tr>\n",
       "    <tr>\n",
       "      <th>8</th>\n",
       "      <td>2013</td>\n",
       "      <td>103195</td>\n",
       "      <td>Mccollum/Sparks Branch Mine</td>\n",
       "      <td>71910</td>\n",
       "      <td>17411</td>\n",
       "    </tr>\n",
       "    <tr>\n",
       "      <th>9</th>\n",
       "      <td>2013</td>\n",
       "      <td>103342</td>\n",
       "      <td>Reese's Branch Mine</td>\n",
       "      <td>263888</td>\n",
       "      <td>115123</td>\n",
       "    </tr>\n",
       "    <tr>\n",
       "      <th>10</th>\n",
       "      <td>2013</td>\n",
       "      <td>103370</td>\n",
       "      <td>Cresent Valley Mine</td>\n",
       "      <td>2860</td>\n",
       "      <td>621</td>\n",
       "    </tr>\n",
       "    <tr>\n",
       "      <th>11</th>\n",
       "      <td>2013</td>\n",
       "      <td>103372</td>\n",
       "      <td>Cane Creek Mine</td>\n",
       "      <td>66258</td>\n",
       "      <td>32401</td>\n",
       "    </tr>\n",
       "    <tr>\n",
       "      <th>12</th>\n",
       "      <td>2013</td>\n",
       "      <td>103376</td>\n",
       "      <td>Town Creek</td>\n",
       "      <td>299167</td>\n",
       "      <td>176499</td>\n",
       "    </tr>\n",
       "    <tr>\n",
       "      <th>13</th>\n",
       "      <td>2013</td>\n",
       "      <td>103389</td>\n",
       "      <td>Carbon Hill Mine</td>\n",
       "      <td>76241</td>\n",
       "      <td>84966</td>\n",
       "    </tr>\n",
       "    <tr>\n",
       "      <th>14</th>\n",
       "      <td>2013</td>\n",
       "      <td>103410</td>\n",
       "      <td>Coal Valley Mine</td>\n",
       "      <td>407841</td>\n",
       "      <td>158591</td>\n",
       "    </tr>\n",
       "    <tr>\n",
       "      <th>15</th>\n",
       "      <td>2013</td>\n",
       "      <td>103423</td>\n",
       "      <td>Dutton Hill Mine</td>\n",
       "      <td>37275</td>\n",
       "      <td>9162</td>\n",
       "    </tr>\n",
       "    <tr>\n",
       "      <th>16</th>\n",
       "      <td>2013</td>\n",
       "      <td>1519322</td>\n",
       "      <td>Ghm #25</td>\n",
       "      <td>25054</td>\n",
       "      <td>3108</td>\n",
       "    </tr>\n",
       "    <tr>\n",
       "      <th>17</th>\n",
       "      <td>2013</td>\n",
       "      <td>103321</td>\n",
       "      <td>Poplar Springs</td>\n",
       "      <td>189370</td>\n",
       "      <td>76366</td>\n",
       "    </tr>\n",
       "    <tr>\n",
       "      <th>18</th>\n",
       "      <td>2013</td>\n",
       "      <td>103358</td>\n",
       "      <td>Old Union</td>\n",
       "      <td>284563</td>\n",
       "      <td>161805</td>\n",
       "    </tr>\n",
       "    <tr>\n",
       "      <th>19</th>\n",
       "      <td>2013</td>\n",
       "      <td>5000030</td>\n",
       "      <td>Usibelli</td>\n",
       "      <td>1631584</td>\n",
       "      <td>286079</td>\n",
       "    </tr>\n",
       "    <tr>\n",
       "      <th>20</th>\n",
       "      <td>2013</td>\n",
       "      <td>201195</td>\n",
       "      <td>Kayenta Mine</td>\n",
       "      <td>7602722</td>\n",
       "      <td>1015333</td>\n",
       "    </tr>\n",
       "  </tbody>\n",
       "</table>\n",
       "</div>"
      ],
      "text/plain": [
       "    Year  MSHA ID  \\\n",
       "0   2013   103381   \n",
       "1   2013   103404   \n",
       "2   2013   100759   \n",
       "3   2013   103246   \n",
       "4   2013   103451   \n",
       "5   2013   103433   \n",
       "6   2013   100329   \n",
       "7   2013   100851   \n",
       "8   2013   102901   \n",
       "9   2013   102901   \n",
       "10  2013   103180   \n",
       "11  2013   103182   \n",
       "12  2013   103285   \n",
       "13  2013   103332   \n",
       "14  2013   103375   \n",
       "15  2013   103419   \n",
       "16  2013   103432   \n",
       "17  2013   103437   \n",
       "18  2013   102976   \n",
       "19  2013   102976   \n",
       "20  2013   103380   \n",
       "21  2013   103380   \n",
       "22  2013   103422   \n",
       "23  2013   103467   \n",
       "24  2013   101247   \n",
       "25  2013   101401   \n",
       "26  2013   103172   \n",
       "27  2013   103179   \n",
       "28  2013   103303   \n",
       "0   2013   103323   \n",
       "1   2013   103364   \n",
       "2   2013   103436   \n",
       "3   2013   100347   \n",
       "4   2013   101362   \n",
       "5   2013   102996   \n",
       "6   2013   103155   \n",
       "7   2013   103155   \n",
       "8   2013   103195   \n",
       "9   2013   103342   \n",
       "10  2013   103370   \n",
       "11  2013   103372   \n",
       "12  2013   103376   \n",
       "13  2013   103389   \n",
       "14  2013   103410   \n",
       "15  2013   103423   \n",
       "16  2013  1519322   \n",
       "17  2013   103321   \n",
       "18  2013   103358   \n",
       "19  2013  5000030   \n",
       "20  2013   201195   \n",
       "\n",
       "                         Mine_Name  \\\n",
       "0             Tacoa Highwall Miner   \n",
       "1                 Reid School Mine   \n",
       "2   North River #1 Underground Min   \n",
       "3                       Bear Creek   \n",
       "4                      Knight Mine   \n",
       "5               Crane Central Mine   \n",
       "6                     Concord Mine   \n",
       "7                   Oak Grove Mine   \n",
       "8                 Shoal Creek Mine   \n",
       "9                 Shoal Creek Mine   \n",
       "10             Sloan Mountain Mine   \n",
       "11                        Fishtrap   \n",
       "12                     Narley Mine   \n",
       "13                   Powhatan Mine   \n",
       "14                    Johnson Mine   \n",
       "15               Maxine-Pratt Mine   \n",
       "16                   Skelton Creek   \n",
       "17         Black Warrior Mine No 1   \n",
       "18   Piney Woods Preparation Plant   \n",
       "19   Piney Woods Preparation Plant   \n",
       "20                          Calera   \n",
       "21                          Calera   \n",
       "22                 Clark No 1 Mine   \n",
       "23             Helena Surface Mine   \n",
       "24                       No 4 Mine   \n",
       "25                       No 7 Mine   \n",
       "26  Searles Mine No. 2, 3, 4, 5, 6   \n",
       "27             Fleetwood Mine No 1   \n",
       "28                    Shannon Mine   \n",
       "0                    Deerlick Mine   \n",
       "1            Brc Alabama No. 7 Llc   \n",
       "2                 Swann's Crossing   \n",
       "3                     Choctaw Mine   \n",
       "4                  Manchester Mine   \n",
       "5                   Jap Creek Mine   \n",
       "6               Corinth Prep Plant   \n",
       "7               Corinth Prep Plant   \n",
       "8      Mccollum/Sparks Branch Mine   \n",
       "9              Reese's Branch Mine   \n",
       "10             Cresent Valley Mine   \n",
       "11                 Cane Creek Mine   \n",
       "12                      Town Creek   \n",
       "13                Carbon Hill Mine   \n",
       "14                Coal Valley Mine   \n",
       "15                Dutton Hill Mine   \n",
       "16                         Ghm #25   \n",
       "17                  Poplar Springs   \n",
       "18                       Old Union   \n",
       "19                        Usibelli   \n",
       "20                    Kayenta Mine   \n",
       "\n",
       "    Production  Labor_Hours  \n",
       "0        56004        22392  \n",
       "1        28807        28447  \n",
       "2      1440115       474784  \n",
       "3        87587        29193  \n",
       "4       147499        46393  \n",
       "5        69339        47195  \n",
       "6            0       144002  \n",
       "7      2269014      1001809  \n",
       "8            0        12396  \n",
       "9      1453024      1237415  \n",
       "10      327780       196963  \n",
       "11      175058        87314  \n",
       "12      154861        90584  \n",
       "13      140521        61394  \n",
       "14         580         1900  \n",
       "15      125824       107469  \n",
       "16        8252          220  \n",
       "17      145924        70926  \n",
       "18           0        14828  \n",
       "19           0        23193  \n",
       "20           0        12621  \n",
       "21           0         1402  \n",
       "22      122727       140250  \n",
       "23       59664        30539  \n",
       "24     2622528      1551141  \n",
       "25     5405412      2464719  \n",
       "26      258078       119542  \n",
       "27       75937        63745  \n",
       "28      317491       164388  \n",
       "0       133452        46381  \n",
       "1            0        14324  \n",
       "2       137511        77190  \n",
       "3       537429       215295  \n",
       "4       219457       116914  \n",
       "5       375715       164093  \n",
       "6            0        27996  \n",
       "7            0        51994  \n",
       "8        71910        17411  \n",
       "9       263888       115123  \n",
       "10        2860          621  \n",
       "11       66258        32401  \n",
       "12      299167       176499  \n",
       "13       76241        84966  \n",
       "14      407841       158591  \n",
       "15       37275         9162  \n",
       "16       25054         3108  \n",
       "17      189370        76366  \n",
       "18      284563       161805  \n",
       "19     1631584       286079  \n",
       "20     7602722      1015333  "
      ]
     },
     "execution_count": 378,
     "metadata": {},
     "output_type": "execute_result"
    }
   ],
   "source": [
    "df_exlsheet1 = pd.read_excel('C:/Users/MANOJ/Downloads/coalpublic2013.xlsx', sheetname='coalpublic2013')\n",
    "df_exlsheet2 = pd.read_excel('C:/Users/MANOJ/Downloads/coalpublic2013.xlsx', sheetname='Sheet1')\n",
    "\n",
    "df_exl3 = pd.concat([df_exlsheet1,df_exlsheet2])\n",
    "df_exl3.to_excel('C:/Users/MANOJ/Downloads/coalpublic2013new.xlsx')\n",
    "df_exl3new =pd.read_excel('C:/Users/MANOJ/Downloads/coalpublic2013new.xlsx')\n",
    "df_exl3new"
   ]
  },
  {
   "cell_type": "markdown",
   "metadata": {},
   "source": [
    "-----------------------------------------------------------------"
   ]
  },
  {
   "cell_type": "code",
   "execution_count": null,
   "metadata": {},
   "outputs": [],
   "source": [
    "Q124. Write a Pandas program to create the Pivot table and find survival rate by gender?"
   ]
  },
  {
   "cell_type": "code",
   "execution_count": 399,
   "metadata": {},
   "outputs": [
    {
     "name": "stdout",
     "output_type": "stream",
     "text": [
      "        survived\n",
      "sex             \n",
      "female  0.742038\n",
      "male    0.188908\n"
     ]
    }
   ],
   "source": [
    "df_titan = pd.read_csv('C:/Users/MANOJ/Downloads/titanic.csv')\n",
    "df_titan.head()\n",
    "df_pivot = df_titan.pivot_table('survived', index=['sex'])\n",
    "print(df_pivot)"
   ]
  },
  {
   "cell_type": "markdown",
   "metadata": {},
   "source": [
    "--------------------------------------------"
   ]
  },
  {
   "cell_type": "code",
   "execution_count": null,
   "metadata": {},
   "outputs": [],
   "source": [
    "Q125. Write a pandas program to make partition each of the passengers into 4 categories based on their age"
   ]
  },
  {
   "cell_type": "code",
   "execution_count": 405,
   "metadata": {},
   "outputs": [
    {
     "name": "stdout",
     "output_type": "stream",
     "text": [
      "0      (10, 30]\n",
      "1      (30, 60]\n",
      "2      (10, 30]\n",
      "3      (30, 60]\n",
      "4      (30, 60]\n",
      "5           NaN\n",
      "6      (30, 60]\n",
      "7       (0, 10]\n",
      "8      (10, 30]\n",
      "9      (10, 30]\n",
      "10      (0, 10]\n",
      "11     (30, 60]\n",
      "12     (10, 30]\n",
      "13     (30, 60]\n",
      "14     (10, 30]\n",
      "15     (30, 60]\n",
      "16      (0, 10]\n",
      "17          NaN\n",
      "18     (30, 60]\n",
      "19          NaN\n",
      "20     (30, 60]\n",
      "21     (30, 60]\n",
      "22     (10, 30]\n",
      "23     (10, 30]\n",
      "24      (0, 10]\n",
      "         ...   \n",
      "866    (10, 30]\n",
      "867    (30, 60]\n",
      "868         NaN\n",
      "869     (0, 10]\n",
      "870    (10, 30]\n",
      "871    (30, 60]\n",
      "872    (30, 60]\n",
      "873    (30, 60]\n",
      "874    (10, 30]\n",
      "875    (10, 30]\n",
      "876    (10, 30]\n",
      "877    (10, 30]\n",
      "878         NaN\n",
      "879    (30, 60]\n",
      "880    (10, 30]\n",
      "881    (30, 60]\n",
      "882    (10, 30]\n",
      "883    (10, 30]\n",
      "884    (10, 30]\n",
      "885    (30, 60]\n",
      "886    (10, 30]\n",
      "887    (10, 30]\n",
      "888         NaN\n",
      "889    (10, 30]\n",
      "890    (30, 60]\n",
      "Name: age, Length: 891, dtype: category\n",
      "Categories (4, interval[int64]): [(0, 10] < (10, 30] < (30, 60] < (60, 80]]\n"
     ]
    }
   ],
   "source": [
    "df_titan = pd.read_csv('C:/Users/MANOJ/Downloads/titanic.csv')\n",
    "df_titan.head()\n",
    "df_cut = pd.cut(df_titan['age'],[0, 10, 30, 60, 80])\n",
    "print(df_cut)"
   ]
  },
  {
   "cell_type": "markdown",
   "metadata": {},
   "source": [
    "-------------------------------------------"
   ]
  },
  {
   "cell_type": "code",
   "execution_count": null,
   "metadata": {},
   "outputs": [],
   "source": [
    "\n",
    "Q126. Write a pandas program to create the Pivot table and find survival rate by the gender, age of the different categories of various classes"
   ]
  },
  {
   "cell_type": "code",
   "execution_count": 415,
   "metadata": {},
   "outputs": [
    {
     "data": {
      "text/html": [
       "<div>\n",
       "<style scoped>\n",
       "    .dataframe tbody tr th:only-of-type {\n",
       "        vertical-align: middle;\n",
       "    }\n",
       "\n",
       "    .dataframe tbody tr th {\n",
       "        vertical-align: top;\n",
       "    }\n",
       "\n",
       "    .dataframe thead th {\n",
       "        text-align: right;\n",
       "    }\n",
       "</style>\n",
       "<table border=\"1\" class=\"dataframe\">\n",
       "  <thead>\n",
       "    <tr style=\"text-align: right;\">\n",
       "      <th></th>\n",
       "      <th></th>\n",
       "      <th>pclass</th>\n",
       "      <th>1</th>\n",
       "      <th>2</th>\n",
       "      <th>3</th>\n",
       "    </tr>\n",
       "    <tr>\n",
       "      <th>sex</th>\n",
       "      <th>df_cut</th>\n",
       "      <th>class</th>\n",
       "      <th></th>\n",
       "      <th></th>\n",
       "      <th></th>\n",
       "    </tr>\n",
       "  </thead>\n",
       "  <tbody>\n",
       "    <tr>\n",
       "      <th rowspan=\"11\" valign=\"top\">female</th>\n",
       "      <th rowspan=\"3\" valign=\"top\">(10, 30]</th>\n",
       "      <th>First</th>\n",
       "      <td>0.000000</td>\n",
       "      <td>NaN</td>\n",
       "      <td>NaN</td>\n",
       "    </tr>\n",
       "    <tr>\n",
       "      <th>Second</th>\n",
       "      <td>NaN</td>\n",
       "      <td>1.000000</td>\n",
       "      <td>NaN</td>\n",
       "    </tr>\n",
       "    <tr>\n",
       "      <th>Third</th>\n",
       "      <td>NaN</td>\n",
       "      <td>NaN</td>\n",
       "      <td>0.500000</td>\n",
       "    </tr>\n",
       "    <tr>\n",
       "      <th rowspan=\"3\" valign=\"top\">(30, 60]</th>\n",
       "      <th>First</th>\n",
       "      <td>0.970588</td>\n",
       "      <td>NaN</td>\n",
       "      <td>NaN</td>\n",
       "    </tr>\n",
       "    <tr>\n",
       "      <th>Second</th>\n",
       "      <td>NaN</td>\n",
       "      <td>0.916667</td>\n",
       "      <td>NaN</td>\n",
       "    </tr>\n",
       "    <tr>\n",
       "      <th>Third</th>\n",
       "      <td>NaN</td>\n",
       "      <td>NaN</td>\n",
       "      <td>0.508772</td>\n",
       "    </tr>\n",
       "    <tr>\n",
       "      <th rowspan=\"3\" valign=\"top\">NaN</th>\n",
       "      <th>First</th>\n",
       "      <td>0.979167</td>\n",
       "      <td>NaN</td>\n",
       "      <td>NaN</td>\n",
       "    </tr>\n",
       "    <tr>\n",
       "      <th>Second</th>\n",
       "      <td>NaN</td>\n",
       "      <td>0.900000</td>\n",
       "      <td>NaN</td>\n",
       "    </tr>\n",
       "    <tr>\n",
       "      <th>Third</th>\n",
       "      <td>NaN</td>\n",
       "      <td>NaN</td>\n",
       "      <td>0.272727</td>\n",
       "    </tr>\n",
       "    <tr>\n",
       "      <th rowspan=\"2\" valign=\"top\">(0, 10]</th>\n",
       "      <th>First</th>\n",
       "      <td>1.000000</td>\n",
       "      <td>NaN</td>\n",
       "      <td>NaN</td>\n",
       "    </tr>\n",
       "    <tr>\n",
       "      <th>Third</th>\n",
       "      <td>NaN</td>\n",
       "      <td>NaN</td>\n",
       "      <td>1.000000</td>\n",
       "    </tr>\n",
       "    <tr>\n",
       "      <th rowspan=\"12\" valign=\"top\">male</th>\n",
       "      <th rowspan=\"3\" valign=\"top\">(10, 30]</th>\n",
       "      <th>First</th>\n",
       "      <td>1.000000</td>\n",
       "      <td>NaN</td>\n",
       "      <td>NaN</td>\n",
       "    </tr>\n",
       "    <tr>\n",
       "      <th>Second</th>\n",
       "      <td>NaN</td>\n",
       "      <td>1.000000</td>\n",
       "      <td>NaN</td>\n",
       "    </tr>\n",
       "    <tr>\n",
       "      <th>Third</th>\n",
       "      <td>NaN</td>\n",
       "      <td>NaN</td>\n",
       "      <td>0.363636</td>\n",
       "    </tr>\n",
       "    <tr>\n",
       "      <th rowspan=\"3\" valign=\"top\">(30, 60]</th>\n",
       "      <th>First</th>\n",
       "      <td>0.458333</td>\n",
       "      <td>NaN</td>\n",
       "      <td>NaN</td>\n",
       "    </tr>\n",
       "    <tr>\n",
       "      <th>Second</th>\n",
       "      <td>NaN</td>\n",
       "      <td>0.023256</td>\n",
       "      <td>NaN</td>\n",
       "    </tr>\n",
       "    <tr>\n",
       "      <th>Third</th>\n",
       "      <td>NaN</td>\n",
       "      <td>NaN</td>\n",
       "      <td>0.139073</td>\n",
       "    </tr>\n",
       "    <tr>\n",
       "      <th rowspan=\"3\" valign=\"top\">NaN</th>\n",
       "      <th>First</th>\n",
       "      <td>0.412698</td>\n",
       "      <td>NaN</td>\n",
       "      <td>NaN</td>\n",
       "    </tr>\n",
       "    <tr>\n",
       "      <th>Second</th>\n",
       "      <td>NaN</td>\n",
       "      <td>0.090909</td>\n",
       "      <td>NaN</td>\n",
       "    </tr>\n",
       "    <tr>\n",
       "      <th>Third</th>\n",
       "      <td>NaN</td>\n",
       "      <td>NaN</td>\n",
       "      <td>0.118421</td>\n",
       "    </tr>\n",
       "    <tr>\n",
       "      <th rowspan=\"3\" valign=\"top\">(0, 10]</th>\n",
       "      <th>First</th>\n",
       "      <td>0.083333</td>\n",
       "      <td>NaN</td>\n",
       "      <td>NaN</td>\n",
       "    </tr>\n",
       "    <tr>\n",
       "      <th>Second</th>\n",
       "      <td>NaN</td>\n",
       "      <td>0.333333</td>\n",
       "      <td>NaN</td>\n",
       "    </tr>\n",
       "    <tr>\n",
       "      <th>Third</th>\n",
       "      <td>NaN</td>\n",
       "      <td>NaN</td>\n",
       "      <td>0.000000</td>\n",
       "    </tr>\n",
       "  </tbody>\n",
       "</table>\n",
       "</div>"
      ],
      "text/plain": [
       "pclass                         1  \\\n",
       "sex    df_cut   class              \n",
       "female (10, 30] First   0.000000   \n",
       "                Second       NaN   \n",
       "                Third        NaN   \n",
       "       (30, 60] First   0.970588   \n",
       "                Second       NaN   \n",
       "                Third        NaN   \n",
       "       NaN      First   0.979167   \n",
       "                Second       NaN   \n",
       "                Third        NaN   \n",
       "       (0, 10]  First   1.000000   \n",
       "                Third        NaN   \n",
       "male   (10, 30] First   1.000000   \n",
       "                Second       NaN   \n",
       "                Third        NaN   \n",
       "       (30, 60] First   0.458333   \n",
       "                Second       NaN   \n",
       "                Third        NaN   \n",
       "       NaN      First   0.412698   \n",
       "                Second       NaN   \n",
       "                Third        NaN   \n",
       "       (0, 10]  First   0.083333   \n",
       "                Second       NaN   \n",
       "                Third        NaN   \n",
       "\n",
       "pclass                         2  \\\n",
       "sex    df_cut   class              \n",
       "female (10, 30] First        NaN   \n",
       "                Second  1.000000   \n",
       "                Third        NaN   \n",
       "       (30, 60] First        NaN   \n",
       "                Second  0.916667   \n",
       "                Third        NaN   \n",
       "       NaN      First        NaN   \n",
       "                Second  0.900000   \n",
       "                Third        NaN   \n",
       "       (0, 10]  First        NaN   \n",
       "                Third        NaN   \n",
       "male   (10, 30] First        NaN   \n",
       "                Second  1.000000   \n",
       "                Third        NaN   \n",
       "       (30, 60] First        NaN   \n",
       "                Second  0.023256   \n",
       "                Third        NaN   \n",
       "       NaN      First        NaN   \n",
       "                Second  0.090909   \n",
       "                Third        NaN   \n",
       "       (0, 10]  First        NaN   \n",
       "                Second  0.333333   \n",
       "                Third        NaN   \n",
       "\n",
       "pclass                         3  \n",
       "sex    df_cut   class             \n",
       "female (10, 30] First        NaN  \n",
       "                Second       NaN  \n",
       "                Third   0.500000  \n",
       "       (30, 60] First        NaN  \n",
       "                Second       NaN  \n",
       "                Third   0.508772  \n",
       "       NaN      First        NaN  \n",
       "                Second       NaN  \n",
       "                Third   0.272727  \n",
       "       (0, 10]  First        NaN  \n",
       "                Third   1.000000  \n",
       "male   (10, 30] First        NaN  \n",
       "                Second       NaN  \n",
       "                Third   0.363636  \n",
       "       (30, 60] First        NaN  \n",
       "                Second       NaN  \n",
       "                Third   0.139073  \n",
       "       NaN      First        NaN  \n",
       "                Second       NaN  \n",
       "                Third   0.118421  \n",
       "       (0, 10]  First        NaN  \n",
       "                Second       NaN  \n",
       "                Third   0.000000  "
      ]
     },
     "execution_count": 415,
     "metadata": {},
     "output_type": "execute_result"
    }
   ],
   "source": [
    "df_titan = pd.read_csv('C:/Users/MANOJ/Downloads/titanic.csv')\n",
    "df_titan.head()\n",
    "df_titan['df_cut'] = pd.cut(df_titan['age'],[0, 10, 30, 60, 80])\n",
    "df_pivot = df_titan.pivot_table('survived', index=['sex','df_cut','class'], columns=['pclass'])\n",
    "df_pivot\n"
   ]
  },
  {
   "cell_type": "markdown",
   "metadata": {},
   "source": [
    "--------------------------------------"
   ]
  },
  {
   "cell_type": "code",
   "execution_count": null,
   "metadata": {},
   "outputs": [],
   "source": [
    "Q127. Write a pandas program to create the Pivot table and calculate number of women and men were in a particular cabin class."
   ]
  },
  {
   "cell_type": "code",
   "execution_count": 420,
   "metadata": {},
   "outputs": [
    {
     "data": {
      "text/html": [
       "<div>\n",
       "<style scoped>\n",
       "    .dataframe tbody tr th:only-of-type {\n",
       "        vertical-align: middle;\n",
       "    }\n",
       "\n",
       "    .dataframe tbody tr th {\n",
       "        vertical-align: top;\n",
       "    }\n",
       "\n",
       "    .dataframe thead th {\n",
       "        text-align: right;\n",
       "    }\n",
       "</style>\n",
       "<table border=\"1\" class=\"dataframe\">\n",
       "  <thead>\n",
       "    <tr style=\"text-align: right;\">\n",
       "      <th>sex</th>\n",
       "      <th>female</th>\n",
       "      <th>male</th>\n",
       "    </tr>\n",
       "    <tr>\n",
       "      <th>class</th>\n",
       "      <th></th>\n",
       "      <th></th>\n",
       "    </tr>\n",
       "  </thead>\n",
       "  <tbody>\n",
       "    <tr>\n",
       "      <th>First</th>\n",
       "      <td>91</td>\n",
       "      <td>45</td>\n",
       "    </tr>\n",
       "    <tr>\n",
       "      <th>Second</th>\n",
       "      <td>70</td>\n",
       "      <td>17</td>\n",
       "    </tr>\n",
       "    <tr>\n",
       "      <th>Third</th>\n",
       "      <td>72</td>\n",
       "      <td>47</td>\n",
       "    </tr>\n",
       "  </tbody>\n",
       "</table>\n",
       "</div>"
      ],
      "text/plain": [
       "sex     female  male\n",
       "class               \n",
       "First       91    45\n",
       "Second      70    17\n",
       "Third       72    47"
      ]
     },
     "execution_count": 420,
     "metadata": {},
     "output_type": "execute_result"
    }
   ],
   "source": [
    "df_titan = pd.read_csv('C:/Users/MANOJ/Downloads/titanic.csv')\n",
    "df_titan.head()\n",
    "\n",
    "df_pivot = df_titan.pivot_table('survived', index=['class'], columns=['sex'], aggfunc=np.sum)\n",
    "df_pivot"
   ]
  },
  {
   "cell_type": "markdown",
   "metadata": {},
   "source": [
    "------------------------------------------"
   ]
  },
  {
   "cell_type": "code",
   "execution_count": null,
   "metadata": {},
   "outputs": [],
   "source": [
    "Q128. Write a pandas program to create the Pivot table and separate the gender according to whether they travelled alone or not to get the probability of survival"
   ]
  },
  {
   "cell_type": "code",
   "execution_count": 430,
   "metadata": {},
   "outputs": [
    {
     "data": {
      "text/html": [
       "<div>\n",
       "<style scoped>\n",
       "    .dataframe tbody tr th:only-of-type {\n",
       "        vertical-align: middle;\n",
       "    }\n",
       "\n",
       "    .dataframe tbody tr th {\n",
       "        vertical-align: top;\n",
       "    }\n",
       "\n",
       "    .dataframe thead th {\n",
       "        text-align: right;\n",
       "    }\n",
       "</style>\n",
       "<table border=\"1\" class=\"dataframe\">\n",
       "  <thead>\n",
       "    <tr style=\"text-align: right;\">\n",
       "      <th></th>\n",
       "      <th></th>\n",
       "      <th>survived</th>\n",
       "    </tr>\n",
       "    <tr>\n",
       "      <th>sex</th>\n",
       "      <th>alone</th>\n",
       "      <th></th>\n",
       "    </tr>\n",
       "  </thead>\n",
       "  <tbody>\n",
       "    <tr>\n",
       "      <th rowspan=\"2\" valign=\"top\">female</th>\n",
       "      <th>False</th>\n",
       "      <td>0.712766</td>\n",
       "    </tr>\n",
       "    <tr>\n",
       "      <th>True</th>\n",
       "      <td>0.785714</td>\n",
       "    </tr>\n",
       "    <tr>\n",
       "      <th rowspan=\"2\" valign=\"top\">male</th>\n",
       "      <th>False</th>\n",
       "      <td>0.271084</td>\n",
       "    </tr>\n",
       "    <tr>\n",
       "      <th>True</th>\n",
       "      <td>0.155718</td>\n",
       "    </tr>\n",
       "  </tbody>\n",
       "</table>\n",
       "</div>"
      ],
      "text/plain": [
       "              survived\n",
       "sex    alone          \n",
       "female False  0.712766\n",
       "       True   0.785714\n",
       "male   False  0.271084\n",
       "       True   0.155718"
      ]
     },
     "execution_count": 430,
     "metadata": {},
     "output_type": "execute_result"
    }
   ],
   "source": [
    "df_titan = pd.read_csv('C:/Users/MANOJ/Downloads/titanic.csv')\n",
    "df_titan.head()\n",
    "\n",
    "df_pivot = df_titan.pivot_table('survived', index=['sex','alone'])\n",
    "df_pivot"
   ]
  },
  {
   "cell_type": "markdown",
   "metadata": {},
   "source": [
    "---------------------------------------------------"
   ]
  },
  {
   "cell_type": "code",
   "execution_count": null,
   "metadata": {},
   "outputs": [],
   "source": [
    "Q129. Write a pandas program to create the Pivot table and find the probability of survival by class, gender, solo boarding, and the port of embarkation."
   ]
  },
  {
   "cell_type": "code",
   "execution_count": 433,
   "metadata": {},
   "outputs": [
    {
     "data": {
      "text/html": [
       "<div>\n",
       "<style scoped>\n",
       "    .dataframe tbody tr th:only-of-type {\n",
       "        vertical-align: middle;\n",
       "    }\n",
       "\n",
       "    .dataframe tbody tr th {\n",
       "        vertical-align: top;\n",
       "    }\n",
       "\n",
       "    .dataframe thead th {\n",
       "        text-align: right;\n",
       "    }\n",
       "</style>\n",
       "<table border=\"1\" class=\"dataframe\">\n",
       "  <thead>\n",
       "    <tr style=\"text-align: right;\">\n",
       "      <th></th>\n",
       "      <th>embark_town</th>\n",
       "      <th>Cherbourg</th>\n",
       "      <th>Queenstown</th>\n",
       "      <th>Southampton</th>\n",
       "    </tr>\n",
       "    <tr>\n",
       "      <th>sex</th>\n",
       "      <th>alone</th>\n",
       "      <th></th>\n",
       "      <th></th>\n",
       "      <th></th>\n",
       "    </tr>\n",
       "  </thead>\n",
       "  <tbody>\n",
       "    <tr>\n",
       "      <th rowspan=\"2\" valign=\"top\">female</th>\n",
       "      <th>False</th>\n",
       "      <td>0.854167</td>\n",
       "      <td>0.666667</td>\n",
       "      <td>0.664122</td>\n",
       "    </tr>\n",
       "    <tr>\n",
       "      <th>True</th>\n",
       "      <td>0.920000</td>\n",
       "      <td>0.777778</td>\n",
       "      <td>0.736111</td>\n",
       "    </tr>\n",
       "    <tr>\n",
       "      <th rowspan=\"2\" valign=\"top\">male</th>\n",
       "      <th>False</th>\n",
       "      <td>0.428571</td>\n",
       "      <td>0.090909</td>\n",
       "      <td>0.241667</td>\n",
       "    </tr>\n",
       "    <tr>\n",
       "      <th>True</th>\n",
       "      <td>0.233333</td>\n",
       "      <td>0.066667</td>\n",
       "      <td>0.149533</td>\n",
       "    </tr>\n",
       "  </tbody>\n",
       "</table>\n",
       "</div>"
      ],
      "text/plain": [
       "embark_town   Cherbourg  \\\n",
       "sex    alone              \n",
       "female False   0.854167   \n",
       "       True    0.920000   \n",
       "male   False   0.428571   \n",
       "       True    0.233333   \n",
       "\n",
       "embark_town   Queenstown  \\\n",
       "sex    alone               \n",
       "female False    0.666667   \n",
       "       True     0.777778   \n",
       "male   False    0.090909   \n",
       "       True     0.066667   \n",
       "\n",
       "embark_town   Southampton  \n",
       "sex    alone               \n",
       "female False     0.664122  \n",
       "       True      0.736111  \n",
       "male   False     0.241667  \n",
       "       True      0.149533  "
      ]
     },
     "execution_count": 433,
     "metadata": {},
     "output_type": "execute_result"
    }
   ],
   "source": [
    "df_titan = pd.read_csv('C:/Users/MANOJ/Downloads/titanic.csv')\n",
    "df_titan.head()\n",
    "\n",
    "df_pivot = df_titan.pivot_table('survived', index=['sex','alone'], columns=['embark_town'])\n",
    "df_pivot"
   ]
  },
  {
   "cell_type": "markdown",
   "metadata": {},
   "source": [
    "------------------------------------------------------"
   ]
  },
  {
   "cell_type": "code",
   "execution_count": null,
   "metadata": {},
   "outputs": [],
   "source": [
    "Q130. Write a pandas program to get current date, oldest date and number of days between Current date and the oldest date of Ufo dataset."
   ]
  },
  {
   "cell_type": "code",
   "execution_count": 2,
   "metadata": {},
   "outputs": [
    {
     "name": "stderr",
     "output_type": "stream",
     "text": [
      "C:\\Users\\MANOJ\\Anaconda3\\lib\\site-packages\\IPython\\core\\interactiveshell.py:2785: DtypeWarning: Columns (0,1,2,3,4,6,7,8) have mixed types. Specify dtype option on import or set low_memory=False.\n",
      "  interactivity=interactivity, compiler=compiler, result=result)\n"
     ]
    },
    {
     "name": "stdout",
     "output_type": "stream",
     "text": [
      "\n",
      "Current date of Ufo dataset:\n",
      "2013-10-11 23:15:00\n",
      "\n",
      "Oldest date of Ufo dataset:\n",
      "1949-10-10 20:30:00\n",
      "\n",
      "Number of days between Current date and oldest date of Ufo dataset:\n",
      "23377 days 02:45:00\n"
     ]
    }
   ],
   "source": [
    "import pandas as pd\n",
    "df_ufo = pd.read_csv('C:/Users/MANOJ/Downloads/ufo.csv')\n",
    "df_ufo.head()\n",
    "df_ufo['datetime'] = df_ufo['datetime'].astype('datetime64')\n",
    "print(\"\\nCurrent date of Ufo dataset:\")\n",
    "print(df_ufo.datetime.max())\n",
    "print(\"\\nOldest date of Ufo dataset:\")\n",
    "print(df_ufo.datetime.min())\n",
    "print(\"\\nNumber of days between Current date and oldest date of Ufo dataset:\")\n",
    "print(df_ufo.datetime.max() - df_ufo.datetime.min())\n",
    "\n"
   ]
  },
  {
   "cell_type": "markdown",
   "metadata": {},
   "source": [
    "----------------------------------------------------"
   ]
  },
  {
   "cell_type": "code",
   "execution_count": null,
   "metadata": {},
   "outputs": [],
   "source": [
    "Q131. Write a pandas program to get all sighting days of the unidentified flying object (ufo) between 1950-10-10 and 1960-10- 10."
   ]
  },
  {
   "cell_type": "code",
   "execution_count": 68,
   "metadata": {},
   "outputs": [
    {
     "name": "stderr",
     "output_type": "stream",
     "text": [
      "C:\\Users\\MANOJ\\Anaconda3\\lib\\site-packages\\IPython\\core\\interactiveshell.py:2785: DtypeWarning: Columns (0,1,2,3,4,6,7,8) have mixed types. Specify dtype option on import or set low_memory=False.\n",
      "  interactivity=interactivity, compiler=compiler, result=result)\n"
     ]
    },
    {
     "name": "stdout",
     "output_type": "stream",
     "text": [
      "\n",
      "Current date of Ufo dataset:\n",
      "1959-10-01 19:00:00\n",
      "\n",
      "Oldest date of Ufo dataset:\n",
      "1952-10-01 03:30:00\n",
      "\n",
      "Number of days between Current date and oldest date of Ufo dataset:\n",
      "3642 days 22:30:00\n"
     ]
    }
   ],
   "source": [
    "import pandas as pd\n",
    "df_ufo = pd.read_csv('C:/Users/MANOJ/Downloads/ufo.csv')\n",
    "df_ufo.head()\n",
    "df_ufo['datetime'] = df_ufo['datetime'].astype('datetime64')\n",
    "\n",
    "period=df_ufo[(df_ufo['datetime']>='10-10-1950 00:00:00') & (df_ufo['datetime']<='10-10-1960 00:00:00')]\n",
    "print(\"\\nCurrent date of Ufo dataset:\")\n",
    "print(period.datetime.max())\n",
    "\n",
    "print(\"\\nOldest date of Ufo dataset:\")\n",
    "print(period.datetime.min())\n",
    "print(\"\\nNumber of days between Current date and oldest date of Ufo dataset:\")\n",
    "print(period.datetime.max() - df_ufo.datetime.min())\n"
   ]
  },
  {
   "cell_type": "markdown",
   "metadata": {},
   "source": [
    "-----------------------------------------------------"
   ]
  },
  {
   "cell_type": "code",
   "execution_count": null,
   "metadata": {},
   "outputs": [],
   "source": [
    "Q132. Write a Pandas program to extract the year, month, day, hour, minute, second, and weekday from unidentified flying object (UFO) reporting date."
   ]
  },
  {
   "cell_type": "code",
   "execution_count": 4,
   "metadata": {},
   "outputs": [
    {
     "name": "stdout",
     "output_type": "stream",
     "text": [
      "\n",
      "Year:\n",
      "0    1949.0\n",
      "1    1949.0\n",
      "2    1955.0\n",
      "Name: datetime, dtype: float64\n",
      "\n",
      "Month:\n",
      "0    10.0\n",
      "1    10.0\n",
      "2    10.0\n",
      "Name: datetime, dtype: float64\n",
      "\n",
      "Day:\n",
      "0    10.0\n",
      "1    10.0\n",
      "2    10.0\n",
      "Name: datetime, dtype: float64\n",
      "\n",
      "Hour:\n",
      "0    20.0\n",
      "1    21.0\n",
      "2    17.0\n",
      "Name: datetime, dtype: float64\n",
      "\n",
      "Minute:\n",
      "0    30.0\n",
      "1     0.0\n",
      "2     0.0\n",
      "Name: datetime, dtype: float64\n",
      "\n",
      "Second:\n",
      "0    0.0\n",
      "1    0.0\n",
      "2    0.0\n",
      "Name: datetime, dtype: float64\n",
      "\n",
      "Weekday:\n",
      "0       Monday\n",
      "1       Monday\n",
      "2       Monday\n",
      "3    Wednesday\n",
      "4       Monday\n",
      "Name: datetime, dtype: object\n"
     ]
    }
   ],
   "source": [
    "print(\"\\nYear:\")\n",
    "print(df_ufo.datetime.dt.year.head(3))\n",
    "print(\"\\nMonth:\")\n",
    "print(df_ufo.datetime.dt.month.head(3))\n",
    "print(\"\\nDay:\")\n",
    "print(df_ufo.datetime.dt.day.head(3))\n",
    "print(\"\\nHour:\")\n",
    "print(df_ufo.datetime.dt.hour.head(3))\n",
    "print(\"\\nMinute:\")\n",
    "print(df_ufo.datetime.dt.minute.head(3))\n",
    "print(\"\\nSecond:\")\n",
    "print(df_ufo.datetime.dt.second.head(3))\n",
    "print(\"\\nWeekday:\")\n",
    "print(df_ufo.datetime.dt.weekday_name.head())"
   ]
  },
  {
   "cell_type": "markdown",
   "metadata": {},
   "source": [
    "----------------------------------"
   ]
  },
  {
   "cell_type": "code",
   "execution_count": null,
   "metadata": {},
   "outputs": [],
   "source": [
    "Q133. Write a pandas program to count year-country wise frequency of reporting dates of the unidentified flying object(UFO)."
   ]
  },
  {
   "cell_type": "code",
   "execution_count": 5,
   "metadata": {},
   "outputs": [
    {
     "name": "stdout",
     "output_type": "stream",
     "text": [
      "\n",
      "Country-year wise frequency of reporting dates of UFO:\n",
      "year    country\n",
      "1949.0  us          1\n",
      "1950.0  us          1\n",
      "1952.0  us          1\n",
      "1954.0  us          1\n",
      "1955.0  gb          1\n",
      "1956.0  us          2\n",
      "1957.0  us          2\n",
      "1959.0  us          1\n",
      "1960.0  us          1\n",
      "1961.0  us          5\n",
      "1965.0  gb          1\n",
      "        us          6\n",
      "1966.0  ca          1\n",
      "        us          6\n",
      "1967.0  us          3\n",
      "1968.0  us          4\n",
      "1969.0  us          1\n",
      "1970.0  ca          1\n",
      "        us          6\n",
      "1971.0  us          3\n",
      "1972.0  us          6\n",
      "1973.0  us         10\n",
      "1974.0  gb          1\n",
      "        us          6\n",
      "1975.0  au          1\n",
      "        us          2\n",
      "1976.0  gb          1\n",
      "        us          5\n",
      "1977.0  us          4\n",
      "1978.0  us          7\n",
      "                   ..\n",
      "2002.0  ca          1\n",
      "        us         36\n",
      "2003.0  ca          2\n",
      "        us         27\n",
      "2004.0  ca          3\n",
      "        gb          1\n",
      "        us         28\n",
      "2005.0  ca          1\n",
      "        gb          4\n",
      "        us         61\n",
      "2006.0  gb          2\n",
      "        us         64\n",
      "2007.0  au          1\n",
      "        ca          2\n",
      "        gb          1\n",
      "        us         37\n",
      "2008.0  ca          2\n",
      "        us         50\n",
      "2009.0  ca          1\n",
      "        us         28\n",
      "2010.0  ca          1\n",
      "        us         37\n",
      "2011.0  ca          2\n",
      "        gb          1\n",
      "        us         36\n",
      "2012.0  ca          1\n",
      "        us         44\n",
      "2013.0  ca          5\n",
      "        gb          1\n",
      "        us         51\n",
      "Length: 98, dtype: int64\n"
     ]
    }
   ],
   "source": [
    "df_ufo[[]]\n",
    "df_ufo['year'] = df_ufo.datetime.dt.year\n",
    "r = df_ufo.groupby(['year', 'country']).size()\n",
    "print(\"\\nCountry-year wise frequency of reporting dates of UFO:\")\n",
    "print(r)"
   ]
  },
  {
   "cell_type": "markdown",
   "metadata": {},
   "source": [
    "--------------------------------------"
   ]
  },
  {
   "cell_type": "code",
   "execution_count": null,
   "metadata": {},
   "outputs": [],
   "source": [
    "Q134. Write a pandas program to get the difference (in days) between documented date and reporting date of unidentified flying object (UFO)."
   ]
  },
  {
   "cell_type": "code",
   "execution_count": 69,
   "metadata": {},
   "outputs": [
    {
     "data": {
      "text/html": [
       "<div>\n",
       "<style scoped>\n",
       "    .dataframe tbody tr th:only-of-type {\n",
       "        vertical-align: middle;\n",
       "    }\n",
       "\n",
       "    .dataframe tbody tr th {\n",
       "        vertical-align: top;\n",
       "    }\n",
       "\n",
       "    .dataframe thead th {\n",
       "        text-align: right;\n",
       "    }\n",
       "</style>\n",
       "<table border=\"1\" class=\"dataframe\">\n",
       "  <thead>\n",
       "    <tr style=\"text-align: right;\">\n",
       "      <th></th>\n",
       "      <th>datetime</th>\n",
       "      <th>city</th>\n",
       "      <th>state</th>\n",
       "      <th>country</th>\n",
       "      <th>shape</th>\n",
       "      <th>duration (seconds)</th>\n",
       "      <th>duration (hours/min)</th>\n",
       "      <th>comments</th>\n",
       "      <th>date posted</th>\n",
       "      <th>latitude</th>\n",
       "      <th>longitude</th>\n",
       "    </tr>\n",
       "  </thead>\n",
       "  <tbody>\n",
       "    <tr>\n",
       "      <th>0</th>\n",
       "      <td>1949-10-10 20:30:00</td>\n",
       "      <td>san marcos</td>\n",
       "      <td>tx</td>\n",
       "      <td>us</td>\n",
       "      <td>cylinder</td>\n",
       "      <td>2700.0</td>\n",
       "      <td>45 minutes</td>\n",
       "      <td>This event took place in early fall around 194...</td>\n",
       "      <td>4/27/2004</td>\n",
       "      <td>29.883056</td>\n",
       "      <td>-97.941111</td>\n",
       "    </tr>\n",
       "    <tr>\n",
       "      <th>1</th>\n",
       "      <td>1949-10-10 21:00:00</td>\n",
       "      <td>lackland afb</td>\n",
       "      <td>tx</td>\n",
       "      <td>NaN</td>\n",
       "      <td>light</td>\n",
       "      <td>7200.0</td>\n",
       "      <td>1-2 hrs</td>\n",
       "      <td>1949 Lackland AFB&amp;#44 TX.  Lights racing acros...</td>\n",
       "      <td>12/16/2005</td>\n",
       "      <td>29.384210</td>\n",
       "      <td>-98.581082</td>\n",
       "    </tr>\n",
       "    <tr>\n",
       "      <th>2</th>\n",
       "      <td>1955-10-10 17:00:00</td>\n",
       "      <td>chester (uk/england)</td>\n",
       "      <td>NaN</td>\n",
       "      <td>gb</td>\n",
       "      <td>circle</td>\n",
       "      <td>20.0</td>\n",
       "      <td>20 seconds</td>\n",
       "      <td>Green/Orange circular disc over Chester&amp;#44 En...</td>\n",
       "      <td>1/21/2008</td>\n",
       "      <td>53.200000</td>\n",
       "      <td>-2.916667</td>\n",
       "    </tr>\n",
       "    <tr>\n",
       "      <th>3</th>\n",
       "      <td>1956-10-10 21:00:00</td>\n",
       "      <td>edna</td>\n",
       "      <td>tx</td>\n",
       "      <td>us</td>\n",
       "      <td>circle</td>\n",
       "      <td>20.0</td>\n",
       "      <td>1/2 hour</td>\n",
       "      <td>My older brother and twin sister were leaving ...</td>\n",
       "      <td>1/17/2004</td>\n",
       "      <td>28.978333</td>\n",
       "      <td>-96.645833</td>\n",
       "    </tr>\n",
       "    <tr>\n",
       "      <th>4</th>\n",
       "      <td>1960-10-10 20:00:00</td>\n",
       "      <td>kaneohe</td>\n",
       "      <td>hi</td>\n",
       "      <td>us</td>\n",
       "      <td>light</td>\n",
       "      <td>900.0</td>\n",
       "      <td>15 minutes</td>\n",
       "      <td>AS a Marine 1st Lt. flying an FJ4B fighter/att...</td>\n",
       "      <td>1/22/2004</td>\n",
       "      <td>21.418056</td>\n",
       "      <td>-157.803611</td>\n",
       "    </tr>\n",
       "  </tbody>\n",
       "</table>\n",
       "</div>"
      ],
      "text/plain": [
       "             datetime                  city state country     shape  \\\n",
       "0 1949-10-10 20:30:00            san marcos    tx      us  cylinder   \n",
       "1 1949-10-10 21:00:00          lackland afb    tx     NaN     light   \n",
       "2 1955-10-10 17:00:00  chester (uk/england)   NaN      gb    circle   \n",
       "3 1956-10-10 21:00:00                  edna    tx      us    circle   \n",
       "4 1960-10-10 20:00:00               kaneohe    hi      us     light   \n",
       "\n",
       "   duration (seconds) duration (hours/min)  \\\n",
       "0              2700.0           45 minutes   \n",
       "1              7200.0              1-2 hrs   \n",
       "2                20.0           20 seconds   \n",
       "3                20.0             1/2 hour   \n",
       "4               900.0           15 minutes   \n",
       "\n",
       "                                            comments date posted   latitude  \\\n",
       "0  This event took place in early fall around 194...   4/27/2004  29.883056   \n",
       "1  1949 Lackland AFB&#44 TX.  Lights racing acros...  12/16/2005  29.384210   \n",
       "2  Green/Orange circular disc over Chester&#44 En...   1/21/2008  53.200000   \n",
       "3  My older brother and twin sister were leaving ...   1/17/2004  28.978333   \n",
       "4  AS a Marine 1st Lt. flying an FJ4B fighter/att...   1/22/2004  21.418056   \n",
       "\n",
       "   longitude   \n",
       "0  -97.941111  \n",
       "1  -98.581082  \n",
       "2   -2.916667  \n",
       "3  -96.645833  \n",
       "4 -157.803611  "
      ]
     },
     "execution_count": 69,
     "metadata": {},
     "output_type": "execute_result"
    }
   ],
   "source": [
    "df_ufo.head()"
   ]
  },
  {
   "cell_type": "code",
   "execution_count": null,
   "metadata": {},
   "outputs": [],
   "source": [
    "Q135. Write a pandas program to generate sequences of fixed- frequency dates and time spans."
   ]
  },
  {
   "cell_type": "code",
   "execution_count": 7,
   "metadata": {},
   "outputs": [
    {
     "name": "stdout",
     "output_type": "stream",
     "text": [
      "Hourly frequency:\n",
      "DatetimeIndex(['1950-01-01 00:00:00', '1950-01-01 01:00:00',\n",
      "               '1950-01-01 02:00:00', '1950-01-01 03:00:00',\n",
      "               '1950-01-01 04:00:00'],\n",
      "              dtype='datetime64[ns]', freq='H')\n",
      "\n",
      "Minutely frequency:\n",
      "DatetimeIndex(['1950-01-01 00:00:00', '1950-01-01 00:01:00',\n",
      "               '1950-01-01 00:02:00', '1950-01-01 00:03:00',\n",
      "               '1950-01-01 00:04:00'],\n",
      "              dtype='datetime64[ns]', freq='T')\n",
      "DatetimeIndex(['1950-01-01 00:00:00', '1950-01-01 00:00:01',\n",
      "               '1950-01-01 00:00:02', '1950-01-01 00:00:03',\n",
      "               '1950-01-01 00:00:04'],\n",
      "              dtype='datetime64[ns]', freq='S')\n"
     ]
    }
   ],
   "source": [
    "dt = pd.date_range('1950-01-01', periods=5, freq='H')\n",
    "print(\"Hourly frequency:\")\n",
    "print(dt)\n",
    "dtm = pd.date_range('1950-01-01', periods=5, freq='min')\n",
    "print(\"\\nMinutely frequency:\")\n",
    "print(dtm)\n",
    "dts = pd.date_range('1950-01-01', periods=5, freq='S')\n",
    "print(dts)"
   ]
  },
  {
   "cell_type": "markdown",
   "metadata": {},
   "source": [
    "----------------------------------"
   ]
  },
  {
   "cell_type": "code",
   "execution_count": null,
   "metadata": {},
   "outputs": [],
   "source": [
    "Q136. Write a pandas program to manipulate and convert date times with timezone information"
   ]
  },
  {
   "cell_type": "code",
   "execution_count": 16,
   "metadata": {},
   "outputs": [
    {
     "name": "stdout",
     "output_type": "stream",
     "text": [
      "DatetimeIndex(['2020-01-01 00:00:00+01:00', '2020-01-01 01:00:00+01:00',\n",
      "               '2020-01-01 02:00:00+01:00'],\n",
      "              dtype='datetime64[ns, CET]', freq='H')\n",
      "\n",
      "From CET to Asia/Calcutta:\n"
     ]
    },
    {
     "data": {
      "text/plain": [
       "DatetimeIndex(['2020-01-01 04:30:00+05:30', '2020-01-01 05:30:00+05:30',\n",
       "               '2020-01-01 06:30:00+05:30'],\n",
       "              dtype='datetime64[ns, Asia/Calcutta]', freq='H')"
      ]
     },
     "execution_count": 16,
     "metadata": {},
     "output_type": "execute_result"
    }
   ],
   "source": [
    "import pandas as pd\n",
    "t = pd.date_range('2020-01-01', periods=3, freq='H')\n",
    "t = t.tz_localize('CET')\n",
    "print(t)\n",
    "print(\"\\nFrom CET to Asia/Calcutta:\")\n",
    "t = t.tz_convert('Asia/Calcutta')\n",
    "t"
   ]
  },
  {
   "cell_type": "markdown",
   "metadata": {},
   "source": [
    "--------------------------------------------"
   ]
  },
  {
   "cell_type": "code",
   "execution_count": null,
   "metadata": {},
   "outputs": [],
   "source": [
    "Q137. Write a pandas program to create the graphical analysis of UFO (unidentified flying object) Sightings year"
   ]
  },
  {
   "cell_type": "code",
   "execution_count": 35,
   "metadata": {},
   "outputs": [
    {
     "data": {
      "text/plain": [
       "Text(0,0.5,'Number of reports')"
      ]
     },
     "execution_count": 35,
     "metadata": {},
     "output_type": "execute_result"
    },
    {
     "data": {
      "image/png": "[encoded data removed]",
      "text/plain": [
       "<Figure size 1080x576 with 1 Axes>"
      ]
     },
     "metadata": {
      "needs_background": "light"
     },
     "output_type": "display_data"
    }
   ],
   "source": [
    "import matplotlib.pyplot as plt\n",
    "import seaborn as sns\n",
    "df_ufo\n",
    "df_ufo['datetime'] = df_ufo['datetime'].astype('datetime64[ns]')\n",
    "df_ufo [\"ufo_yr\"] = df_ufo.datetime.dt.year\n",
    "years_data = df_ufo.ufo_yr.value_counts()\n",
    "years_index = years_data.index  # x ticks\n",
    "\n",
    "plt.figure(figsize=(15,8))\n",
    "\n",
    "\n",
    "years_plot = sns.barplot(x=years_index[:30],y=years_values[:30])\n",
    "plt.title('UFO Sightings by Year')\n",
    "plt.xlabel(\"Year\")\n",
    "plt.ylabel(\"Number of reports\")"
   ]
  },
  {
   "cell_type": "markdown",
   "metadata": {},
   "source": [
    "---------------------------------------------------"
   ]
  },
  {
   "cell_type": "code",
   "execution_count": null,
   "metadata": {},
   "outputs": [],
   "source": [
    "Q138. Write a pandas program to create a comparison of the top 10 years in which the (UFO) was sighted VS each Month"
   ]
  },
  {
   "cell_type": "code",
   "execution_count": 123,
   "metadata": {},
   "outputs": [
    {
     "name": "stdout",
     "output_type": "stream",
     "text": [
      "\n",
      "Comparison of the top 10 years in which the UFO was sighted vs each month:\n",
      "month     10.0\n",
      "datetime      \n",
      "1949         2\n",
      "1950         1\n",
      "1952         2\n",
      "1954         1\n",
      "1955         2\n",
      "1956         2\n",
      "1957         3\n",
      "1959         1\n",
      "1960         1\n",
      "1961         5\n"
     ]
    }
   ],
   "source": [
    "most_sightings_years = df_ufo['datetime'].dt.year.value_counts()\n",
    "def is_top_years(year):\n",
    "    if year in most_sightings_years.index:\n",
    "        return year\n",
    "df_ufo['month']=df_ufo['datetime'].dt.month\n",
    "month_vs_year = df_ufo.pivot_table(columns=df_ufo['month'], index=df_ufo['datetime'].dt.year.apply(is_top_years),aggfunc='count',values='city')\n",
    "\n",
    "month_vs_year.index = month_vs_year.index.astype(int)\n",
    "#month_vs_year.columns = month_vs_year.columns.astype(int)\n",
    "print(\"\\nComparison of the top 10 years in which the UFO was sighted vs each month:\")\n",
    "print(month_vs_year.head(10))\n",
    "\n"
   ]
  },
  {
   "cell_type": "markdown",
   "metadata": {},
   "source": [
    "-----------------------------------------------"
   ]
  },
  {
   "cell_type": "code",
   "execution_count": null,
   "metadata": {},
   "outputs": [],
   "source": [
    "Q139. Write a pandas program to create a heatmap (rectangular data as a colour-encoded matrix) for comparison of top 10 years in which (UFO ) was sighted VS each Month."
   ]
  },
  {
   "cell_type": "code",
   "execution_count": 128,
   "metadata": {},
   "outputs": [
    {
     "name": "stdout",
     "output_type": "stream",
     "text": [
      "\n",
      "Comparison of the top 10 years in which the UFO was sighted vs each month:\n",
      "month     10.0\n",
      "datetime      \n",
      "1949         2\n",
      "1950         1\n",
      "1952         2\n",
      "1954         1\n",
      "1955         2\n",
      "1956         2\n",
      "1957         3\n",
      "1959         1\n",
      "1960         1\n",
      "1961         5\n"
     ]
    },
    {
     "data": {
      "image/png": "[encoded data removed]",
      "text/plain": [
       "<Figure size 720x576 with 2 Axes>"
      ]
     },
     "metadata": {
      "needs_background": "light"
     },
     "output_type": "display_data"
    }
   ],
   "source": [
    "most_sightings_years = df_ufo['datetime'].dt.year.value_counts()\n",
    "def is_top_years(year):\n",
    "    if year in most_sightings_years.index:\n",
    "        return year\n",
    "df_ufo['month']=df_ufo['datetime'].dt.month\n",
    "month_vs_year = df_ufo.pivot_table(columns=df_ufo['month'], index=df_ufo['datetime'].dt.year.apply(is_top_years),aggfunc='count',values='city')\n",
    "\n",
    "month_vs_year.index = month_vs_year.index.astype(int)\n",
    "#month_vs_year.columns = month_vs_year.columns.astype(int)\n",
    "print(\"\\nComparison of the top 10 years in which the UFO was sighted vs each month:\")\n",
    "print(month_vs_year.head(10))\n",
    "\n",
    "plt.figure(figsize=(10,8))\n",
    "ax = sns.heatmap(month_vs_year, vmin=0, vmax=10)\n"
   ]
  },
  {
   "cell_type": "markdown",
   "metadata": {},
   "source": [
    "-----------------------------------------------"
   ]
  },
  {
   "cell_type": "code",
   "execution_count": null,
   "metadata": {},
   "outputs": [],
   "source": [
    "Q141. Write a python program to draw the line using given axis values with the suitable label in the x-axis, y-axis, and a title."
   ]
  },
  {
   "cell_type": "code",
   "execution_count": 133,
   "metadata": {},
   "outputs": [
    {
     "data": {
      "text/plain": [
       "[<matplotlib.lines.Line2D at 0xb840350>]"
      ]
     },
     "execution_count": 133,
     "metadata": {},
     "output_type": "execute_result"
    },
    {
     "data": {
      "image/png": "[encoded data removed]",
      "text/plain": [
       "<Figure size 432x288 with 1 Axes>"
      ]
     },
     "metadata": {
      "needs_background": "light"
     },
     "output_type": "display_data"
    }
   ],
   "source": [
    "plt.plot([1,2,3],[2,4,1])"
   ]
  },
  {
   "cell_type": "markdown",
   "metadata": {},
   "source": [
    "-----------------------------------------"
   ]
  },
  {
   "cell_type": "code",
   "execution_count": null,
   "metadata": {},
   "outputs": [],
   "source": [
    "Q142. Write a python program to draw the line charts of the financial data of the Alphabet Inc., between October."
   ]
  },
  {
   "cell_type": "code",
   "execution_count": 193,
   "metadata": {},
   "outputs": [
    {
     "data": {
      "text/plain": [
       "<matplotlib.axes._subplots.AxesSubplot at 0xb806f70>"
      ]
     },
     "execution_count": 193,
     "metadata": {},
     "output_type": "execute_result"
    },
    {
     "data": {
      "image/png": "[encoded data removed]",
      "text/plain": [
       "<Figure size 432x288 with 1 Axes>"
      ]
     },
     "metadata": {
      "needs_background": "light"
     },
     "output_type": "display_data"
    }
   ],
   "source": [
    "\n",
    "import pandas as pd\n",
    "dfd = pd.read_csv('finance.csv',  parse_dates=True)\n",
    "dfd.head()\n",
    "dfd.plot()"
   ]
  },
  {
   "cell_type": "markdown",
   "metadata": {},
   "source": [
    "------------------------------------------------"
   ]
  },
  {
   "cell_type": "code",
   "execution_count": null,
   "metadata": {},
   "outputs": [],
   "source": [
    "Q143. Write a Python program to plot two or more lines on same plot with the suitable legends of each line."
   ]
  },
  {
   "cell_type": "code",
   "execution_count": 197,
   "metadata": {},
   "outputs": [
    {
     "data": {
      "text/plain": [
       "[<matplotlib.lines.Line2D at 0x6bd0610>,\n",
       " <matplotlib.lines.Line2D at 0x6bd0710>]"
      ]
     },
     "execution_count": 197,
     "metadata": {},
     "output_type": "execute_result"
    },
    {
     "data": {
      "image/png": "[encoded data removed]",
      "text/plain": [
       "<Figure size 432x288 with 1 Axes>"
      ]
     },
     "metadata": {
      "needs_background": "light"
     },
     "output_type": "display_data"
    }
   ],
   "source": [
    "plt.plot([10,20,30],[20,40,10],[10,20,30],[40,10,30])"
   ]
  },
  {
   "cell_type": "markdown",
   "metadata": {},
   "source": [
    "---------------------------------------------------"
   ]
  },
  {
   "cell_type": "code",
   "execution_count": null,
   "metadata": {},
   "outputs": [],
   "source": [
    "Q144. Write a python programming to display a bar chart of the popularity of programming languages."
   ]
  },
  {
   "cell_type": "code",
   "execution_count": 234,
   "metadata": {},
   "outputs": [
    {
     "name": "stderr",
     "output_type": "stream",
     "text": [
      "C:\\Users\\MANOJ\\Anaconda3\\lib\\site-packages\\pandas\\plotting\\_core.py:194: UserWarning: 'colors' is being deprecated. Please use 'color'instead of 'colors'\n",
      "  warnings.warn((\"'colors' is being deprecated. Please use 'color'\"\n"
     ]
    },
    {
     "data": {
      "image/png": "[encoded data removed]",
      "text/plain": [
       "<Figure size 432x288 with 1 Axes>"
      ]
     },
     "metadata": {
      "needs_background": "light"
     },
     "output_type": "display_data"
    }
   ],
   "source": [
    "dff={'pro':['Java', 'Python', 'PHP', 'JavaScript','C#', 'C++'], 'pop':[ 22.2, 17.6, 8.8, 8, 7.7 , 6.7]}\n",
    "type(dff)\n",
    "dfinance = pd.DataFrame(dff)\n",
    "dfinance.plot.bar(x='pro',y='pop', colors='b')\n",
    "plt.xlabel(\"Popularity\")\n",
    "plt.ylabel(\"Languages\")\n",
    "plt.title(\"PopularitY of Programming Language\\n\" + \"Worldwide, Oct 2017 compared to a year ago\")\n",
    "\n",
    "\n",
    "plt.grid(which='major', linestyle='-', linewidth='0.5', color='red')\n",
    "\n",
    "plt.grid(which='minor', linestyle=':', linewidth='0.5', color='black')"
   ]
  },
  {
   "cell_type": "markdown",
   "metadata": {},
   "source": [
    "------------------------------------"
   ]
  },
  {
   "cell_type": "code",
   "execution_count": null,
   "metadata": {},
   "outputs": [],
   "source": [
    "Q145. Write a python programming to display a horizontal bar chart of the popularity of programming languages."
   ]
  },
  {
   "cell_type": "code",
   "execution_count": 235,
   "metadata": {},
   "outputs": [
    {
     "name": "stderr",
     "output_type": "stream",
     "text": [
      "C:\\Users\\MANOJ\\Anaconda3\\lib\\site-packages\\pandas\\plotting\\_core.py:194: UserWarning: 'colors' is being deprecated. Please use 'color'instead of 'colors'\n",
      "  warnings.warn((\"'colors' is being deprecated. Please use 'color'\"\n"
     ]
    },
    {
     "data": {
      "image/png": "[encoded data removed]",
      "text/plain": [
       "<Figure size 432x288 with 1 Axes>"
      ]
     },
     "metadata": {
      "needs_background": "light"
     },
     "output_type": "display_data"
    }
   ],
   "source": [
    "dff={'pro':['Java', 'Python', 'PHP', 'JavaScript','C#', 'C++'], 'pop':[ 22.2, 17.6, 8.8, 8, 7.7 , 6.7]}\n",
    "type(dff)\n",
    "dfinance = pd.DataFrame(dff)\n",
    "dfinance.plot.barh(x='pro',y='pop', colors='g')\n",
    "plt.xlabel(\"Popularity\")\n",
    "plt.ylabel(\"Languages\")\n",
    "plt.title(\"PopularitY of Programming Language\\n\" + \"Worldwide, Oct 2017 compared to a year ago\")\n",
    "\n",
    "\n",
    "plt.grid(which='major', linestyle='-', linewidth='0.5', color='red')\n",
    "\n",
    "plt.grid(which='minor', linestyle=':', linewidth='0.5', color='black')"
   ]
  },
  {
   "cell_type": "markdown",
   "metadata": {},
   "source": [
    "------------------------------"
   ]
  },
  {
   "cell_type": "code",
   "execution_count": null,
   "metadata": {},
   "outputs": [],
   "source": [
    "Q146. Write a python programming to display a bar chart of the Popularity of programming languages. Increase bottom margin"
   ]
  },
  {
   "cell_type": "code",
   "execution_count": 239,
   "metadata": {},
   "outputs": [
    {
     "name": "stderr",
     "output_type": "stream",
     "text": [
      "C:\\Users\\MANOJ\\Anaconda3\\lib\\site-packages\\pandas\\plotting\\_core.py:194: UserWarning: 'colors' is being deprecated. Please use 'color'instead of 'colors'\n",
      "  warnings.warn((\"'colors' is being deprecated. Please use 'color'\"\n"
     ]
    },
    {
     "data": {
      "image/png": "[encoded data removed]",
      "text/plain": [
       "<Figure size 432x288 with 1 Axes>"
      ]
     },
     "metadata": {
      "needs_background": "light"
     },
     "output_type": "display_data"
    }
   ],
   "source": [
    "dff={'pro':['Java', 'Python', 'PHP', 'JavaScript','C#', 'C++'], 'pop':[ 22.2, 17.6, 8.8, 8, 7.7 , 6.7]}\n",
    "type(dff)\n",
    "dfinance = pd.DataFrame(dff)\n",
    "dfinance.plot.bar(x='pro',y='pop', colors=(0.4, 0.6, 0.8, 1.0))\n",
    "plt.xlabel(\"Popularity\")\n",
    "plt.ylabel(\"Languages\")\n",
    "plt.title(\"PopularitY of Programming Language\\n\" + \"Worldwide, Oct 2017 compared to a year ago\")\n",
    "plt.subplots_adjust(bottom=0.4, top=.8)\n",
    "\n",
    "plt.grid(which='major', linestyle='-', linewidth='0.5', color='red')\n",
    "\n",
    "plt.grid(which='minor', linestyle=':', linewidth='0.5', color='black')"
   ]
  },
  {
   "cell_type": "markdown",
   "metadata": {},
   "source": [
    "----------------------------------------------------------"
   ]
  },
  {
   "cell_type": "code",
   "execution_count": null,
   "metadata": {},
   "outputs": [],
   "source": [
    "Q147. Write a python program to create the bar plot from a DataFrame"
   ]
  },
  {
   "cell_type": "code",
   "execution_count": 244,
   "metadata": {},
   "outputs": [
    {
     "data": {
      "image/png": "[encoded data removed]",
      "text/plain": [
       "<Figure size 432x288 with 1 Axes>"
      ]
     },
     "metadata": {
      "needs_background": "light"
     },
     "output_type": "display_data"
    }
   ],
   "source": [
    "a={'a':[4,8,5,7,6],'b':[2,3,4,2,6], 'c':[4,7,4,7,8],'d':[2,6,4,8,6],'e':[2,4,3,3,2]}\n",
    "\n",
    "df=pd.DataFrame(a)\n",
    "df.head()\n",
    "df.plot(kind='bar')\n",
    "plt.grid(which='major', linestyle='-', linewidth='0.5', color='green')\n",
    "plt.grid(which='minor', linestyle=':', linewidth='0.5', color='black')\n"
   ]
  },
  {
   "cell_type": "markdown",
   "metadata": {},
   "source": [
    "---------------------------------------------------------"
   ]
  },
  {
   "cell_type": "code",
   "execution_count": null,
   "metadata": {},
   "outputs": [],
   "source": [
    "Q148. Write a python program to draw the scatter plot comparing two subject marks of Mathematics and Science. Use marks of 10 students."
   ]
  },
  {
   "cell_type": "code",
   "execution_count": 245,
   "metadata": {},
   "outputs": [
    {
     "data": {
      "image/png": "[encoded data removed]",
      "text/plain": [
       "<Figure size 432x288 with 1 Axes>"
      ]
     },
     "metadata": {
      "needs_background": "light"
     },
     "output_type": "display_data"
    }
   ],
   "source": [
    "math_marks = [88, 92, 80, 89, 100, 80, 60, 100, 80, 34]\n",
    "science_marks = [35, 79, 79, 48, 100, 88, 32, 45, 20, 30]\n",
    "marks_range = [10, 20, 30, 40, 50, 60, 70, 80, 90, 100]\n",
    "plt.scatter(marks_range, math_marks, label='Math marks', color='r')\n",
    "plt.scatter(marks_range, science_marks, label='Science marks', color='g')\n",
    "plt.title('Scatter Plot')\n",
    "plt.xlabel('Marks Range')\n",
    "plt.ylabel('Marks Scored')\n",
    "plt.legend()\n",
    "\n"
   ]
  },
  {
   "cell_type": "markdown",
   "metadata": {},
   "source": [
    "----------------------------------------------"
   ]
  },
  {
   "cell_type": "code",
   "execution_count": null,
   "metadata": {},
   "outputs": [],
   "source": [
    "Q149. Write a python program to draw the scatter plot for three different groups comparing weights and heights."
   ]
  },
  {
   "cell_type": "code",
   "execution_count": 254,
   "metadata": {},
   "outputs": [
    {
     "data": {
      "image/png": "[encoded data removed]",
      "text/plain": [
       "<Figure size 432x288 with 1 Axes>"
      ]
     },
     "metadata": {
      "needs_background": "light"
     },
     "output_type": "display_data"
    }
   ],
   "source": [
    "import numpy as np\n",
    "weight=[67,57.2,55.8,61.2,60.45,61,61.9,64,62.1,64.2,62.3,65.4,62.4,61.4,62.5,63.6,71.3,70.8,70,71.1]\n",
    "height=[101.7,98.3,125.1,113.7,157.7,136,148.9,114.9,155.3,151.3,135,195.9,165.1,170.9,192.8,135.4,161.4,235.1,181.1,177.3]\n",
    "\n",
    "plt.scatter(weight, height, color=['red','green','blue'])\n",
    "plt.xlabel('weight')\n",
    "plt.ylabel('height')\n",
    "plt.title('Group wise Weight vs Height scatter plot')\n",
    "plt.show()"
   ]
  },
  {
   "cell_type": "markdown",
   "metadata": {},
   "source": [
    "-----------------------------------------------"
   ]
  },
  {
   "cell_type": "code",
   "execution_count": null,
   "metadata": {},
   "outputs": [],
   "source": [
    "Q150. Write a python program to draw a scatter plot to find sea-level rise in past 100 years."
   ]
  },
  {
   "cell_type": "code",
   "execution_count": null,
   "metadata": {},
   "outputs": [],
   "source": []
  }
 ],
 "metadata": {
  "kernelspec": {
   "display_name": "Python 3",
   "language": "python",
   "name": "python3"
  },
  "language_info": {
   "codemirror_mode": {
    "name": "ipython",
    "version": 3
   },
   "file_extension": ".py",
   "mimetype": "text/x-python",
   "name": "python",
   "nbconvert_exporter": "python",
   "pygments_lexer": "ipython3",
   "version": "3.6.5"
  }
 },
 "nbformat": 4,
 "nbformat_minor": 2
}
