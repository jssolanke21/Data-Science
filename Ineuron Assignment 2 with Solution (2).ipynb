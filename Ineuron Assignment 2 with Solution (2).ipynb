{
 "cells": [
  {
   "cell_type": "markdown",
   "metadata": {},
   "source": [
    "# Ineuron Assignment 2 with Solution"
   ]
  },
  {
   "cell_type": "markdown",
   "metadata": {},
   "source": [
    "Task 1 :\n",
    "\n",
    "Q 1.1. Write a Python Program to implement your own myreduce() function which works exactly like Python's built-in function reduce()"
   ]
  },
  {
   "cell_type": "code",
   "execution_count": 9,
   "metadata": {},
   "outputs": [
    {
     "data": {
      "text/plain": [
       "198"
      ]
     },
     "execution_count": 9,
     "metadata": {},
     "output_type": "execute_result"
    }
   ],
   "source": [
    "##Ans EX. 1\n",
    "# by using reduce function -- \n",
    "#from functools import reduce\n",
    "#reduce(lambda a,b:a+b,[47,11,42,13,85])\n",
    "#84\n",
    "\n",
    "\n",
    "\n",
    "#by using own myreduce function : addition of all elements of list\n",
    "\n",
    "def reduce_seq(x1,x2):\n",
    "        return x1+x2      \n",
    "\n",
    "def myreduce(reduce_seq, sequence):\n",
    "    j=sequence[0]\n",
    "    \n",
    "    for i in sequence[1:]:\n",
    "        seq_sum = reduce_seq(j,i) \n",
    "        j=seq_sum\n",
    "    return seq_sum\n",
    "       \n",
    "       \n",
    "myreduce(reduce_seq, [47,11,42,13,85])\n"
   ]
  },
  {
   "cell_type": "code",
   "execution_count": 138,
   "metadata": {},
   "outputs": [
    {
     "name": "stdout",
     "output_type": "stream",
     "text": [
      "Output of my own myreduce function:  85\n"
     ]
    }
   ],
   "source": [
    "##Ans EX. 2\n",
    "# by using reduce function -- \n",
    "#from functools import reduce\n",
    "#reduce(lambda a,b:a if(a>b) else b, [47,11,42,13,85])\n",
    "#84\n",
    "\n",
    "\n",
    "\n",
    "#by using own myreduce function : to find out max elements from list\n",
    "\n",
    "sequence = [47,11,42,13,85]\n",
    "\n",
    "def reduce_seq(x1,x2):\n",
    "        if x1>x2:\n",
    "            return x1\n",
    "        else:\n",
    "            return x2\n",
    "\n",
    "def myreduce(reduce_seq, sequence):\n",
    "    j=sequence[0]\n",
    "    \n",
    "    for i in sequence[1:]:\n",
    "        seq_sum = reduce_seq(j,i) \n",
    "        j=seq_sum\n",
    "    return seq_sum\n",
    "       \n",
    "       \n",
    "print('Output of my own myreduce function: ',myreduce(reduce_seq, sequence))\n"
   ]
  },
  {
   "cell_type": "markdown",
   "metadata": {},
   "source": [
    "--------------------------------------------------------------------------------------------------------------------------------"
   ]
  },
  {
   "cell_type": "markdown",
   "metadata": {},
   "source": [
    "--------------------------------------------------------------------------------------------------------------------------------"
   ]
  },
  {
   "cell_type": "markdown",
   "metadata": {},
   "source": [
    "Q 1.2. Write a Python program to implement your own myfilter() function which works exactly like Python's built-in function filter()\n",
    "    \n",
    "\n",
    "    \n",
    "  "
   ]
  },
  {
   "cell_type": "code",
   "execution_count": 16,
   "metadata": {},
   "outputs": [
    {
     "data": {
      "text/plain": [
       "[2, 4, 6, 8]"
      ]
     },
     "execution_count": 16,
     "metadata": {},
     "output_type": "execute_result"
    }
   ],
   "source": [
    "#Check even number by using filter function\n",
    "def even_check(num):\n",
    "    if num%2 ==0:\n",
    "        return True\n",
    "\n",
    "list(filter(even_check,[1,2,3,4,5,6,7,8]))"
   ]
  },
  {
   "cell_type": "code",
   "execution_count": 135,
   "metadata": {},
   "outputs": [
    {
     "name": "stdout",
     "output_type": "stream",
     "text": [
      "My own filter function output :  [2, 4, 6, 8]\n"
     ]
    }
   ],
   "source": [
    "#Check even number by using myfilter function\n",
    "\n",
    "lst=[1,2,3,4,5,6,7,8]\n",
    "\n",
    "def even_check(num):\n",
    "    if num%2==0:\n",
    "        return True\n",
    "    \n",
    "\n",
    "def myfilter(even_check,lst):\n",
    "    j=[]\n",
    "    for i in lst:\n",
    "        result = even_check(i)\n",
    "        if True==result:\n",
    "            j.append(i)\n",
    "    return j\n",
    "\n",
    "\n",
    "\n",
    "print(\"My own filter function output : \", myfilter(even_check,lst))\n"
   ]
  },
  {
   "cell_type": "markdown",
   "metadata": {},
   "source": [
    "--------------------------------------------------------------------------------------------------------------------------------"
   ]
  },
  {
   "cell_type": "markdown",
   "metadata": {},
   "source": [
    "--------------------------------------------------------------------------------------------------------------------------------"
   ]
  },
  {
   "cell_type": "markdown",
   "metadata": {},
   "source": [
    "2.\n",
    "Implement List comprehensions to produce the following lists.\n",
    "Write List comprehensions to produce the following Lists\n",
    "\n",
    "['A', 'C', 'A', 'D', 'G', 'I', ’L’, ‘ D’]\n",
    "\n",
    "['x', 'xx', 'xxx', 'xxxx', 'y', 'yy', 'yyy', 'yyyy', 'z', 'zz', 'zzz', 'zzzz']\n",
    "\n",
    "['x', 'y', 'z', 'xx', 'yy', 'zz', 'xx', 'yy', 'zz', 'xxxx', 'yyyy', 'zzzz']\n",
    "\n",
    "[[2], [3], [4], [3], [4], [5], [4], [5], [6]]\n",
    "\n",
    "[[2, 3, 4, 5], [3, 4, 5, 6], [4, 5, 6, 7], [5, 6, 7, 8]]\n",
    "\n",
    "[(1, 1), (2, 1), (3, 1), (1, 2), (2, 2), (3, 2), (1, 3), (2, 3), (3, 3)]"
   ]
  },
  {
   "cell_type": "code",
   "execution_count": 3,
   "metadata": {},
   "outputs": [
    {
     "data": {
      "text/plain": [
       "['A', 'C', 'A', 'D', 'G', 'I', 'L', 'D']"
      ]
     },
     "execution_count": 3,
     "metadata": {},
     "output_type": "execute_result"
    }
   ],
   "source": [
    "[i for i in 'ACADGILD']"
   ]
  },
  {
   "cell_type": "code",
   "execution_count": 4,
   "metadata": {},
   "outputs": [
    {
     "data": {
      "text/plain": [
       "['x', 'xx', 'xxx', 'xxxx', 'y', 'yy', 'yyy', 'yyyy', 'z', 'zz', 'zzz', 'zzzz']"
      ]
     },
     "execution_count": 4,
     "metadata": {},
     "output_type": "execute_result"
    }
   ],
   "source": [
    "[i*j for i in 'xyz' for j in range(1,5) ]"
   ]
  },
  {
   "cell_type": "code",
   "execution_count": 5,
   "metadata": {},
   "outputs": [
    {
     "data": {
      "text/plain": [
       "['x', 'y', 'z', 'xx', 'yy', 'zz', 'xxx', 'yyy', 'zzz', 'xxxx', 'yyyy', 'zzzz']"
      ]
     },
     "execution_count": 5,
     "metadata": {},
     "output_type": "execute_result"
    }
   ],
   "source": [
    "[i*j for j in range(1,5) for i in 'xyz' ]"
   ]
  },
  {
   "cell_type": "code",
   "execution_count": 27,
   "metadata": {},
   "outputs": [
    {
     "data": {
      "text/plain": [
       "[[2], [3], [4], [3], [4], [5], [4], [5], [6]]"
      ]
     },
     "execution_count": 27,
     "metadata": {},
     "output_type": "execute_result"
    }
   ],
   "source": [
    "[[i+j] for i in range(2,5) for j in range(3)]"
   ]
  },
  {
   "cell_type": "code",
   "execution_count": 65,
   "metadata": {},
   "outputs": [
    {
     "data": {
      "text/plain": [
       "[[2, 3, 4, 5], [3, 4, 5, 6], [4, 5, 6, 7], [5, 6, 7, 8]]"
      ]
     },
     "execution_count": 65,
     "metadata": {},
     "output_type": "execute_result"
    }
   ],
   "source": [
    "[[i+j for i in range(2,6) ]  for j in range(4) ]"
   ]
  },
  {
   "cell_type": "code",
   "execution_count": 69,
   "metadata": {},
   "outputs": [
    {
     "data": {
      "text/plain": [
       "[(1, 1), (2, 1), (3, 1), (1, 2), (2, 2), (3, 2), (1, 3), (2, 3), (3, 3)]"
      ]
     },
     "execution_count": 69,
     "metadata": {},
     "output_type": "execute_result"
    }
   ],
   "source": [
    "[(j,i) for i in range(1,4) for j in range(1,4)]"
   ]
  },
  {
   "cell_type": "markdown",
   "metadata": {},
   "source": [
    "--------------------------------------------------------------------------------------------------------------------------------"
   ]
  },
  {
   "cell_type": "markdown",
   "metadata": {},
   "source": [
    "--------------------------------------------------------------------------------------------------------------------------------"
   ]
  },
  {
   "cell_type": "markdown",
   "metadata": {},
   "source": [
    "Q 3. Implement a function longestWord() that takes a list of words and returns the longest one."
   ]
  },
  {
   "cell_type": "code",
   "execution_count": 132,
   "metadata": {},
   "outputs": [
    {
     "name": "stdout",
     "output_type": "stream",
     "text": [
      "Longest word in my list : ['jagdish-solanke']\n"
     ]
    }
   ],
   "source": [
    "lst = ['jagdish-solanke','will','become','great','data-scientist']\n",
    "longest_word=[]\n",
    "\n",
    "def longestword(lst):\n",
    "    j='a'\n",
    "    for i in lst:\n",
    "        if len(i)>len(j):\n",
    "            j=i\n",
    "    longest_word.append(j)  \n",
    "\n",
    "longestword(lst)\n",
    "print('Longest word in my list :',longest_word)"
   ]
  },
  {
   "cell_type": "markdown",
   "metadata": {},
   "source": [
    "--------------------------------------------------------------------------------------------------------------------------------"
   ]
  },
  {
   "cell_type": "markdown",
   "metadata": {},
   "source": [
    "# Task 2:"
   ]
  },
  {
   "cell_type": "markdown",
   "metadata": {},
   "source": [
    "Q 1.1 Write a Python Program(with class concepts) to find the area of the triangle using the below formula.\n",
    "area = (s*(s-a)*(s-b)*(s-c)) ** 0.5\n",
    "Function to take the length of the sides of triangle from user should be defined in the parent\n",
    "class and function to calculate the area should be defined in subclass"
   ]
  },
  {
   "cell_type": "code",
   "execution_count": 120,
   "metadata": {},
   "outputs": [
    {
     "name": "stdout",
     "output_type": "stream",
     "text": [
      "Enter Value of triangle side a : 4\n",
      "Enter Value of triangle side b : 5\n",
      "Enter Value of triangle side c : 6\n",
      "Area of Triangle: 9.921567416492215\n"
     ]
    }
   ],
   "source": [
    "class Area:\n",
    "    def __init__ (self, a, b, c ):\n",
    "        self.a1=a\n",
    "        self.b1=b\n",
    "        self.c1=c\n",
    "\n",
    "class Triangle_area(Area):\n",
    "    def __init__(self, a, b, c ):\n",
    "        super(Triangle_area, self).__init__(a, b, c )\n",
    "    \n",
    "    def calc_area(self):\n",
    "        s= (self.a1+self.b1+self.c1)/2\n",
    "        \n",
    "        return (s*(s-self.a1)*(s-self.b1)*(s-self.c1)) ** 0.5\n",
    "        \n",
    "\n",
    "Triangle = Triangle_area(a=int(input('Enter Value of triangle side a : ')),\n",
    "                         b=int(input('Enter Value of triangle side b : ')),\n",
    "                         c=int(input('Enter Value of triangle side c : ')) )\n",
    "\n",
    "print(\"Area of Triangle:\", Triangle.calc_area())\n"
   ]
  },
  {
   "cell_type": "markdown",
   "metadata": {},
   "source": [
    "--------------------------------------------------------------------------------------------------------------------------------"
   ]
  },
  {
   "cell_type": "markdown",
   "metadata": {},
   "source": [
    "Q 1.2 Write a function filter_long_words() that takes a list of words and an integer n and returns the list of words that are longer than n."
   ]
  },
  {
   "cell_type": "code",
   "execution_count": 129,
   "metadata": {},
   "outputs": [
    {
     "name": "stdout",
     "output_type": "stream",
     "text": [
      "Long words in list ['scripting', 'programming', 'language']\n"
     ]
    }
   ],
   "source": [
    "lst=['Python', 'is', 'scripting', 'and', 'programming', 'language']\n",
    "n=7\n",
    "j=[]\n",
    "\n",
    "def filter_long_words(lst,n):\n",
    "    \n",
    "    for i in lst:\n",
    "        if len(i)>n:\n",
    "            j.append(i)\n",
    "       \n",
    "\n",
    "filter_long_words(lst,n)\n",
    "\n",
    "print(\"Long words in list\",j)"
   ]
  },
  {
   "cell_type": "markdown",
   "metadata": {},
   "source": [
    "--------------------------------------------------------------------------------------------------------------------------------"
   ]
  },
  {
   "cell_type": "markdown",
   "metadata": {},
   "source": [
    "Q 2.1\n",
    "Write a Python program using function concept that maps list of words into a list of integers representing the lengths of the corresponding words .\n",
    "Hint: If a list [ ab,cde,erty] is passed on to the python function output should come as [2,3,4]\n",
    "Here 2,3 and 4 are the lengths of the words in the list"
   ]
  },
  {
   "cell_type": "code",
   "execution_count": 131,
   "metadata": {},
   "outputs": [
    {
     "name": "stdout",
     "output_type": "stream",
     "text": [
      "Count of each word: [8, 2, 5, 6, 6]\n"
     ]
    }
   ],
   "source": [
    "words=['function','to','count','length','of' 'word']\n",
    "word_lenght=[]\n",
    "def word_count(lst):\n",
    "    for i in lst:\n",
    "        word_lenght.append(len(i))\n",
    "        \n",
    "word_count (words)\n",
    "print(\"Count of each word:\",word_lenght)"
   ]
  },
  {
   "cell_type": "markdown",
   "metadata": {},
   "source": [
    "--------------------------------------------------------------------------------------------------------------------------------"
   ]
  },
  {
   "cell_type": "markdown",
   "metadata": {},
   "source": [
    "Q 2.2 Write a Python function which takes a character (i.e. a string of length 1) and returns True if it is\n",
    "a vowel, False otherwise"
   ]
  },
  {
   "cell_type": "code",
   "execution_count": 147,
   "metadata": {},
   "outputs": [
    {
     "data": {
      "text/plain": [
       "True"
      ]
     },
     "execution_count": 147,
     "metadata": {},
     "output_type": "execute_result"
    }
   ],
   "source": [
    "\n",
    "vowel=('a','e','i','o','u')\n",
    "\n",
    "def check_vowel(char):\n",
    "    if char in vowel:\n",
    "        return True\n",
    "    else:\n",
    "        return False\n",
    "\n",
    "check_vowel('i')        "
   ]
  }
 ],
 "metadata": {
  "kernelspec": {
   "display_name": "Python 3",
   "language": "python",
   "name": "python3"
  },
  "language_info": {
   "codemirror_mode": {
    "name": "ipython",
    "version": 3
   },
   "file_extension": ".py",
   "mimetype": "text/x-python",
   "name": "python",
   "nbconvert_exporter": "python",
   "pygments_lexer": "ipython3",
   "version": "3.6.5"
  }
 },
 "nbformat": 4,
 "nbformat_minor": 2
}
