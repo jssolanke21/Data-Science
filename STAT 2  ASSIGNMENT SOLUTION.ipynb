{
 "cells": [
  {
   "cell_type": "markdown",
   "metadata": {},
   "source": [
    "# Problem Statement 1:"
   ]
  },
  {
   "cell_type": "markdown",
   "metadata": {},
   "source": [
    "A test is conducted which is consisting of 20 MCQs (multiple choices questions) with every\n",
    "MCQ having its four options out of which only one is correct. Determine the probability that\n",
    "a person undertaking that test has answered exactly 5 questions wrong."
   ]
  },
  {
   "cell_type": "markdown",
   "metadata": {},
   "source": [
    "Total 20 MCQ\n",
    "Every MCQ has 4 option with only one correct \n",
    "\n",
    "Probability of choosing correct answer is 1/4=0.25\n",
    "\n",
    "Probability of choosing incorrect answer is 1-1/4=3/4=0.75\n",
    "\n",
    "Find out the probability of person has answered 5 question wrong\n",
    "\n",
    "\n",
    "Binomial distribution [n=20, p=0.25, q=0.75]\n",
    "\n",
    "P(15 correct ; 5 wrong)\n",
    "\n",
    "P(x) = nCx * p^x * (1 – p)^(n – x) \n",
    "\n",
    "= 20C5 × (0.25)^15 × (0.75)5\n",
    "= 0.0000034265\n",
    "\n",
    "Probabilty is  0.0000034265"
   ]
  },
  {
   "cell_type": "markdown",
   "metadata": {},
   "source": [
    "-------------------------------------------------------------------------------------------------------------------------------"
   ]
  },
  {
   "cell_type": "markdown",
   "metadata": {},
   "source": [
    "# Problem Statement 2:\n",
    "    \n",
    "A die marked A to E is rolled 50 times. Find the probability of getting a “D” exactly\n",
    "5 times"
   ]
  },
  {
   "cell_type": "markdown",
   "metadata": {},
   "source": [
    "\n",
    "probability of getting a D  = 1/5\n",
    "probability of getting a non-D  = 1-(1/5) = 4/5\n",
    "Total number of  trials = 50\n",
    "successful trials = 5\n",
    "\n",
    "According to Binomial distribution:\n",
    "\n",
    "P(x) = nCx * p^x * (1 – p)^(n – x) \n",
    "    = 50C5 * (1/5)^5 * (4/5)^45\n",
    "    \n",
    "Probability is =0.02953120"
   ]
  },
  {
   "cell_type": "markdown",
   "metadata": {},
   "source": [
    "-----------------------------------------------------------------------------------------------------------------------------"
   ]
  },
  {
   "cell_type": "markdown",
   "metadata": {},
   "source": [
    "# Problem Statement 3:\n",
    "    \n",
    "Two balls are drawn at random in succession without replacement from an urn\n",
    "containing 4 red balls and 6 black balls.\n",
    "Find the probabilities of all the possible outcomes"
   ]
  },
  {
   "cell_type": "markdown",
   "metadata": {},
   "source": [
    "red balls = 4\n",
    "black balls = 6\n",
    "\n",
    "possible outcome = RR,RB,BR,BB\n",
    "\n",
    "possibility of two red balls = 4C2 / 10C2 = 6/45 = 0.133\n",
    "\n",
    "possibility of two black balls = 6C2 / 10C2 = 15/45 = 0.333\n",
    "\n",
    "possibility of one black and one red balls = (6C1*4C1) / 10C2 = 0.53"
   ]
  }
 ],
 "metadata": {
  "kernelspec": {
   "display_name": "Python 3",
   "language": "python",
   "name": "python3"
  },
  "language_info": {
   "codemirror_mode": {
    "name": "ipython",
    "version": 3
   },
   "file_extension": ".py",
   "mimetype": "text/x-python",
   "name": "python",
   "nbconvert_exporter": "python",
   "pygments_lexer": "ipython3",
   "version": "3.7.6"
  }
 },
 "nbformat": 4,
 "nbformat_minor": 4
}
