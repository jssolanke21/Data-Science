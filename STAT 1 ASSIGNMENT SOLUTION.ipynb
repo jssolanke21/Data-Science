{
 "cells": [
  {
   "cell_type": "markdown",
   "metadata": {},
   "source": [
    "Problem Statement 1:\n",
    "\n",
    "You survey households in your area to find the average rent they are paying. Find the\n",
    "standard deviation from the following data:\n",
    "\n",
    "$1550, $1700, $900, $850, $1000, $950."
   ]
  },
  {
   "cell_type": "markdown",
   "metadata": {},
   "source": [
    "Standard Deviation σ = √Σ(x-μ)2/N\n",
    "\n",
    " μ = 1158.33\n",
    " \n",
    "    Σ(x-μ)2 =677083.33\n",
    "    \n",
    "    variance = 11284722.22\n",
    "    \n",
    "Standard Deviation σ = 335.92"
   ]
  },
  {
   "cell_type": "markdown",
   "metadata": {},
   "source": [
    "SOLUTION :: "
   ]
  },
  {
   "cell_type": "markdown",
   "metadata": {},
   "source": [
    "<img src=\"sd.png\" width=\"400\" height=\"400\">"
   ]
  },
  {
   "cell_type": "markdown",
   "metadata": {},
   "source": [
    "-----------------------------------------------------------------------------------------------------------------------------"
   ]
  },
  {
   "cell_type": "markdown",
   "metadata": {},
   "source": [
    "Problem Statement 2:\n",
    "\n",
    "Find the variance for the following set of data representing trees in California (heights in\n",
    "feet):\n",
    "\n",
    "3, 21, 98, 203, 17, 9"
   ]
  },
  {
   "cell_type": "markdown",
   "metadata": {},
   "source": [
    "Solution ::\n",
    "\n",
    "Variance σ² = Σ(x-μ)2/N\n",
    "\n",
    " μ=3+21+98+203+17+9/6\n",
    "    = 358/6\n",
    "    = 58.5\n",
    "\n",
    "    Σ(x-μ)2= 31099.5\n",
    "\n",
    "Variance σ² = 5183.25"
   ]
  },
  {
   "cell_type": "markdown",
   "metadata": {},
   "source": [
    "<img src=\"variance.jpeg\" width=\"500\" height=\"400\" style=\"transform: rotate(90deg); width:500px\">"
   ]
  },
  {
   "cell_type": "markdown",
   "metadata": {},
   "source": [
    "----------------------------------------------------------------------------------------------------------------------------"
   ]
  },
  {
   "cell_type": "markdown",
   "metadata": {},
   "source": [
    "Problem Statement 3:\n",
    "    \n",
    "In a class on 100 students, 80 students passed in all subjects, 10 failed in one subject, 7\n",
    "failed in two subjects and 3 failed in three subjects. Find the probability distribution of\n",
    "the variable for number of subjects a student from the given class has failed in."
   ]
  },
  {
   "cell_type": "markdown",
   "metadata": {},
   "source": [
    "Let X = in number of subject student failed\n",
    "\n",
    "p(x) = Probability of student failed in X subject\n",
    "\n",
    "X  |  f(x)\n",
    "\n",
    "0  | 80/100 \n",
    "\n",
    "1  | 10/100\n",
    "\n",
    "2  | 7/100\n",
    "\n",
    "3  | 3/100\n",
    "\n",
    "Probability distribution is \n",
    "p(X=0)=0.8\n",
    "\n",
    "p(X=1)=0.1\n",
    "\n",
    "p(X=2)=0.07\n",
    "\n",
    "p(X=3)=0.03\n",
    "\n",
    "Failed in most of subject\n",
    "p(X<=2) = f(0)+f(1)+f(2)\n",
    "        =  0.8+0.1+0.07 =0.97"
   ]
  },
  {
   "cell_type": "code",
   "execution_count": 35,
   "metadata": {},
   "outputs": [
    {
     "data": {
      "text/plain": [
       "'C:\\\\Users\\\\Jagdish\\\\Downloads\\\\Ineuron\\\\Assignment\\\\STAT'"
      ]
     },
     "execution_count": 35,
     "metadata": {},
     "output_type": "execute_result"
    }
   ],
   "source": [
    "pwd"
   ]
  }
 ],
 "metadata": {
  "kernelspec": {
   "display_name": "Python 3",
   "language": "python",
   "name": "python3"
  },
  "language_info": {
   "codemirror_mode": {
    "name": "ipython",
    "version": 3
   },
   "file_extension": ".py",
   "mimetype": "text/x-python",
   "name": "python",
   "nbconvert_exporter": "python",
   "pygments_lexer": "ipython3",
   "version": "3.7.6"
  }
 },
 "nbformat": 4,
 "nbformat_minor": 4
}
