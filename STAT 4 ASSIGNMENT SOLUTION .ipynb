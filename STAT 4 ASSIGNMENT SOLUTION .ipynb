{
 "cells": [
  {
   "cell_type": "markdown",
   "metadata": {},
   "source": [
    "# Problem Statement 1:\n",
    "Is gender independent of education level? A random sample of 395 people were\n",
    "surveyed and each person was asked to report the highest education level they\n",
    "obtained. The data that resulted from the survey is summarized in the following table:\n",
    "High School Bachelors Masters Ph.d. Total\n",
    "Female 60 54 46 41 201\n",
    "Male 40 44 53 57 194\n",
    "Total 100 98 99 98 395\n",
    "Question: Are gender and education level dependent at 5% level of significance? In\n",
    "other words, given the data collected above, is there a relationship between the\n",
    "gender of an individual and the level of education that they have obtained"
   ]
  },
  {
   "attachments": {
    "image.png": {
     "image/png": "[encoded data removed]"
    }
   },
   "cell_type": "markdown",
   "metadata": {},
   "source": [
    "SOLUTION :\n",
    "\n",
    "Chi-square test Formula\n",
    "\n",
    "x² =Σ(O-E)²/E\n",
    "O - Obsered frequency\n",
    "E - is Expected frequency\n",
    "\n",
    "Observed value frequency\n",
    "\n",
    "![image.png](attachment:image.png)\n",
    "\n",
    "Observed Frequency has given and now we will find expected frequency for each value.\n",
    "\n",
    "1st row ,1st column value is = 201*100/395\n",
    "\n",
    "Below expected frequency value table\n",
    "\n",
    "![image.png](attachment:image.png)\n",
    "\n",
    "\n",
    "x²=(60−50.886)2/50.886+⋯+(57−48.132)2/48.132=8.006χ2=(60−50.886)2/50.886+⋯+(57−48.132)2/48.132\n",
    "x² = 8.006 \n",
    "\n",
    "Now we will find degree of freedom\n",
    "\n",
    "v = (m-1)*(n-1)=(2-1)*(4-1)=3\n",
    "\n",
    "The tabulated value of χ2 with 3 degree of freedom is 7.815. \n",
    " 8.006 > 7.815, \n",
    "so  we reject the null hypothesis and conclude that the education level depends on gender at a 5% level of\n",
    "significance"
   ]
  },
  {
   "cell_type": "markdown",
   "metadata": {},
   "source": [
    "-------------------------------------------------------------------------------------------------------------------------------"
   ]
  },
  {
   "cell_type": "markdown",
   "metadata": {},
   "source": [
    "# Problem Statement 2:\n",
    "Using the following data, perform a oneway analysis of variance using α=.05. Write\n",
    "up the results in APA format.\n",
    "[Group1: 51, 45, 33, 45, 67]\n",
    "[Group2: 23, 43, 23, 43, 45]\n",
    "[Group3: 56, 76, 74, 87, 56]"
   ]
  },
  {
   "cell_type": "markdown",
   "metadata": {},
   "source": [
    "SOLUTION : \n",
    "    \n",
    "α = 0.05\n",
    "SStotal = SS(bet) + SS(within)\n",
    "\n",
    "degrees of freedom are\n",
    "dftotal = n – 1 = 15 – 1 = 14\n",
    "dfwithin = n – k = 15 – 3 = 12\n",
    "dfbetween = k – 1 = 3 – 1 = 2\n",
    "\n",
    "calculated below\n",
    "SS(between) = 3022\n",
    "SS(within) = 1860\n",
    "SS(total)\n",
    "\n",
    "MEAN SQUARED(between) = SS(bet)/df(between) = 3022/2 = 1511.47\n",
    "MS (within) = SS(within)/df(within) = 1860/12 = 155.07\n",
    "\n",
    "calculate the F statistic using MSB and MSW\n",
    "F= MSB/MSW = 1511.47/155.07 = 9.75\n",
    "\n",
    "From the table of F distribution, the critical value of F for 0.05 significance and degrees of freedom of(df1 = 12 and df2 = 2) we have:\n",
    "\n",
    "F = 3.89\n",
    "\n",
    "the calculated(absolute value) of F is greater than the tabulated value, we reject the null hypothesis and conclude that at least two of the means are significantly different from each other"
   ]
  },
  {
   "cell_type": "markdown",
   "metadata": {},
   "source": [
    "--------------------------------------------------------------------------------------------------------------------------"
   ]
  },
  {
   "cell_type": "markdown",
   "metadata": {},
   "source": [
    "# Problem Statement 3:\n",
    "Calculate F Test for given 10, 20, 30, 40, 50 and 5,10,15, 20, 25.\n",
    "For 10, 20, 30, 40, 50:"
   ]
  },
  {
   "cell_type": "markdown",
   "metadata": {},
   "source": [
    "SOLUTION:\n",
    "\n",
    "FValue = Large sample variance / Small sample variance \n",
    "H0 = σ2 = σ2\n",
    "H1: σ2 ≠  σ2\n",
    "    \n",
    "A = 10, 20, 30, 40, 50\n",
    "B = 5,10,15, 20, 25\n",
    "\n",
    "Degree of freedom is 4\n",
    "\n",
    "variance of A = 250\n",
    "variance of B = 62.5\n",
    "\n",
    "F-Test = variance of A/variance of B = 250 / 62.5 = 4\n",
    "\n",
    "F value from table 15.97\n",
    "\n",
    "F critical is greater than the F value, we cannot reject the null hypothesis\n",
    "15.97 > 4\n"
   ]
  }
 ],
 "metadata": {
  "kernelspec": {
   "display_name": "Python 3",
   "language": "python",
   "name": "python3"
  },
  "language_info": {
   "codemirror_mode": {
    "name": "ipython",
    "version": 3
   },
   "file_extension": ".py",
   "mimetype": "text/x-python",
   "name": "python",
   "nbconvert_exporter": "python",
   "pygments_lexer": "ipython3",
   "version": "3.7.6"
  }
 },
 "nbformat": 4,
 "nbformat_minor": 4
}
